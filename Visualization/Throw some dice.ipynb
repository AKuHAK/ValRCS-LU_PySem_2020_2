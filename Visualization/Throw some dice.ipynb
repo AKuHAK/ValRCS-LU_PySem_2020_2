{
 "cells": [
  {
   "cell_type": "code",
   "execution_count": null,
   "metadata": {},
   "outputs": [],
   "source": [
    "# Class practice\n",
    "# Make a list of 10000 dice throws (of 2 dice each)\n",
    "# so meaning from 2 to 12\n",
    "# lets plot a histogram, matplotlib or plotly"
   ]
  },
  {
   "cell_type": "code",
   "execution_count": 1,
   "metadata": {},
   "outputs": [],
   "source": [
    "import random\n",
    "import matplotlib.pyplot as plt\n",
    "import plotly.graph_objects as go"
   ]
  },
  {
   "cell_type": "code",
   "execution_count": 9,
   "metadata": {},
   "outputs": [
    {
     "data": {
      "text/plain": [
       "5"
      ]
     },
     "execution_count": 9,
     "metadata": {},
     "output_type": "execute_result"
    }
   ],
   "source": [
    "random.randint(1,6) # rare case of end being inclusive"
   ]
  },
  {
   "cell_type": "code",
   "execution_count": 10,
   "metadata": {},
   "outputs": [
    {
     "data": {
      "text/plain": [
       "[12, 8, 7, 7, 9, 5, 6, 9, 3, 6, 8, 7, 4, 9, 6, 6, 6, 9, 6, 12]"
      ]
     },
     "execution_count": 10,
     "metadata": {},
     "output_type": "execute_result"
    }
   ],
   "source": [
    "my_randoms = [random.randint(1,6)+random.randint(1,6) for _ in range(10_000)]\n",
    "my_randoms[:20]"
   ]
  },
  {
   "cell_type": "code",
   "execution_count": 12,
   "metadata": {},
   "outputs": [
    {
     "data": {
      "image/png": "[encoded data removed]",
      "text/plain": [
       "<Figure size 432x288 with 1 Axes>"
      ]
     },
     "metadata": {
      "needs_background": "light"
     },
     "output_type": "display_data"
    }
   ],
   "source": [
    "plt.hist(my_randoms,bins = len(set(my_randoms)))\n",
    "plt.show()"
   ]
  },
  {
   "cell_type": "code",
   "execution_count": 13,
   "metadata": {},
   "outputs": [],
   "source": [
    "def get_random_dice(num_dice = 2, num_throws = 10_000):\n",
    "    return [sum([random.randint(1,6) for _ in range(num_dice)]) for _ in range(num_throws)]"
   ]
  },
  {
   "cell_type": "code",
   "execution_count": 17,
   "metadata": {},
   "outputs": [
    {
     "data": {
      "text/plain": [
       "[18,\n",
       " 7,\n",
       " 17,\n",
       " 11,\n",
       " 14,\n",
       " 19,\n",
       " 20,\n",
       " 15,\n",
       " 12,\n",
       " 13,\n",
       " 14,\n",
       " 16,\n",
       " 16,\n",
       " 9,\n",
       " 10,\n",
       " 15,\n",
       " 12,\n",
       " 15,\n",
       " 17,\n",
       " 13,\n",
       " 12,\n",
       " 14,\n",
       " 15,\n",
       " 13,\n",
       " 15,\n",
       " 14,\n",
       " 16,\n",
       " 10,\n",
       " 13,\n",
       " 14]"
      ]
     },
     "execution_count": 17,
     "metadata": {},
     "output_type": "execute_result"
    }
   ],
   "source": [
    "get_random_dice(4, 30)"
   ]
  },
  {
   "cell_type": "code",
   "execution_count": 25,
   "metadata": {},
   "outputs": [],
   "source": [
    "def plot_hist(num_dice = 2, num_throws = 10_000):\n",
    "    num_list = get_random_dice(num_dice, num_throws)\n",
    "#     plt.hist(num_list, bins = len(set(num_list)))\n",
    "#     plt.show()\n",
    "    fig = go.Figure(data=[go.Histogram(x=num_list)])\n",
    "    fig.show()"
   ]
  },
  {
   "cell_type": "code",
   "execution_count": 19,
   "metadata": {},
   "outputs": [],
   "source": [
    "from __future__ import print_function\n",
    "from ipywidgets import interact, interactive, fixed, interact_manual\n",
    "import ipywidgets as widgets"
   ]
  },
  {
   "cell_type": "code",
   "execution_count": 26,
   "metadata": {},
   "outputs": [
    {
     "data": {
      "application/vnd.jupyter.widget-view+json": {
       "model_id": "9e0f031dbe554f89a942c4442ab5ddbf",
       "version_major": 2,
       "version_minor": 0
      },
      "text/plain": [
       "interactive(children=(IntSlider(value=2, description='num_dice', max=10, min=1), IntSlider(value=10000, descri…"
      ]
     },
     "metadata": {},
     "output_type": "display_data"
    },
    {
     "data": {
      "text/plain": [
       "<function __main__.plot_hist(num_dice=2, num_throws=10000)>"
      ]
     },
     "execution_count": 26,
     "metadata": {},
     "output_type": "execute_result"
    }
   ],
   "source": [
    "interact_manual(plot_hist, num_dice=(1,10,1), num_throws = (1000,1_000_000,1000))"
   ]
  }
 ],
 "metadata": {
  "kernelspec": {
   "display_name": "Python 3",
   "language": "python",
   "name": "python3"
  },
  "language_info": {
   "codemirror_mode": {
    "name": "ipython",
    "version": 3
   },
   "file_extension": ".py",
   "mimetype": "text/x-python",
   "name": "python",
   "nbconvert_exporter": "python",
   "pygments_lexer": "ipython3",
   "version": "3.8.3"
  }
 },
 "nbformat": 4,
 "nbformat_minor": 4
}
