{
 "cells": [
  {
   "cell_type": "code",
   "execution_count": 1,
   "metadata": {},
   "outputs": [],
   "source": [
    "# Requests for handling HTTP get and other requests\n",
    "import requests\n",
    "import time\n",
    "import pandas as pd\n",
    "# from BeautifulSoup4 import BeatifulSoup if installed through pip install BeautifulSoup4\n",
    "# \n",
    "from bs4 import BeautifulSoup # bs4 is used for parsing our html\n"
   ]
  },
  {
   "cell_type": "code",
   "execution_count": null,
   "metadata": {},
   "outputs": [],
   "source": [
    "!pip install beatifulsoup4"
   ]
  },
  {
   "cell_type": "code",
   "execution_count": 2,
   "metadata": {},
   "outputs": [],
   "source": [
    "maskavas = \"https://www.ss.com/lv/real-estate/flats/riga/maskavas-priekshpilseta/sell/\"\n",
    "centrs = \"https://www.ss.com/lv/real-estate/flats/riga/centre/sell/\""
   ]
  },
  {
   "cell_type": "code",
   "execution_count": 3,
   "metadata": {},
   "outputs": [
    {
     "data": {
      "text/plain": [
       "list"
      ]
     },
     "execution_count": 3,
     "metadata": {},
     "output_type": "execute_result"
    }
   ],
   "source": [
    "dflist = pd.read_html(maskavas) # pandas attempts to read all tables on the url so dflist\n",
    "type(dflist)"
   ]
  },
  {
   "cell_type": "code",
   "execution_count": 4,
   "metadata": {},
   "outputs": [
    {
     "data": {
      "text/plain": [
       "7"
      ]
     },
     "execution_count": 4,
     "metadata": {},
     "output_type": "execute_result"
    }
   ],
   "source": [
    "len(dflist)"
   ]
  },
  {
   "cell_type": "code",
   "execution_count": 5,
   "metadata": {},
   "outputs": [
    {
     "name": "stdout",
     "output_type": "stream",
     "text": [
      "(1, 1)\n",
      "(1, 1)\n",
      "(1, 2)\n",
      "(1, 5)\n",
      "(29, 10)\n",
      "(1, 3)\n",
      "(4, 3)\n"
     ]
    }
   ],
   "source": [
    "for df in dflist:\n",
    "    print(df.shape)"
   ]
  },
  {
   "cell_type": "code",
   "execution_count": 6,
   "metadata": {},
   "outputs": [
    {
     "data": {
      "text/html": [
       "<div>\n",
       "<style scoped>\n",
       "    .dataframe tbody tr th:only-of-type {\n",
       "        vertical-align: middle;\n",
       "    }\n",
       "\n",
       "    .dataframe tbody tr th {\n",
       "        vertical-align: top;\n",
       "    }\n",
       "\n",
       "    .dataframe thead th {\n",
       "        text-align: right;\n",
       "    }\n",
       "</style>\n",
       "<table border=\"1\" class=\"dataframe\">\n",
       "  <thead>\n",
       "    <tr style=\"text-align: right;\">\n",
       "      <th></th>\n",
       "      <th>0</th>\n",
       "      <th>1</th>\n",
       "      <th>2</th>\n",
       "      <th>3</th>\n",
       "      <th>4</th>\n",
       "      <th>5</th>\n",
       "      <th>6</th>\n",
       "      <th>7</th>\n",
       "      <th>8</th>\n",
       "      <th>9</th>\n",
       "    </tr>\n",
       "  </thead>\n",
       "  <tbody>\n",
       "    <tr>\n",
       "      <th>0</th>\n",
       "      <td>Sludinājumi \\tdatums</td>\n",
       "      <td>Sludinājumi \\tdatums</td>\n",
       "      <td>Sludinājumi \\tdatums</td>\n",
       "      <td>Iela</td>\n",
       "      <td>Ist.</td>\n",
       "      <td>m2</td>\n",
       "      <td>Stāvs</td>\n",
       "      <td>Sērija</td>\n",
       "      <td>Cena, m2</td>\n",
       "      <td>Cena</td>\n",
       "    </tr>\n",
       "    <tr>\n",
       "      <th>1</th>\n",
       "      <td>NaN</td>\n",
       "      <td>NaN</td>\n",
       "      <td>Izdevīgs, moderns dzīvoklis - Daugavpils ielā ...</td>\n",
       "      <td>Daugavpils 49</td>\n",
       "      <td>3</td>\n",
       "      <td>57</td>\n",
       "      <td>3/5</td>\n",
       "      <td>P. kara</td>\n",
       "      <td>1,000 €</td>\n",
       "      <td>57,000 €</td>\n",
       "    </tr>\n",
       "    <tr>\n",
       "      <th>2</th>\n",
       "      <td>NaN</td>\n",
       "      <td>NaN</td>\n",
       "      <td>Предлагаем к продаже квартиру с печным отоплен...</td>\n",
       "      <td>Daugavpils 76</td>\n",
       "      <td>2</td>\n",
       "      <td>28</td>\n",
       "      <td>5/6</td>\n",
       "      <td>P. kara</td>\n",
       "      <td>607 €</td>\n",
       "      <td>17,000 €</td>\n",
       "    </tr>\n",
       "    <tr>\n",
       "      <th>3</th>\n",
       "      <td>NaN</td>\n",
       "      <td>NaN</td>\n",
       "      <td>Akurāts dzīvoklis tuvu Centram Krāsns apkure a...</td>\n",
       "      <td>Daugavpils 49</td>\n",
       "      <td>2</td>\n",
       "      <td>50</td>\n",
       "      <td>1/5</td>\n",
       "      <td>P. kara</td>\n",
       "      <td>580 €</td>\n",
       "      <td>29,000 €</td>\n",
       "    </tr>\n",
       "    <tr>\n",
       "      <th>4</th>\n",
       "      <td>NaN</td>\n",
       "      <td>NaN</td>\n",
       "      <td>Mājiņa atsevišķa, atsevišķa ieeja. Iespēja pie...</td>\n",
       "      <td>M. Kalna 25A</td>\n",
       "      <td>1</td>\n",
       "      <td>25</td>\n",
       "      <td>1/1</td>\n",
       "      <td>Priv. m.</td>\n",
       "      <td>672 €</td>\n",
       "      <td>16,789 €</td>\n",
       "    </tr>\n",
       "  </tbody>\n",
       "</table>\n",
       "</div>"
      ],
      "text/plain": [
       "                      0                     1  \\\n",
       "0  Sludinājumi \\tdatums  Sludinājumi \\tdatums   \n",
       "1                   NaN                   NaN   \n",
       "2                   NaN                   NaN   \n",
       "3                   NaN                   NaN   \n",
       "4                   NaN                   NaN   \n",
       "\n",
       "                                                   2              3     4   5  \\\n",
       "0                               Sludinājumi \\tdatums           Iela  Ist.  m2   \n",
       "1  Izdevīgs, moderns dzīvoklis - Daugavpils ielā ...  Daugavpils 49     3  57   \n",
       "2  Предлагаем к продаже квартиру с печным отоплен...  Daugavpils 76     2  28   \n",
       "3  Akurāts dzīvoklis tuvu Centram Krāsns apkure a...  Daugavpils 49     2  50   \n",
       "4  Mājiņa atsevišķa, atsevišķa ieeja. Iespēja pie...   M. Kalna 25A     1  25   \n",
       "\n",
       "       6         7         8         9  \n",
       "0  Stāvs    Sērija  Cena, m2      Cena  \n",
       "1    3/5   P. kara   1,000 €  57,000 €  \n",
       "2    5/6   P. kara     607 €  17,000 €  \n",
       "3    1/5   P. kara     580 €  29,000 €  \n",
       "4    1/1  Priv. m.     672 €  16,789 €  "
      ]
     },
     "execution_count": 6,
     "metadata": {},
     "output_type": "execute_result"
    }
   ],
   "source": [
    "df = dflist[4]\n",
    "df.head()"
   ]
  },
  {
   "cell_type": "code",
   "execution_count": 7,
   "metadata": {},
   "outputs": [
    {
     "data": {
      "text/plain": [
       "8"
      ]
     },
     "execution_count": 7,
     "metadata": {},
     "output_type": "execute_result"
    }
   ],
   "source": [
    "lvcitylist = pd.read_html(\"https://en.wikipedia.org/wiki/List_of_cities_and_towns_in_Latvia\")\n",
    "len(lvcitylist)"
   ]
  },
  {
   "cell_type": "code",
   "execution_count": 8,
   "metadata": {},
   "outputs": [
    {
     "name": "stdout",
     "output_type": "stream",
     "text": [
      "(9, 3)\n",
      "(67, 4)\n",
      "(1, 2)\n",
      "(2, 2)\n",
      "(1, 2)\n",
      "(3, 2)\n",
      "(3, 2)\n",
      "(3, 2)\n"
     ]
    }
   ],
   "source": [
    "for citydf in lvcitylist:\n",
    "    print(citydf.shape)"
   ]
  },
  {
   "cell_type": "code",
   "execution_count": 9,
   "metadata": {},
   "outputs": [
    {
     "data": {
      "text/html": [
       "<div>\n",
       "<style scoped>\n",
       "    .dataframe tbody tr th:only-of-type {\n",
       "        vertical-align: middle;\n",
       "    }\n",
       "\n",
       "    .dataframe tbody tr th {\n",
       "        vertical-align: top;\n",
       "    }\n",
       "\n",
       "    .dataframe thead th {\n",
       "        text-align: right;\n",
       "    }\n",
       "</style>\n",
       "<table border=\"1\" class=\"dataframe\">\n",
       "  <thead>\n",
       "    <tr style=\"text-align: right;\">\n",
       "      <th></th>\n",
       "      <th>Town</th>\n",
       "      <th>Population (2010)[2]</th>\n",
       "      <th>Population (2018)[3]</th>\n",
       "      <th>Municipality[1]</th>\n",
       "    </tr>\n",
       "  </thead>\n",
       "  <tbody>\n",
       "    <tr>\n",
       "      <th>0</th>\n",
       "      <td>Ainaži pronunciation (help·info)</td>\n",
       "      <td>1008</td>\n",
       "      <td>787</td>\n",
       "      <td>Salacgrīva Municipality</td>\n",
       "    </tr>\n",
       "    <tr>\n",
       "      <th>1</th>\n",
       "      <td>Aizkraukle pronunciation (help·info)</td>\n",
       "      <td>8709</td>\n",
       "      <td>7489</td>\n",
       "      <td>Aizkraukle Municipality</td>\n",
       "    </tr>\n",
       "    <tr>\n",
       "      <th>2</th>\n",
       "      <td>Aizpute pronunciation (help·info)</td>\n",
       "      <td>5104</td>\n",
       "      <td>4443</td>\n",
       "      <td>Aizpute Municipality</td>\n",
       "    </tr>\n",
       "    <tr>\n",
       "      <th>3</th>\n",
       "      <td>Aknīste pronunciation (help·info)</td>\n",
       "      <td>1224</td>\n",
       "      <td>1078</td>\n",
       "      <td>Aknīste Municipality</td>\n",
       "    </tr>\n",
       "    <tr>\n",
       "      <th>4</th>\n",
       "      <td>Aloja pronunciation (help·info)</td>\n",
       "      <td>1353</td>\n",
       "      <td>1197</td>\n",
       "      <td>Aloja Municipality</td>\n",
       "    </tr>\n",
       "  </tbody>\n",
       "</table>\n",
       "</div>"
      ],
      "text/plain": [
       "                                   Town  Population (2010)[2]  \\\n",
       "0      Ainaži pronunciation (help·info)                  1008   \n",
       "1  Aizkraukle pronunciation (help·info)                  8709   \n",
       "2     Aizpute pronunciation (help·info)                  5104   \n",
       "3     Aknīste pronunciation (help·info)                  1224   \n",
       "4       Aloja pronunciation (help·info)                  1353   \n",
       "\n",
       "   Population (2018)[3]          Municipality[1]  \n",
       "0                   787  Salacgrīva Municipality  \n",
       "1                  7489  Aizkraukle Municipality  \n",
       "2                  4443     Aizpute Municipality  \n",
       "3                  1078     Aknīste Municipality  \n",
       "4                  1197       Aloja Municipality  "
      ]
     },
     "execution_count": 9,
     "metadata": {},
     "output_type": "execute_result"
    }
   ],
   "source": [
    "lvcitydf = lvcitylist[1]\n",
    "lvcitydf.head()"
   ]
  },
  {
   "cell_type": "code",
   "execution_count": 10,
   "metadata": {},
   "outputs": [
    {
     "data": {
      "text/plain": [
       "200"
      ]
     },
     "execution_count": 10,
     "metadata": {},
     "output_type": "execute_result"
    }
   ],
   "source": [
    "req = requests.get(maskavas)\n",
    "req.status_code # https://en.wikipedia.org/wiki/List_of_HTTP_status_codes"
   ]
  },
  {
   "cell_type": "code",
   "execution_count": 11,
   "metadata": {},
   "outputs": [
    {
     "data": {
      "text/plain": [
       "'<!DOCTYPE html>\\r\\n<HTML><HEAD>\\r\\n<title>SS.COM Dzīvokļi - Rīga - Maskavas priekšpilsēta, Cenas, Pārdod - Sludinājumi</title>\\r\\n<meta http-equiv=\"Content-Type\" CONTENT=\"text/html; charset=UTF-8\">\\r\\n<meta n'"
      ]
     },
     "execution_count": 11,
     "metadata": {},
     "output_type": "execute_result"
    }
   ],
   "source": [
    "req.text[:200]"
   ]
  },
  {
   "cell_type": "code",
   "execution_count": 12,
   "metadata": {},
   "outputs": [
    {
     "data": {
      "text/plain": [
       "32505"
      ]
     },
     "execution_count": 12,
     "metadata": {},
     "output_type": "execute_result"
    }
   ],
   "source": [
    "req.text.index(\"tr_47482426\") # we could fine the line that interests us manually using Python string index command"
   ]
  },
  {
   "cell_type": "code",
   "execution_count": 13,
   "metadata": {},
   "outputs": [
    {
     "data": {
      "text/plain": [
       "'tr_47482426\"><td class=\"msga2 pp0\"><input type=che'"
      ]
     },
     "execution_count": 13,
     "metadata": {},
     "output_type": "execute_result"
    }
   ],
   "source": [
    "req.text[32505:32505+50]\n",
    "# we could attempt to parse this manually, but there is no need for HTML since we have Beautiful Soup which does it for us"
   ]
  },
  {
   "cell_type": "code",
   "execution_count": 14,
   "metadata": {},
   "outputs": [
    {
     "data": {
      "text/plain": [
       "bs4.BeautifulSoup"
      ]
     },
     "execution_count": 14,
     "metadata": {},
     "output_type": "execute_result"
    }
   ],
   "source": [
    "soup = BeautifulSoup(req.text, 'lxml') \n",
    "# lxml is a type of parser, a bit better than standard\n",
    "# soup = BeautifulSoup(req.text) \n",
    "type(soup)"
   ]
  },
  {
   "cell_type": "code",
   "execution_count": 15,
   "metadata": {},
   "outputs": [
    {
     "data": {
      "text/plain": [
       "37"
      ]
     },
     "execution_count": 15,
     "metadata": {},
     "output_type": "execute_result"
    }
   ],
   "source": [
    "allrows = soup.find_all('tr') # so we want to find all table rows (no matter the table)\n",
    "len(allrows)\n",
    "# so what would be common to our rows which contain an advertisement"
   ]
  },
  {
   "cell_type": "code",
   "execution_count": 16,
   "metadata": {},
   "outputs": [
    {
     "data": {
      "text/plain": [
       "<tr id=\"tr_48735508\"><td class=\"msga2 pp0\"><input id=\"c48735508\" name=\"mid[]\" type=\"checkbox\" value=\"48735508_5070_0\"/></td><td class=\"msga2\"><a href=\"/msg/lv/real-estate/flats/riga/maskavas-priekshpilseta/ccppd.html\" id=\"im48735508\"><img alt=\"\" class=\"isfoto foto_list\" src=\"https://i.ss.com/gallery/4/724/180779/36155715.th2.jpg\"/></a></td><td class=\"msg2\"><div class=\"d1\"><a class=\"am\" data=\"JTkzJTlDayVBRCVBQSU3QiVDMSU5OCU5NiVBMWwlQUUlQUMlN0R2JTk3JTk0JUExZSVCMSVBNSU3Q3UlOTclOTE=|ah3zuHEg\" href=\"/msg/lv/real-estate/flats/riga/maskavas-priekshpilseta/ccppd.html\" id=\"dm_48735508\">Jūsu uzmanībai tiek piedāvāts 1:37 design studio dizains un mūsu</a></div></td><td c=\"1\" class=\"msga2-o pp6\" nowrap=\"\">Maskavas 88</td><td c=\"1\" class=\"msga2-o pp6\" nowrap=\"\">4</td><td c=\"1\" class=\"msga2-o pp6\" nowrap=\"\">80</td><td c=\"1\" class=\"msga2-o pp6\" nowrap=\"\">6/6</td><td c=\"1\" class=\"msga2-o pp6\" nowrap=\"\">P. kara</td><td c=\"1\" class=\"msga2-o pp6\" nowrap=\"\">1,438 €</td><td c=\"1\" class=\"msga2-o pp6\" nowrap=\"\">115,000  €</td></tr>"
      ]
     },
     "execution_count": 16,
     "metadata": {},
     "output_type": "execute_result"
    }
   ],
   "source": [
    "allrows[12]"
   ]
  },
  {
   "cell_type": "code",
   "execution_count": 17,
   "metadata": {},
   "outputs": [
    {
     "data": {
      "text/plain": [
       "'tr_48735508'"
      ]
     },
     "execution_count": 17,
     "metadata": {},
     "output_type": "execute_result"
    }
   ],
   "source": [
    "allrows[12].get('id')"
   ]
  },
  {
   "cell_type": "code",
   "execution_count": 18,
   "metadata": {},
   "outputs": [
    {
     "data": {
      "text/plain": [
       "28"
      ]
     },
     "execution_count": 18,
     "metadata": {},
     "output_type": "execute_result"
    }
   ],
   "source": [
    "aprows = [row for row in allrows if \"id\" in row.attrs and \"tr_\" in row.get('id')] #full check\n",
    "len(aprows)"
   ]
  },
  {
   "cell_type": "code",
   "execution_count": 19,
   "metadata": {},
   "outputs": [
    {
     "data": {
      "text/plain": [
       "{'id': 'tr_48735508'}"
      ]
     },
     "execution_count": 19,
     "metadata": {},
     "output_type": "execute_result"
    }
   ],
   "source": [
    "allrows[12].attrs"
   ]
  },
  {
   "cell_type": "code",
   "execution_count": null,
   "metadata": {},
   "outputs": [],
   "source": [
    "aprows = [row for row in allrows if \"tr_\" in row.get('id',[])] # we pass empty list as fallback when id is not found\n",
    "len(aprows)"
   ]
  },
  {
   "cell_type": "code",
   "execution_count": 20,
   "metadata": {},
   "outputs": [
    {
     "data": {
      "text/plain": [
       "28"
      ]
     },
     "execution_count": 20,
     "metadata": {},
     "output_type": "execute_result"
    }
   ],
   "source": [
    "aprows = [row for row in allrows if row.get('id',\"\").startswith(\"tr_\") and not row.get('id',\"\").startswith(\"tr_bnr\") ] # this is more precise\n",
    "# of course above could have been done with regular expression for more difficult cases\n",
    "len(aprows)"
   ]
  },
  {
   "cell_type": "code",
   "execution_count": 21,
   "metadata": {},
   "outputs": [
    {
     "data": {
      "text/plain": [
       "<tr id=\"tr_47441245\"><td class=\"msga2 pp0\"><input id=\"c47441245\" name=\"mid[]\" type=\"checkbox\" value=\"47441245_5070_0\"/></td><td class=\"msga2\"><a href=\"/msg/lv/real-estate/flats/riga/maskavas-priekshpilseta/ckpob.html\" id=\"im47441245\"><img alt=\"\" class=\"isfoto foto_list\" src=\"https://i.ss.com/gallery/4/693/173064/34612630.th2.jpg\"/></a></td><td class=\"msg2\"><div class=\"d1\"><a class=\"am\" data=\"JTlBd3pnbSVCMyVDQ3klQTIlOUUlOUIlN0J0a2YlQUUlODV6JUE2JTlBJTk4dnFnZA==|hDA74zPHmg\" href=\"/msg/lv/real-estate/flats/riga/maskavas-priekshpilseta/ckpob.html\" id=\"dm_47441245\">Bonava Latvija projekts Krasta kvartāls. \n",
       "Kompakts un pārdomāts</a></div></td><td c=\"1\" class=\"msga2-o pp6\" nowrap=\"\">Maskavas 192</td><td c=\"1\" class=\"msga2-o pp6\" nowrap=\"\">4</td><td c=\"1\" class=\"msga2-o pp6\" nowrap=\"\">73</td><td c=\"1\" class=\"msga2-o pp6\" nowrap=\"\">2/9</td><td c=\"1\" class=\"msga2-o pp6\" nowrap=\"\">Jaun.</td><td c=\"1\" class=\"msga2-o pp6\" nowrap=\"\">1,616 €</td><td c=\"1\" class=\"msga2-o pp6\" nowrap=\"\">118,000  €</td></tr>"
      ]
     },
     "execution_count": 21,
     "metadata": {},
     "output_type": "execute_result"
    }
   ],
   "source": [
    "aprows[-1]"
   ]
  },
  {
   "cell_type": "code",
   "execution_count": 22,
   "metadata": {},
   "outputs": [
    {
     "data": {
      "text/plain": [
       "<tr id=\"tr_48465734\"><td class=\"msga2 pp0\"><input id=\"c48465734\" name=\"mid[]\" type=\"checkbox\" value=\"48465734_5070_0\"/></td><td class=\"msga2\"><a href=\"/msg/lv/real-estate/flats/riga/maskavas-priekshpilseta/bchpcm.html\" id=\"im48465734\"><img alt=\"\" class=\"isfoto foto_list\" src=\"https://i.ss.com/gallery/4/704/175795/35158995.th2.jpg\"/></a></td><td class=\"msg2\"><div class=\"d1\"><a class=\"am\" data=\"JTlGJUE2JTdDeCU5Q24lOEUlRDElQTklQTMlQUQlN0R2JTk2bSU5MiU4NyVBQyU5RSVBQSU3RnUlOThnJThBJTg1|ntHEf7ZUx\" href=\"/msg/lv/real-estate/flats/riga/maskavas-priekshpilseta/bchpcm.html\" id=\"dm_48465734\">Izdevīgs, moderns dzīvoklis - Daugavpils ielā 49\n",
       "\n",
       "Atrodas pirm</a></div></td><td c=\"1\" class=\"msga2-o pp6\" nowrap=\"\">Daugavpils 49</td><td c=\"1\" class=\"msga2-o pp6\" nowrap=\"\">3</td><td c=\"1\" class=\"msga2-o pp6\" nowrap=\"\">57</td><td c=\"1\" class=\"msga2-o pp6\" nowrap=\"\">3/5</td><td c=\"1\" class=\"msga2-o pp6\" nowrap=\"\">P. kara</td><td c=\"1\" class=\"msga2-o pp6\" nowrap=\"\">1,000 €</td><td c=\"1\" class=\"msga2-o pp6\" nowrap=\"\">57,000  €</td></tr>"
      ]
     },
     "execution_count": 22,
     "metadata": {},
     "output_type": "execute_result"
    }
   ],
   "source": [
    "firstrow = aprows[0]\n",
    "firstrow"
   ]
  },
  {
   "cell_type": "code",
   "execution_count": 24,
   "metadata": {},
   "outputs": [
    {
     "data": {
      "text/plain": [
       "[<td class=\"msga2 pp0\"><input id=\"c48465734\" name=\"mid[]\" type=\"checkbox\" value=\"48465734_5070_0\"/></td>,\n",
       " <td class=\"msga2\"><a href=\"/msg/lv/real-estate/flats/riga/maskavas-priekshpilseta/bchpcm.html\" id=\"im48465734\"><img alt=\"\" class=\"isfoto foto_list\" src=\"https://i.ss.com/gallery/4/704/175795/35158995.th2.jpg\"/></a></td>,\n",
       " <td class=\"msg2\"><div class=\"d1\"><a class=\"am\" data=\"JTlGJUE2JTdDeCU5Q24lOEUlRDElQTklQTMlQUQlN0R2JTk2bSU5MiU4NyVBQyU5RSVBQSU3RnUlOThnJThBJTg1|ntHEf7ZUx\" href=\"/msg/lv/real-estate/flats/riga/maskavas-priekshpilseta/bchpcm.html\" id=\"dm_48465734\">Izdevīgs, moderns dzīvoklis - Daugavpils ielā 49\n",
       " \n",
       " Atrodas pirm</a></div></td>,\n",
       " <td c=\"1\" class=\"msga2-o pp6\" nowrap=\"\">Daugavpils 49</td>,\n",
       " <td c=\"1\" class=\"msga2-o pp6\" nowrap=\"\">3</td>,\n",
       " <td c=\"1\" class=\"msga2-o pp6\" nowrap=\"\">57</td>,\n",
       " <td c=\"1\" class=\"msga2-o pp6\" nowrap=\"\">3/5</td>,\n",
       " <td c=\"1\" class=\"msga2-o pp6\" nowrap=\"\">P. kara</td>,\n",
       " <td c=\"1\" class=\"msga2-o pp6\" nowrap=\"\">1,000 €</td>,\n",
       " <td c=\"1\" class=\"msga2-o pp6\" nowrap=\"\">57,000  €</td>]"
      ]
     },
     "execution_count": 24,
     "metadata": {},
     "output_type": "execute_result"
    }
   ],
   "source": [
    "firstcells = firstrow.find_all('td')\n",
    "firstcells"
   ]
  },
  {
   "cell_type": "code",
   "execution_count": 25,
   "metadata": {},
   "outputs": [
    {
     "data": {
      "text/plain": [
       "10"
      ]
     },
     "execution_count": 25,
     "metadata": {},
     "output_type": "execute_result"
    }
   ],
   "source": [
    "len(firstcells)"
   ]
  },
  {
   "cell_type": "code",
   "execution_count": 26,
   "metadata": {},
   "outputs": [
    {
     "data": {
      "text/plain": [
       "'57,000  €'"
      ]
     },
     "execution_count": 26,
     "metadata": {},
     "output_type": "execute_result"
    }
   ],
   "source": [
    "firstcells[-1].text"
   ]
  },
  {
   "cell_type": "code",
   "execution_count": 28,
   "metadata": {},
   "outputs": [
    {
     "data": {
      "text/plain": [
       "bs4.element.Tag"
      ]
     },
     "execution_count": 28,
     "metadata": {},
     "output_type": "execute_result"
    }
   ],
   "source": [
    "type(firstcells[-1])"
   ]
  },
  {
   "cell_type": "code",
   "execution_count": 29,
   "metadata": {},
   "outputs": [
    {
     "data": {
      "text/plain": [
       "<a href=\"/msg/lv/real-estate/flats/riga/maskavas-priekshpilseta/bchpcm.html\" id=\"im48465734\"><img alt=\"\" class=\"isfoto foto_list\" src=\"https://i.ss.com/gallery/4/704/175795/35158995.th2.jpg\"/></a>"
      ]
     },
     "execution_count": 29,
     "metadata": {},
     "output_type": "execute_result"
    }
   ],
   "source": [
    "anchor = firstcells[1].find('a')\n",
    "anchor"
   ]
  },
  {
   "cell_type": "code",
   "execution_count": 30,
   "metadata": {},
   "outputs": [
    {
     "data": {
      "text/plain": [
       "{'href': '/msg/lv/real-estate/flats/riga/maskavas-priekshpilseta/bchpcm.html',\n",
       " 'id': 'im48465734'}"
      ]
     },
     "execution_count": 30,
     "metadata": {},
     "output_type": "execute_result"
    }
   ],
   "source": [
    "anchor.attrs"
   ]
  },
  {
   "cell_type": "code",
   "execution_count": 31,
   "metadata": {},
   "outputs": [
    {
     "data": {
      "text/plain": [
       "'/msg/lv/real-estate/flats/riga/maskavas-priekshpilseta/bchpcm.html'"
      ]
     },
     "execution_count": 31,
     "metadata": {},
     "output_type": "execute_result"
    }
   ],
   "source": [
    "anchor.get('href')"
   ]
  },
  {
   "cell_type": "code",
   "execution_count": 32,
   "metadata": {},
   "outputs": [
    {
     "data": {
      "text/plain": [
       "'Izdevīgs, moderns dzīvoklis - Daugavpils ielā 49\\r\\n\\r\\nAtrodas pirm'"
      ]
     },
     "execution_count": 32,
     "metadata": {},
     "output_type": "execute_result"
    }
   ],
   "source": [
    "firstcells[2].find('a').text"
   ]
  },
  {
   "cell_type": "code",
   "execution_count": 33,
   "metadata": {},
   "outputs": [],
   "source": [
    "def getRowDict(row):\n",
    "    row_tds = row.find_all('td')\n",
    "    rowDict = {}\n",
    "    if len(row_tds) != 10: # a little sanity check\n",
    "        print(\"Hmm bad row\")\n",
    "        return rowDict\n",
    "    rowDict['url'] = \"https://ss.com\" + row_tds[1].find('a').get('href')\n",
    "    rowDict['desc'] = row_tds[2].text\n",
    "    rowDict['street'] = row_tds[3].text\n",
    "    rowDict['rooms'] = row_tds[4].text\n",
    "    rowDict['sqr_m'] = row_tds[5].text\n",
    "    rowDict['floor'] = row_tds[6].text\n",
    "    rowDict['build_type'] = row_tds[7].text\n",
    "    rowDict['price_sqm'] = row_tds[8].text\n",
    "    rowDict['price_raw'] = row_tds[9].text\n",
    "    rowDict['currency'] = row_tds[9].text.split()[1] # currency is always after multiple spaces in price\n",
    "    rowDict['price'] = row_tds[9].text.split()[0].replace(',','') # we do need comma\n",
    "    return rowDict\n",
    "    "
   ]
  },
  {
   "cell_type": "code",
   "execution_count": 34,
   "metadata": {},
   "outputs": [
    {
     "data": {
      "text/plain": [
       "{'url': 'https://ss.com/msg/lv/real-estate/flats/riga/maskavas-priekshpilseta/ccppd.html',\n",
       " 'desc': 'Jūsu uzmanībai tiek piedāvāts 1:37 design studio dizains un mūsu',\n",
       " 'street': 'Maskavas 88',\n",
       " 'rooms': '4',\n",
       " 'sqr_m': '80',\n",
       " 'floor': '6/6',\n",
       " 'build_type': 'P. kara',\n",
       " 'price_sqm': '1,438 €',\n",
       " 'price_raw': '115,000  €',\n",
       " 'currency': '€',\n",
       " 'price': '115000'}"
      ]
     },
     "execution_count": 34,
     "metadata": {},
     "output_type": "execute_result"
    }
   ],
   "source": [
    "mydatadict = getRowDict(aprows[7])\n",
    "mydatadict"
   ]
  },
  {
   "cell_type": "code",
   "execution_count": 35,
   "metadata": {},
   "outputs": [
    {
     "data": {
      "text/plain": [
       "[{'url': 'https://ss.com/msg/lv/real-estate/flats/riga/maskavas-priekshpilseta/bchpcm.html',\n",
       "  'desc': 'Izdevīgs, moderns dzīvoklis - Daugavpils ielā 49\\r\\n\\r\\nAtrodas pirm',\n",
       "  'street': 'Daugavpils 49',\n",
       "  'rooms': '3',\n",
       "  'sqr_m': '57',\n",
       "  'floor': '3/5',\n",
       "  'build_type': 'P. kara',\n",
       "  'price_sqm': '1,000 €',\n",
       "  'price_raw': '57,000  €',\n",
       "  'currency': '€',\n",
       "  'price': '57000'},\n",
       " {'url': 'https://ss.com/msg/lv/real-estate/flats/riga/maskavas-priekshpilseta/fcldh.html',\n",
       "  'desc': 'Предлагаем к продаже квартиру с печным отоплением. Требуется рем',\n",
       "  'street': 'Daugavpils 76',\n",
       "  'rooms': '2',\n",
       "  'sqr_m': '28',\n",
       "  'floor': '5/6',\n",
       "  'build_type': 'P. kara',\n",
       "  'price_sqm': '607 €',\n",
       "  'price_raw': '17,000  €',\n",
       "  'currency': '€',\n",
       "  'price': '17000'},\n",
       " {'url': 'https://ss.com/msg/lv/real-estate/flats/riga/maskavas-priekshpilseta/cnpcc.html',\n",
       "  'desc': 'Akurāts dzīvoklis tuvu Centram\\r\\nKrāsns apkure ar ūdens konturu\\r\\n',\n",
       "  'street': 'Daugavpils 49',\n",
       "  'rooms': '2',\n",
       "  'sqr_m': '50',\n",
       "  'floor': '1/5',\n",
       "  'build_type': 'P. kara',\n",
       "  'price_sqm': '580 €',\n",
       "  'price_raw': '29,000  €',\n",
       "  'currency': '€',\n",
       "  'price': '29000'},\n",
       " {'url': 'https://ss.com/msg/lv/real-estate/flats/riga/maskavas-priekshpilseta/idipm.html',\n",
       "  'desc': 'Mājiņa atsevišķa, atsevišķa ieeja. Iespēja piebūvēt klāt. Jauni ',\n",
       "  'street': 'M. Kalna 25A',\n",
       "  'rooms': '1',\n",
       "  'sqr_m': '25',\n",
       "  'floor': '1/1',\n",
       "  'build_type': 'Priv. m.',\n",
       "  'price_sqm': '672 €',\n",
       "  'price_raw': '16,789  €',\n",
       "  'currency': '€',\n",
       "  'price': '16789'},\n",
       " {'url': 'https://ss.com/msg/lv/real-estate/flats/riga/maskavas-priekshpilseta/cjmlb.html',\n",
       "  'desc': 'Владелец продаёт большую однокомнатную квартиру на втором этаже.',\n",
       "  'street': 'Viļānu 10',\n",
       "  'rooms': '1',\n",
       "  'sqr_m': '32',\n",
       "  'floor': '2/3',\n",
       "  'build_type': 'P. kara',\n",
       "  'price_sqm': '466 €',\n",
       "  'price_raw': '14,900  €',\n",
       "  'currency': '€',\n",
       "  'price': '14900'}]"
      ]
     },
     "execution_count": 35,
     "metadata": {},
     "output_type": "execute_result"
    }
   ],
   "source": [
    "myrowlist = []\n",
    "for row in aprows:\n",
    "    myrowlist.append(getRowDict(row))\n",
    "myrowlist[:5]"
   ]
  },
  {
   "cell_type": "code",
   "execution_count": 36,
   "metadata": {},
   "outputs": [
    {
     "data": {
      "text/plain": [
       "[{'url': 'https://ss.com/msg/lv/real-estate/flats/riga/maskavas-priekshpilseta/bchpcm.html',\n",
       "  'desc': 'Izdevīgs, moderns dzīvoklis - Daugavpils ielā 49\\r\\n\\r\\nAtrodas pirm',\n",
       "  'street': 'Daugavpils 49',\n",
       "  'rooms': '3',\n",
       "  'sqr_m': '57',\n",
       "  'floor': '3/5',\n",
       "  'build_type': 'P. kara',\n",
       "  'price_sqm': '1,000 €',\n",
       "  'price_raw': '57,000  €',\n",
       "  'currency': '€',\n",
       "  'price': '57000'},\n",
       " {'url': 'https://ss.com/msg/lv/real-estate/flats/riga/maskavas-priekshpilseta/fcldh.html',\n",
       "  'desc': 'Предлагаем к продаже квартиру с печным отоплением. Требуется рем',\n",
       "  'street': 'Daugavpils 76',\n",
       "  'rooms': '2',\n",
       "  'sqr_m': '28',\n",
       "  'floor': '5/6',\n",
       "  'build_type': 'P. kara',\n",
       "  'price_sqm': '607 €',\n",
       "  'price_raw': '17,000  €',\n",
       "  'currency': '€',\n",
       "  'price': '17000'}]"
      ]
     },
     "execution_count": 36,
     "metadata": {},
     "output_type": "execute_result"
    }
   ],
   "source": [
    "myrowlist = [getRowDict(row) for row in aprows]\n",
    "myrowlist[:2]"
   ]
  },
  {
   "cell_type": "code",
   "execution_count": null,
   "metadata": {},
   "outputs": [],
   "source": []
  },
  {
   "cell_type": "code",
   "execution_count": 51,
   "metadata": {},
   "outputs": [],
   "source": [
    "def processAptRows(rows):\n",
    "    return [getRowDict(row) for row in rows]\n",
    "#     rowlist = []\n",
    "#     for row in rows:\n",
    "#         rowlist.append(getRowDict(row))\n",
    "#     return rowlist"
   ]
  },
  {
   "cell_type": "code",
   "execution_count": 38,
   "metadata": {},
   "outputs": [
    {
     "data": {
      "text/plain": [
       "[{'url': 'https://ss.com/msg/lv/real-estate/flats/riga/maskavas-priekshpilseta/bchpcm.html',\n",
       "  'desc': 'Izdevīgs, moderns dzīvoklis - Daugavpils ielā 49\\r\\n\\r\\nAtrodas pirm',\n",
       "  'street': 'Daugavpils 49',\n",
       "  'rooms': '3',\n",
       "  'sqr_m': '57',\n",
       "  'floor': '3/5',\n",
       "  'build_type': 'P. kara',\n",
       "  'price_sqm': '1,000 €',\n",
       "  'price_raw': '57,000  €',\n",
       "  'currency': '€',\n",
       "  'price': '57000'},\n",
       " {'url': 'https://ss.com/msg/lv/real-estate/flats/riga/maskavas-priekshpilseta/fcldh.html',\n",
       "  'desc': 'Предлагаем к продаже квартиру с печным отоплением. Требуется рем',\n",
       "  'street': 'Daugavpils 76',\n",
       "  'rooms': '2',\n",
       "  'sqr_m': '28',\n",
       "  'floor': '5/6',\n",
       "  'build_type': 'P. kara',\n",
       "  'price_sqm': '607 €',\n",
       "  'price_raw': '17,000  €',\n",
       "  'currency': '€',\n",
       "  'price': '17000'}]"
      ]
     },
     "execution_count": 38,
     "metadata": {},
     "output_type": "execute_result"
    }
   ],
   "source": [
    "myrows = processAptRows(aprows)\n",
    "myrows[:2]"
   ]
  },
  {
   "cell_type": "code",
   "execution_count": 39,
   "metadata": {},
   "outputs": [
    {
     "data": {
      "text/html": [
       "<div>\n",
       "<style scoped>\n",
       "    .dataframe tbody tr th:only-of-type {\n",
       "        vertical-align: middle;\n",
       "    }\n",
       "\n",
       "    .dataframe tbody tr th {\n",
       "        vertical-align: top;\n",
       "    }\n",
       "\n",
       "    .dataframe thead th {\n",
       "        text-align: right;\n",
       "    }\n",
       "</style>\n",
       "<table border=\"1\" class=\"dataframe\">\n",
       "  <thead>\n",
       "    <tr style=\"text-align: right;\">\n",
       "      <th></th>\n",
       "      <th>url</th>\n",
       "      <th>desc</th>\n",
       "      <th>street</th>\n",
       "      <th>rooms</th>\n",
       "      <th>sqr_m</th>\n",
       "      <th>floor</th>\n",
       "      <th>build_type</th>\n",
       "      <th>price_sqm</th>\n",
       "      <th>price_raw</th>\n",
       "      <th>currency</th>\n",
       "      <th>price</th>\n",
       "    </tr>\n",
       "  </thead>\n",
       "  <tbody>\n",
       "    <tr>\n",
       "      <th>0</th>\n",
       "      <td>https://ss.com/msg/lv/real-estate/flats/riga/m...</td>\n",
       "      <td>Izdevīgs, moderns dzīvoklis - Daugavpils ielā ...</td>\n",
       "      <td>Daugavpils 49</td>\n",
       "      <td>3</td>\n",
       "      <td>57</td>\n",
       "      <td>3/5</td>\n",
       "      <td>P. kara</td>\n",
       "      <td>1,000 €</td>\n",
       "      <td>57,000  €</td>\n",
       "      <td>€</td>\n",
       "      <td>57000</td>\n",
       "    </tr>\n",
       "    <tr>\n",
       "      <th>1</th>\n",
       "      <td>https://ss.com/msg/lv/real-estate/flats/riga/m...</td>\n",
       "      <td>Предлагаем к продаже квартиру с печным отоплен...</td>\n",
       "      <td>Daugavpils 76</td>\n",
       "      <td>2</td>\n",
       "      <td>28</td>\n",
       "      <td>5/6</td>\n",
       "      <td>P. kara</td>\n",
       "      <td>607 €</td>\n",
       "      <td>17,000  €</td>\n",
       "      <td>€</td>\n",
       "      <td>17000</td>\n",
       "    </tr>\n",
       "    <tr>\n",
       "      <th>2</th>\n",
       "      <td>https://ss.com/msg/lv/real-estate/flats/riga/m...</td>\n",
       "      <td>Akurāts dzīvoklis tuvu Centram\\r\\nKrāsns apkur...</td>\n",
       "      <td>Daugavpils 49</td>\n",
       "      <td>2</td>\n",
       "      <td>50</td>\n",
       "      <td>1/5</td>\n",
       "      <td>P. kara</td>\n",
       "      <td>580 €</td>\n",
       "      <td>29,000  €</td>\n",
       "      <td>€</td>\n",
       "      <td>29000</td>\n",
       "    </tr>\n",
       "    <tr>\n",
       "      <th>3</th>\n",
       "      <td>https://ss.com/msg/lv/real-estate/flats/riga/m...</td>\n",
       "      <td>Mājiņa atsevišķa, atsevišķa ieeja. Iespēja pie...</td>\n",
       "      <td>M. Kalna 25A</td>\n",
       "      <td>1</td>\n",
       "      <td>25</td>\n",
       "      <td>1/1</td>\n",
       "      <td>Priv. m.</td>\n",
       "      <td>672 €</td>\n",
       "      <td>16,789  €</td>\n",
       "      <td>€</td>\n",
       "      <td>16789</td>\n",
       "    </tr>\n",
       "    <tr>\n",
       "      <th>4</th>\n",
       "      <td>https://ss.com/msg/lv/real-estate/flats/riga/m...</td>\n",
       "      <td>Владелец продаёт большую однокомнатную квартир...</td>\n",
       "      <td>Viļānu 10</td>\n",
       "      <td>1</td>\n",
       "      <td>32</td>\n",
       "      <td>2/3</td>\n",
       "      <td>P. kara</td>\n",
       "      <td>466 €</td>\n",
       "      <td>14,900  €</td>\n",
       "      <td>€</td>\n",
       "      <td>14900</td>\n",
       "    </tr>\n",
       "  </tbody>\n",
       "</table>\n",
       "</div>"
      ],
      "text/plain": [
       "                                                 url  \\\n",
       "0  https://ss.com/msg/lv/real-estate/flats/riga/m...   \n",
       "1  https://ss.com/msg/lv/real-estate/flats/riga/m...   \n",
       "2  https://ss.com/msg/lv/real-estate/flats/riga/m...   \n",
       "3  https://ss.com/msg/lv/real-estate/flats/riga/m...   \n",
       "4  https://ss.com/msg/lv/real-estate/flats/riga/m...   \n",
       "\n",
       "                                                desc         street rooms  \\\n",
       "0  Izdevīgs, moderns dzīvoklis - Daugavpils ielā ...  Daugavpils 49     3   \n",
       "1  Предлагаем к продаже квартиру с печным отоплен...  Daugavpils 76     2   \n",
       "2  Akurāts dzīvoklis tuvu Centram\\r\\nKrāsns apkur...  Daugavpils 49     2   \n",
       "3  Mājiņa atsevišķa, atsevišķa ieeja. Iespēja pie...   M. Kalna 25A     1   \n",
       "4  Владелец продаёт большую однокомнатную квартир...      Viļānu 10     1   \n",
       "\n",
       "  sqr_m floor build_type price_sqm  price_raw currency  price  \n",
       "0    57   3/5    P. kara   1,000 €  57,000  €        €  57000  \n",
       "1    28   5/6    P. kara     607 €  17,000  €        €  17000  \n",
       "2    50   1/5    P. kara     580 €  29,000  €        €  29000  \n",
       "3    25   1/1   Priv. m.     672 €  16,789  €        €  16789  \n",
       "4    32   2/3    P. kara     466 €  14,900  €        €  14900  "
      ]
     },
     "execution_count": 39,
     "metadata": {},
     "output_type": "execute_result"
    }
   ],
   "source": [
    "df = pd.DataFrame(myrowlist)\n",
    "df.head()"
   ]
  },
  {
   "cell_type": "code",
   "execution_count": 40,
   "metadata": {},
   "outputs": [],
   "source": [
    "df.to_excel('maskavas_pardod.xlsx')"
   ]
  },
  {
   "cell_type": "code",
   "execution_count": 41,
   "metadata": {},
   "outputs": [
    {
     "data": {
      "text/plain": [
       "'https://www.ss.com/lv/real-estate/flats/riga/maskavas-priekshpilseta/sell/'"
      ]
     },
     "execution_count": 41,
     "metadata": {},
     "output_type": "execute_result"
    }
   ],
   "source": [
    "maskavas"
   ]
  },
  {
   "cell_type": "code",
   "execution_count": 42,
   "metadata": {},
   "outputs": [
    {
     "data": {
      "text/plain": [
       "'maskavas-priekshpilseta'"
      ]
     },
     "execution_count": 42,
     "metadata": {},
     "output_type": "execute_result"
    }
   ],
   "source": [
    "maskavas.split(\"/\")[-3]"
   ]
  },
  {
   "cell_type": "code",
   "execution_count": 52,
   "metadata": {},
   "outputs": [],
   "source": [
    "# lets put this in one big function\n",
    "def getExcelFromUrl(url):\n",
    "    print(f\"requesting page from {url}\")\n",
    "    req = requests.get(url)\n",
    "    if req.status_code != 200:\n",
    "        print(\"Bad request\", req.status_code)\n",
    "        return None\n",
    "    soup = BeautifulSoup(req.text, 'lxml')\n",
    "    print(f\"Page title {soup.title}\")\n",
    "    trows = soup.find_all('tr')\n",
    "    aprows = [row for row in trows if row.get('id',\"\").startswith(\"tr_\") and not row.get('id',\"\").startswith(\"tr_bnr\") ]\n",
    "    myrows = processAptRows(aprows)\n",
    "    df = pd.DataFrame(myrows)\n",
    "    print(f\"Got DF in shape {df.shape}\")\n",
    "    df.to_excel(f\"{url.split('/')[-3]}.xlsx\") #we just need a unique and descriptive name for our sheet\n",
    "    return df"
   ]
  },
  {
   "cell_type": "code",
   "execution_count": 44,
   "metadata": {},
   "outputs": [
    {
     "name": "stdout",
     "output_type": "stream",
     "text": [
      "Got DF in shape (28, 11)\n"
     ]
    }
   ],
   "source": [
    "df = getExcelFromUrl(maskavas)"
   ]
  },
  {
   "cell_type": "code",
   "execution_count": 53,
   "metadata": {},
   "outputs": [
    {
     "name": "stdout",
     "output_type": "stream",
     "text": [
      "requesting page from https://www.ss.com/lv/real-estate/flats/riga/imanta/sell/\n",
      "Page title <title>SS.COM Dzīvokļi - Rīga - Imanta, Cenas, Pārdod - Sludinājumi</title>\n",
      "Got DF in shape (30, 11)\n"
     ]
    },
    {
     "data": {
      "text/html": [
       "<div>\n",
       "<style scoped>\n",
       "    .dataframe tbody tr th:only-of-type {\n",
       "        vertical-align: middle;\n",
       "    }\n",
       "\n",
       "    .dataframe tbody tr th {\n",
       "        vertical-align: top;\n",
       "    }\n",
       "\n",
       "    .dataframe thead th {\n",
       "        text-align: right;\n",
       "    }\n",
       "</style>\n",
       "<table border=\"1\" class=\"dataframe\">\n",
       "  <thead>\n",
       "    <tr style=\"text-align: right;\">\n",
       "      <th></th>\n",
       "      <th>url</th>\n",
       "      <th>desc</th>\n",
       "      <th>street</th>\n",
       "      <th>rooms</th>\n",
       "      <th>sqr_m</th>\n",
       "      <th>floor</th>\n",
       "      <th>build_type</th>\n",
       "      <th>price_sqm</th>\n",
       "      <th>price_raw</th>\n",
       "      <th>currency</th>\n",
       "      <th>price</th>\n",
       "    </tr>\n",
       "  </thead>\n",
       "  <tbody>\n",
       "    <tr>\n",
       "      <th>0</th>\n",
       "      <td>https://ss.com/msg/lv/real-estate/flats/riga/i...</td>\n",
       "      <td>Pārdod gaišu un mājīgu dzīvokli Yit projektā “...</td>\n",
       "      <td>Jūrmalas g. 100</td>\n",
       "      <td>2</td>\n",
       "      <td>44</td>\n",
       "      <td>3/9</td>\n",
       "      <td>Jaun.</td>\n",
       "      <td>1,545 €</td>\n",
       "      <td>68,000  €</td>\n",
       "      <td>€</td>\n",
       "      <td>68000</td>\n",
       "    </tr>\n",
       "    <tr>\n",
       "      <th>1</th>\n",
       "      <td>https://ss.com/msg/lv/real-estate/flats/riga/i...</td>\n",
       "      <td>Хозяин продает 3-х комнатную солнечную, не угл...</td>\n",
       "      <td>Kurzemes pr. 152</td>\n",
       "      <td>3</td>\n",
       "      <td>61</td>\n",
       "      <td>8/9</td>\n",
       "      <td>602.</td>\n",
       "      <td>1,131 €</td>\n",
       "      <td>69,000  €</td>\n",
       "      <td>€</td>\n",
       "      <td>69000</td>\n",
       "    </tr>\n",
       "    <tr>\n",
       "      <th>2</th>\n",
       "      <td>https://ss.com/msg/lv/real-estate/flats/riga/i...</td>\n",
       "      <td>Īpašnieks pārdod saulainu, siltu dzīvokli, nav...</td>\n",
       "      <td>Slokas 195</td>\n",
       "      <td>2</td>\n",
       "      <td>39</td>\n",
       "      <td>2/5</td>\n",
       "      <td>LT proj.</td>\n",
       "      <td>972 €</td>\n",
       "      <td>37,900  €</td>\n",
       "      <td>€</td>\n",
       "      <td>37900</td>\n",
       "    </tr>\n",
       "    <tr>\n",
       "      <th>3</th>\n",
       "      <td>https://ss.com/msg/lv/real-estate/flats/riga/i...</td>\n",
       "      <td>Продаю уютную, тёплую, красивую 3ех комнатную ...</td>\n",
       "      <td>Kurzemes pr. 154</td>\n",
       "      <td>3</td>\n",
       "      <td>65</td>\n",
       "      <td>6/9</td>\n",
       "      <td>602.</td>\n",
       "      <td>1,108 €</td>\n",
       "      <td>72,000  €</td>\n",
       "      <td>€</td>\n",
       "      <td>72000</td>\n",
       "    </tr>\n",
       "    <tr>\n",
       "      <th>4</th>\n",
       "      <td>https://ss.com/msg/lv/real-estate/flats/riga/i...</td>\n",
       "      <td>Pārdod plašu penhaus tipa dzīvokli Imantā. \\r\\...</td>\n",
       "      <td>Anniņmuižas 13</td>\n",
       "      <td>3</td>\n",
       "      <td>148</td>\n",
       "      <td>12/12</td>\n",
       "      <td>Jaun.</td>\n",
       "      <td>1,250 €</td>\n",
       "      <td>185,000  €</td>\n",
       "      <td>€</td>\n",
       "      <td>185000</td>\n",
       "    </tr>\n",
       "  </tbody>\n",
       "</table>\n",
       "</div>"
      ],
      "text/plain": [
       "                                                 url  \\\n",
       "0  https://ss.com/msg/lv/real-estate/flats/riga/i...   \n",
       "1  https://ss.com/msg/lv/real-estate/flats/riga/i...   \n",
       "2  https://ss.com/msg/lv/real-estate/flats/riga/i...   \n",
       "3  https://ss.com/msg/lv/real-estate/flats/riga/i...   \n",
       "4  https://ss.com/msg/lv/real-estate/flats/riga/i...   \n",
       "\n",
       "                                                desc            street rooms  \\\n",
       "0  Pārdod gaišu un mājīgu dzīvokli Yit projektā “...   Jūrmalas g. 100     2   \n",
       "1  Хозяин продает 3-х комнатную солнечную, не угл...  Kurzemes pr. 152     3   \n",
       "2  Īpašnieks pārdod saulainu, siltu dzīvokli, nav...        Slokas 195     2   \n",
       "3  Продаю уютную, тёплую, красивую 3ех комнатную ...  Kurzemes pr. 154     3   \n",
       "4  Pārdod plašu penhaus tipa dzīvokli Imantā. \\r\\...    Anniņmuižas 13     3   \n",
       "\n",
       "  sqr_m  floor build_type price_sqm   price_raw currency   price  \n",
       "0    44    3/9      Jaun.   1,545 €   68,000  €        €   68000  \n",
       "1    61    8/9       602.   1,131 €   69,000  €        €   69000  \n",
       "2    39    2/5   LT proj.     972 €   37,900  €        €   37900  \n",
       "3    65    6/9       602.   1,108 €   72,000  €        €   72000  \n",
       "4   148  12/12      Jaun.   1,250 €  185,000  €        €  185000  "
      ]
     },
     "execution_count": 53,
     "metadata": {},
     "output_type": "execute_result"
    }
   ],
   "source": [
    "imanta = getExcelFromUrl(\"https://www.ss.com/lv/real-estate/flats/riga/imanta/sell/\")\n",
    "imanta.head()"
   ]
  },
  {
   "cell_type": "code",
   "execution_count": null,
   "metadata": {},
   "outputs": [],
   "source": [
    "# aprows = aprows[:-1] # if we do not need the last one, so we just take it off\n"
   ]
  },
  {
   "cell_type": "code",
   "execution_count": 54,
   "metadata": {},
   "outputs": [
    {
     "data": {
      "text/plain": [
       "200"
      ]
     },
     "execution_count": 54,
     "metadata": {},
     "output_type": "execute_result"
    }
   ],
   "source": [
    "# now we need to find a list of all pages for certain region\n",
    "req = requests.get(centrs)\n",
    "req.status_code"
   ]
  },
  {
   "cell_type": "code",
   "execution_count": 56,
   "metadata": {},
   "outputs": [
    {
     "data": {
      "text/plain": [
       "'https://www.ss.com/lv/real-estate/flats/riga/centre/sell/'"
      ]
     },
     "execution_count": 56,
     "metadata": {},
     "output_type": "execute_result"
    }
   ],
   "source": [
    "centrs"
   ]
  },
  {
   "cell_type": "code",
   "execution_count": 55,
   "metadata": {},
   "outputs": [
    {
     "data": {
      "text/plain": [
       "<title>SS.COM Dzīvokļi - Rīga - Centrs, Cenas, Pārdod - Sludinājumi</title>"
      ]
     },
     "execution_count": 55,
     "metadata": {},
     "output_type": "execute_result"
    }
   ],
   "source": [
    "soup = BeautifulSoup(req.text, 'lxml') \n",
    "soup.title"
   ]
  },
  {
   "cell_type": "code",
   "execution_count": 57,
   "metadata": {},
   "outputs": [
    {
     "data": {
      "text/plain": [
       "0"
      ]
     },
     "execution_count": 57,
     "metadata": {},
     "output_type": "execute_result"
    }
   ],
   "source": [
    "navs = soup.find_all(name=\"nav_id\")\n",
    "len(navs)"
   ]
  },
  {
   "cell_type": "code",
   "execution_count": 58,
   "metadata": {},
   "outputs": [
    {
     "data": {
      "text/plain": [
       "897"
      ]
     },
     "execution_count": 58,
     "metadata": {},
     "output_type": "execute_result"
    }
   ],
   "source": [
    "len(soup.find_all(name=True))"
   ]
  },
  {
   "cell_type": "code",
   "execution_count": 59,
   "metadata": {},
   "outputs": [
    {
     "data": {
      "text/plain": [
       "98"
      ]
     },
     "execution_count": 59,
     "metadata": {},
     "output_type": "execute_result"
    }
   ],
   "source": [
    "anchors = soup.find_all(\"a\")\n",
    "len(anchors)"
   ]
  },
  {
   "cell_type": "code",
   "execution_count": 60,
   "metadata": {},
   "outputs": [
    {
     "data": {
      "text/plain": [
       "bs4.element.ResultSet"
      ]
     },
     "execution_count": 60,
     "metadata": {},
     "output_type": "execute_result"
    }
   ],
   "source": [
    "type(anchors)"
   ]
  },
  {
   "cell_type": "code",
   "execution_count": 61,
   "metadata": {},
   "outputs": [
    {
     "data": {
      "text/plain": [
       "[<a href=\"/\" title=\"Sludinājumi\"><img alt=\"Sludinājumi\" border=\"0\" class=\"page_header_logo\" src=\"https://i.ss.com/img/p.gif\"/></a>,\n",
       " <a class=\"a_menu\" href=\"/lv/real-estate/flats/new/\" title=\"Iesniegt Sludinājumu\">Iesniegt Sludinājumu</a>,\n",
       " <a class=\"a_menu\" href=\"/lv/login/\" title=\"Mani Sludinājumi\">Mani Sludinājumi</a>,\n",
       " <a class=\"a_menu\" href=\"/lv/real-estate/flats/riga/centre/search/\" title=\"Meklēt sludinājumus\">Meklēšana</a>,\n",
       " <a class=\"a_menu\" href=\"/lv/favorites/\" title=\"Memo\">Memo</a>]"
      ]
     },
     "execution_count": 61,
     "metadata": {},
     "output_type": "execute_result"
    }
   ],
   "source": [
    "anchors[:5]"
   ]
  },
  {
   "cell_type": "code",
   "execution_count": 62,
   "metadata": {},
   "outputs": [
    {
     "data": {
      "text/plain": [
       "(98, list)"
      ]
     },
     "execution_count": 62,
     "metadata": {},
     "output_type": "execute_result"
    }
   ],
   "source": [
    "alist = [anchor for anchor in anchors] #list comprehension would conver anchors, same as list(anchors)\n",
    "# list(anchors)\n",
    "len(alist),type(alist)"
   ]
  },
  {
   "cell_type": "code",
   "execution_count": 63,
   "metadata": {},
   "outputs": [
    {
     "data": {
      "text/plain": [
       "10"
      ]
     },
     "execution_count": 63,
     "metadata": {},
     "output_type": "execute_result"
    }
   ],
   "source": [
    "navs = [anchor for anchor in anchors if anchor.get(\"name\") == \"nav_id\"] # get will get us None if no \"name\" exists\n",
    "len(navs)"
   ]
  },
  {
   "cell_type": "code",
   "execution_count": 64,
   "metadata": {},
   "outputs": [
    {
     "data": {
      "text/plain": [
       "<a class=\"navi\" href=\"/lv/real-estate/flats/riga/centre/sell/page25.html\" name=\"nav_id\" rel=\"prev\"><img border=\"0\" height=\"5\" src=\"https://i.ss.com/img/s_left.png\" style=\"padding-bottom:2px;\" width=\"9\"/> Iepriekšējie</a>"
      ]
     },
     "execution_count": 64,
     "metadata": {},
     "output_type": "execute_result"
    }
   ],
   "source": [
    "navs[0]"
   ]
  },
  {
   "cell_type": "code",
   "execution_count": 65,
   "metadata": {},
   "outputs": [
    {
     "data": {
      "text/plain": [
       "{'name': 'nav_id',\n",
       " 'rel': ['prev'],\n",
       " 'class': ['navi'],\n",
       " 'href': '/lv/real-estate/flats/riga/centre/sell/page25.html'}"
      ]
     },
     "execution_count": 65,
     "metadata": {},
     "output_type": "execute_result"
    }
   ],
   "source": [
    "navs[0].attrs"
   ]
  },
  {
   "cell_type": "code",
   "execution_count": 66,
   "metadata": {},
   "outputs": [
    {
     "data": {
      "text/plain": [
       "'/lv/real-estate/flats/riga/centre/sell/page25.html'"
      ]
     },
     "execution_count": 66,
     "metadata": {},
     "output_type": "execute_result"
    }
   ],
   "source": [
    "navs[0]['href']"
   ]
  },
  {
   "cell_type": "code",
   "execution_count": 67,
   "metadata": {},
   "outputs": [
    {
     "data": {
      "text/plain": [
       "'25.html'"
      ]
     },
     "execution_count": 67,
     "metadata": {},
     "output_type": "execute_result"
    }
   ],
   "source": [
    "navs[0]['href'].split(\"/page\")[1]"
   ]
  },
  {
   "cell_type": "code",
   "execution_count": 68,
   "metadata": {},
   "outputs": [
    {
     "data": {
      "text/plain": [
       "'/lv/real-estate/flats/riga/centre/sell'"
      ]
     },
     "execution_count": 68,
     "metadata": {},
     "output_type": "execute_result"
    }
   ],
   "source": [
    "navs[0]['href'].split(\"/page\")[0]"
   ]
  },
  {
   "cell_type": "code",
   "execution_count": 69,
   "metadata": {},
   "outputs": [
    {
     "data": {
      "text/plain": [
       "('25', str)"
      ]
     },
     "execution_count": 69,
     "metadata": {},
     "output_type": "execute_result"
    }
   ],
   "source": [
    "lastpage = navs[0]['href'].split(\"/page\")[1].split(\".\")[0]\n",
    "lastpage, type(lastpage)"
   ]
  },
  {
   "cell_type": "code",
   "execution_count": 70,
   "metadata": {},
   "outputs": [
    {
     "data": {
      "text/plain": [
       "25"
      ]
     },
     "execution_count": 70,
     "metadata": {},
     "output_type": "execute_result"
    }
   ],
   "source": [
    "lastpage = int(lastpage)\n",
    "lastpage"
   ]
  },
  {
   "cell_type": "code",
   "execution_count": null,
   "metadata": {},
   "outputs": [],
   "source": [
    "centrs"
   ]
  },
  {
   "cell_type": "code",
   "execution_count": 72,
   "metadata": {},
   "outputs": [
    {
     "data": {
      "text/plain": [
       "['https://www.ss.com/lv/real-estate/flats/riga/centre/sell/',\n",
       " 'https://www.ss.com/lv/real-estate/flats/riga/centre/sell/',\n",
       " 'https://www.ss.com/lv/real-estate/flats/riga/centre/sell/',\n",
       " 'https://www.ss.com/lv/real-estate/flats/riga/centre/sell/',\n",
       " 'https://www.ss.com/lv/real-estate/flats/riga/centre/sell/']"
      ]
     },
     "execution_count": 72,
     "metadata": {},
     "output_type": "execute_result"
    }
   ],
   "source": [
    "pagelist = [centrs]\n",
    "extrapages = [f\"{centrs}\" for n in range(2,lastpage+1)]\n",
    "extrapages[:5]"
   ]
  },
  {
   "cell_type": "code",
   "execution_count": 73,
   "metadata": {},
   "outputs": [
    {
     "data": {
      "text/plain": [
       "(['https://www.ss.com/lv/real-estate/flats/riga/centre/sell//page2.html',\n",
       "  'https://www.ss.com/lv/real-estate/flats/riga/centre/sell//page3.html',\n",
       "  'https://www.ss.com/lv/real-estate/flats/riga/centre/sell//page4.html',\n",
       "  'https://www.ss.com/lv/real-estate/flats/riga/centre/sell//page5.html',\n",
       "  'https://www.ss.com/lv/real-estate/flats/riga/centre/sell//page6.html'],\n",
       " ['https://www.ss.com/lv/real-estate/flats/riga/centre/sell//page21.html',\n",
       "  'https://www.ss.com/lv/real-estate/flats/riga/centre/sell//page22.html',\n",
       "  'https://www.ss.com/lv/real-estate/flats/riga/centre/sell//page23.html',\n",
       "  'https://www.ss.com/lv/real-estate/flats/riga/centre/sell//page24.html',\n",
       "  'https://www.ss.com/lv/real-estate/flats/riga/centre/sell//page25.html'])"
      ]
     },
     "execution_count": 73,
     "metadata": {},
     "output_type": "execute_result"
    }
   ],
   "source": [
    "pagelist = [centrs]\n",
    "extrapages = [f\"{centrs}/page{n}.html\" for n in range(2,lastpage+1)]\n",
    "extrapages[:5],extrapages[-5:]"
   ]
  },
  {
   "cell_type": "code",
   "execution_count": 74,
   "metadata": {},
   "outputs": [
    {
     "data": {
      "text/plain": [
       "['https://www.ss.com/lv/real-estate/flats/riga/centre/sell/',\n",
       " 'https://www.ss.com/lv/real-estate/flats/riga/centre/sell//page2.html',\n",
       " 'https://www.ss.com/lv/real-estate/flats/riga/centre/sell//page3.html',\n",
       " 'https://www.ss.com/lv/real-estate/flats/riga/centre/sell//page4.html',\n",
       " 'https://www.ss.com/lv/real-estate/flats/riga/centre/sell//page5.html']"
      ]
     },
     "execution_count": 74,
     "metadata": {},
     "output_type": "execute_result"
    }
   ],
   "source": [
    "pagelist += extrapages # I add extrapages list to pagelist (flat)\n",
    "pagelist[:5]"
   ]
  },
  {
   "cell_type": "code",
   "execution_count": 75,
   "metadata": {},
   "outputs": [],
   "source": [
    "def getLocalPageList(url):\n",
    "    localPageList = [url]\n",
    "    req = requests.get(url)\n",
    "    if req.status_code != 200:\n",
    "        print(\"Bad Status Code\", req.status_code)\n",
    "        return\n",
    "    soup = BeautifulSoup(req.text, 'lxml') \n",
    "    anchors = soup.find_all(\"a\")\n",
    "    navs = [anchor for anchor in anchors if anchor.get(\"name\") == \"nav_id\"] # get will get us None if no \"name\" exists\n",
    "    if len(navs) == 0:\n",
    "        return localPageList # means we only have the first page and that is it\n",
    "    lastpage = navs[0]['href'].split(\"/page\")[1].split(\".\")[0]\n",
    "    lastpage = int(lastpage) # could have done in the previous page\n",
    "    extrapages = [f\"{centrs}page{n}.html\" for n in range(2,lastpage+1)]\n",
    "    localPageList += extrapages\n",
    "    return localPageList"
   ]
  },
  {
   "cell_type": "code",
   "execution_count": 76,
   "metadata": {},
   "outputs": [
    {
     "data": {
      "text/plain": [
       "['https://www.ss.com/lv/real-estate/flats/riga/centre/sell/',\n",
       " 'https://www.ss.com/lv/real-estate/flats/riga/centre/sell/page2.html',\n",
       " 'https://www.ss.com/lv/real-estate/flats/riga/centre/sell/page3.html',\n",
       " 'https://www.ss.com/lv/real-estate/flats/riga/centre/sell/page4.html',\n",
       " 'https://www.ss.com/lv/real-estate/flats/riga/centre/sell/page5.html']"
      ]
     },
     "execution_count": 76,
     "metadata": {},
     "output_type": "execute_result"
    }
   ],
   "source": [
    "center_pages = getLocalPageList(centrs)\n",
    "center_pages[:5]"
   ]
  },
  {
   "cell_type": "code",
   "execution_count": null,
   "metadata": {},
   "outputs": [],
   "source": [
    "getLocalPageList(\"https://www.ss.com/lv/real-estate/flats/riga/imanta/sell/\")"
   ]
  },
  {
   "cell_type": "code",
   "execution_count": null,
   "metadata": {},
   "outputs": [],
   "source": [
    "getLocalPageList(maskavas)"
   ]
  },
  {
   "cell_type": "code",
   "execution_count": null,
   "metadata": {},
   "outputs": [],
   "source": [
    "maskavas"
   ]
  },
  {
   "cell_type": "code",
   "execution_count": 77,
   "metadata": {},
   "outputs": [
    {
     "data": {
      "text/plain": [
       "154"
      ]
     },
     "execution_count": 77,
     "metadata": {},
     "output_type": "execute_result"
    }
   ],
   "source": [
    "allpages = getLocalPageList(\"https://www.ss.com/lv/real-estate/flats/riga/all/\")\n",
    "len(allpages)"
   ]
  },
  {
   "cell_type": "code",
   "execution_count": null,
   "metadata": {},
   "outputs": [],
   "source": [
    "166*30 # should be a bit more than 4963 (at this particular time)"
   ]
  },
  {
   "cell_type": "code",
   "execution_count": 78,
   "metadata": {},
   "outputs": [],
   "source": [
    "url = \"https://www.ss.com/lv/real-estate/flats/riga/\"\n",
    "baseurl = \"https://ss.com\"\n",
    "postfix = \"sell/\""
   ]
  },
  {
   "cell_type": "code",
   "execution_count": 79,
   "metadata": {},
   "outputs": [
    {
     "data": {
      "text/plain": [
       "200"
      ]
     },
     "execution_count": 79,
     "metadata": {},
     "output_type": "execute_result"
    }
   ],
   "source": [
    "# task get column information\n",
    "req = requests.get(\"https://www.ss.com/lv/real-estate/flats/riga/all/\")\n",
    "req.status_code"
   ]
  },
  {
   "cell_type": "code",
   "execution_count": null,
   "metadata": {},
   "outputs": [],
   "source": [
    "soup = BeautifulSoup(req.text, 'lxml')\n",
    "soup.title"
   ]
  },
  {
   "cell_type": "code",
   "execution_count": 80,
   "metadata": {},
   "outputs": [
    {
     "data": {
      "text/plain": [
       "<tr id=\"head_line\">\n",
       "<td class=\"msg_column\" colspan=\"3\" width=\"70%\">\n",
       "<span style=\"float:left;\"> Sludinājumi\n",
       "</span>\n",
       "<span align=\"right\" class=\"msg_column\" style=\"float:right;text-align:right;padding-right:3px;\">\n",
       "<noindex>\n",
       "<a class=\"a19\" href=\"/lv/real-estate/flats/riga/centre/sell/fDgSeF4S.html\" rel=\"nofollow\">datums</a></noindex></span>\n",
       "</td>\n",
       "<td class=\"msg_column_td\" nowrap=\"\"><noindex><a class=\"a18\" href=\"/lv/real-estate/flats/riga/centre/sell/fDgSeF4SFDwT.html\" rel=\"nofollow\" title=\"\">Iela</a></noindex></td><td class=\"msg_column_td\" nowrap=\"\"><noindex><a class=\"a18\" href=\"/lv/real-estate/flats/riga/centre/sell/fDgSeF4SelM=.html\" rel=\"nofollow\" title=\"\">Ist.</a></noindex></td><td class=\"msg_column_td\" nowrap=\"\"><noindex><a class=\"a18\" href=\"/lv/real-estate/flats/riga/centre/sell/fDgSeF4QelM=.html\" rel=\"nofollow\" title=\"\">m2</a></noindex></td><td class=\"msg_column_td\" nowrap=\"\"><noindex><a class=\"a18\" href=\"/lv/real-estate/flats/riga/centre/sell/fDgSeF4XelM=.html\" rel=\"nofollow\" title=\"\">Stāvs</a></noindex></td><td class=\"msg_column_td\" nowrap=\"\"><noindex><a class=\"a18\" href=\"/lv/real-estate/flats/riga/centre/sell/fDgSeF4VelM=.html\" rel=\"nofollow\" title=\"\">Sērija</a></noindex></td><td background=\"https://i.ss.com/img/pl.gif\" class=\"msg_column\" nowrap=\"\" style=\"border-left:1px #FFFFFF solid;\"><noindex><a class=\"a18\" href=\"/lv/real-estate/flats/riga/centre/sell/fDgSeF4bRDwT.html\" rel=\"nofollow\">Cena, m2</a></noindex></td><td class=\"msg_column_td\" nowrap=\"\"><noindex><a class=\"a18\" href=\"/lv/real-estate/flats/riga/centre/sell/fDgSeF4belM=.html\" rel=\"nofollow\" title=\"\">Cena</a></noindex></td></tr>"
      ]
     },
     "execution_count": 80,
     "metadata": {},
     "output_type": "execute_result"
    }
   ],
   "source": [
    "headline = soup.find(\"tr\", {\"id\":\"head_line\"}) # this is a shorter way of finding by tr AND this element having particular id\n",
    "headline"
   ]
  },
  {
   "cell_type": "code",
   "execution_count": 82,
   "metadata": {},
   "outputs": [
    {
     "data": {
      "text/plain": [
       "8"
      ]
     },
     "execution_count": 82,
     "metadata": {},
     "output_type": "execute_result"
    }
   ],
   "source": [
    "headtds = headline.find_all(\"td\")\n",
    "len(headtds)"
   ]
  },
  {
   "cell_type": "code",
   "execution_count": 83,
   "metadata": {},
   "outputs": [
    {
     "data": {
      "text/plain": [
       "[<td class=\"msg_column\" colspan=\"3\" width=\"70%\">\n",
       " <span style=\"float:left;\"> Sludinājumi\n",
       " </span>\n",
       " <span align=\"right\" class=\"msg_column\" style=\"float:right;text-align:right;padding-right:3px;\">\n",
       " <noindex>\n",
       " <a class=\"a19\" href=\"/lv/real-estate/flats/riga/centre/sell/fDgSeF4S.html\" rel=\"nofollow\">datums</a></noindex></span>\n",
       " </td>,\n",
       " <td class=\"msg_column_td\" nowrap=\"\"><noindex><a class=\"a18\" href=\"/lv/real-estate/flats/riga/centre/sell/fDgSeF4SFDwT.html\" rel=\"nofollow\" title=\"\">Iela</a></noindex></td>,\n",
       " <td class=\"msg_column_td\" nowrap=\"\"><noindex><a class=\"a18\" href=\"/lv/real-estate/flats/riga/centre/sell/fDgSeF4SelM=.html\" rel=\"nofollow\" title=\"\">Ist.</a></noindex></td>,\n",
       " <td class=\"msg_column_td\" nowrap=\"\"><noindex><a class=\"a18\" href=\"/lv/real-estate/flats/riga/centre/sell/fDgSeF4QelM=.html\" rel=\"nofollow\" title=\"\">m2</a></noindex></td>,\n",
       " <td class=\"msg_column_td\" nowrap=\"\"><noindex><a class=\"a18\" href=\"/lv/real-estate/flats/riga/centre/sell/fDgSeF4XelM=.html\" rel=\"nofollow\" title=\"\">Stāvs</a></noindex></td>,\n",
       " <td class=\"msg_column_td\" nowrap=\"\"><noindex><a class=\"a18\" href=\"/lv/real-estate/flats/riga/centre/sell/fDgSeF4VelM=.html\" rel=\"nofollow\" title=\"\">Sērija</a></noindex></td>,\n",
       " <td background=\"https://i.ss.com/img/pl.gif\" class=\"msg_column\" nowrap=\"\" style=\"border-left:1px #FFFFFF solid;\"><noindex><a class=\"a18\" href=\"/lv/real-estate/flats/riga/centre/sell/fDgSeF4bRDwT.html\" rel=\"nofollow\">Cena, m2</a></noindex></td>,\n",
       " <td class=\"msg_column_td\" nowrap=\"\"><noindex><a class=\"a18\" href=\"/lv/real-estate/flats/riga/centre/sell/fDgSeF4belM=.html\" rel=\"nofollow\" title=\"\">Cena</a></noindex></td>]"
      ]
     },
     "execution_count": 83,
     "metadata": {},
     "output_type": "execute_result"
    }
   ],
   "source": [
    "headtds"
   ]
  },
  {
   "cell_type": "code",
   "execution_count": null,
   "metadata": {},
   "outputs": [],
   "source": [
    "headcolumns = [el.text for el in headtds[1:]] #.text gets us content even from children and grandchildren\n",
    "headcolumns"
   ]
  },
  {
   "cell_type": "code",
   "execution_count": 84,
   "metadata": {},
   "outputs": [],
   "source": [
    "def getColList(soup):\n",
    "    column_list = [\"description\",\"url\"]\n",
    "    headline = soup.find(\"tr\", {\"id\":\"head_line\"})\n",
    "    headtds = headline.find_all(\"td\")\n",
    "    headcolumns = [el.text for el in headtds[1:]]\n",
    "    column_list += headcolumns\n",
    "    return column_list"
   ]
  },
  {
   "cell_type": "code",
   "execution_count": 85,
   "metadata": {},
   "outputs": [
    {
     "data": {
      "text/plain": [
       "['description',\n",
       " 'url',\n",
       " 'Iela',\n",
       " 'Ist.',\n",
       " 'm2',\n",
       " 'Stāvs',\n",
       " 'Sērija',\n",
       " 'Cena, m2',\n",
       " 'Cena']"
      ]
     },
     "execution_count": 85,
     "metadata": {},
     "output_type": "execute_result"
    }
   ],
   "source": [
    "mycolist = getColList(soup)\n",
    "mycolist"
   ]
  },
  {
   "cell_type": "code",
   "execution_count": 86,
   "metadata": {},
   "outputs": [
    {
     "data": {
      "text/plain": [
       "['description', 'url', 'Modelis', 'Gads', 'Tilp.', 'Nobrauk.', 'Cena']"
      ]
     },
     "execution_count": 86,
     "metadata": {},
     "output_type": "execute_result"
    }
   ],
   "source": [
    "carcols = getColList(BeautifulSoup(requests.get(\"https://www.ss.com/lv/transport/cars/volkswagen/\").text, 'lxml'))\n",
    "carcols"
   ]
  },
  {
   "cell_type": "code",
   "execution_count": 91,
   "metadata": {},
   "outputs": [],
   "source": [
    "def getRow(row,colist):\n",
    "    row_tds = row.find_all('td')\n",
    "    rowDict = {}\n",
    "    if len(row_tds) <3: # a little sanity check\n",
    "        print(\"Hmm bad row\")\n",
    "        return rowDict\n",
    "    \n",
    "    rowDict[colist[0]] = row_tds[2].text\n",
    "    rowDict[colist[1]] = \"https://ss.com\" + row_tds[1].find('a').get('href')\n",
    "    for td,key in zip(row_tds[3:],colist[2:]): \n",
    "        rowDict[key] = td.text\n",
    "    return rowDict\n",
    "    "
   ]
  },
  {
   "cell_type": "code",
   "execution_count": 88,
   "metadata": {},
   "outputs": [
    {
     "data": {
      "text/plain": [
       "<title>SS.COM Dzīvokļi - Rīga - Centrs, Cenas, Pārdod - Sludinājumi</title>"
      ]
     },
     "execution_count": 88,
     "metadata": {},
     "output_type": "execute_result"
    }
   ],
   "source": [
    "soup.title"
   ]
  },
  {
   "cell_type": "code",
   "execution_count": 89,
   "metadata": {},
   "outputs": [],
   "source": [
    "trows = soup.find_all('tr')\n",
    "aprows = [row for row in trows if row.get('id',\"\").startswith(\"tr_\") and not row.get('id',\"\").startswith(\"tr_bnr\") ]"
   ]
  },
  {
   "cell_type": "code",
   "execution_count": 90,
   "metadata": {},
   "outputs": [
    {
     "ename": "NameError",
     "evalue": "name 'getRows' is not defined",
     "output_type": "error",
     "traceback": [
      "\u001b[1;31m---------------------------------------------------------------------------\u001b[0m",
      "\u001b[1;31mNameError\u001b[0m                                 Traceback (most recent call last)",
      "\u001b[1;32m<ipython-input-90-265e9d4f8e0f>\u001b[0m in \u001b[0;36m<module>\u001b[1;34m\u001b[0m\n\u001b[1;32m----> 1\u001b[1;33m \u001b[0mgetRows\u001b[0m\u001b[1;33m(\u001b[0m\u001b[0maprows\u001b[0m\u001b[1;33m[\u001b[0m\u001b[1;36m0\u001b[0m\u001b[1;33m]\u001b[0m\u001b[1;33m,\u001b[0m \u001b[0mmycolist\u001b[0m\u001b[1;33m)\u001b[0m\u001b[1;33m\u001b[0m\u001b[1;33m\u001b[0m\u001b[0m\n\u001b[0m",
      "\u001b[1;31mNameError\u001b[0m: name 'getRows' is not defined"
     ]
    }
   ],
   "source": [
    "getRows(aprows[0], mycolist)"
   ]
  },
  {
   "cell_type": "code",
   "execution_count": null,
   "metadata": {},
   "outputs": [],
   "source": [
    "carsoup = BeautifulSoup(requests.get(\"https://www.ss.com/lv/transport/cars/volkswagen/\").text, 'lxml')\n",
    "carsoup.title"
   ]
  },
  {
   "cell_type": "code",
   "execution_count": null,
   "metadata": {},
   "outputs": [],
   "source": [
    "trows = carsoup.find_all('tr')\n",
    "aprows = [row for row in trows if row.get('id',\"\").startswith(\"tr_\") and not row.get('id',\"\").startswith(\"tr_bnr\") ]\n",
    "getRows(aprows[0], carcols)"
   ]
  },
  {
   "cell_type": "code",
   "execution_count": null,
   "metadata": {},
   "outputs": [],
   "source": [
    "soup.title"
   ]
  },
  {
   "cell_type": "code",
   "execution_count": 92,
   "metadata": {},
   "outputs": [],
   "source": [
    "def getRowList(url):\n",
    "    req = requests.get(url)\n",
    "    if req.status_code != 200:\n",
    "        print(\"Bad request\", req.status_code)\n",
    "        return [] # more likely to work even if one bad request goes through\n",
    "    soup = BeautifulSoup(req.text, 'lxml')\n",
    "    trows = soup.find_all('tr')\n",
    "    aprows = [row for row in trows if row.get('id',\"\").startswith(\"tr_\") and not row.get('id',\"\").startswith(\"tr_bnr\") ]\n",
    "    return aprows"
   ]
  },
  {
   "cell_type": "code",
   "execution_count": null,
   "metadata": {},
   "outputs": [],
   "source": []
  },
  {
   "cell_type": "code",
   "execution_count": 93,
   "metadata": {},
   "outputs": [],
   "source": [
    "def getAdList(myurl):\n",
    "    soup = BeautifulSoup(requests.get(myurl).text, 'lxml') # no status check\n",
    "    adlist = []\n",
    "    colist = getColList(soup)\n",
    "    urlist = getLocalPageList(myurl)\n",
    "    for url in urlist[:3]: #FIXME  for url in urlist: \n",
    "        print(f\"Getting Rows From {url}\")\n",
    "        rowlist = getRowList(url)\n",
    "        for row in rowlist:\n",
    "            adlist.append(getRow(row, colist))\n",
    "        print(f\"Finished Processing {url}\")\n",
    "        time.sleep(0.3) # good practice to add a little pause\n",
    "    return adlist\n",
    "    "
   ]
  },
  {
   "cell_type": "code",
   "execution_count": null,
   "metadata": {},
   "outputs": [],
   "source": [
    "allRiga = \"https://www.ss.com/lv/real-estate/flats/riga/all/sell/\""
   ]
  },
  {
   "cell_type": "code",
   "execution_count": null,
   "metadata": {},
   "outputs": [],
   "source": [
    "adlist = getAdList(allRiga)"
   ]
  },
  {
   "cell_type": "code",
   "execution_count": null,
   "metadata": {},
   "outputs": [],
   "source": [
    "len(adlist)"
   ]
  },
  {
   "cell_type": "code",
   "execution_count": null,
   "metadata": {},
   "outputs": [],
   "source": [
    "adlist[:2]"
   ]
  },
  {
   "cell_type": "code",
   "execution_count": null,
   "metadata": {},
   "outputs": [],
   "source": [
    "df = pd.DataFrame(adlist)\n",
    "df.head()"
   ]
  },
  {
   "cell_type": "code",
   "execution_count": null,
   "metadata": {},
   "outputs": [],
   "source": [
    "df.to_excel(\"allRiga.xlsx\")"
   ]
  },
  {
   "cell_type": "code",
   "execution_count": 94,
   "metadata": {},
   "outputs": [],
   "source": [
    "def getRegionList(url, baseurl = \"https://ss.com\", postfix = \"sell/\"):\n",
    "    req = requests.get(url)\n",
    "    if req.status_code != 200:\n",
    "        print(f\"Bad response! {req.status_code}\")\n",
    "        return []\n",
    "    soup = BeautifulSoup(req.text, 'lxml')\n",
    "    allanchors = soup.find_all('a')\n",
    "    acats = [el for el in allanchors if 'class' in el.attrs\\\n",
    "             and 'a_category' in el.attrs['class']]\n",
    "    regionlist = [baseurl + el.attrs['href'] + postfix for el in acats]\n",
    "#     regiontuples = [(el.text, baseurl + el.attrs['href'] + postfix)\\\n",
    "#                     for el in acats]\n",
    "    # we do not want the last one with all\n",
    "    return regionlist[:-1]\n",
    "    "
   ]
  },
  {
   "cell_type": "code",
   "execution_count": null,
   "metadata": {},
   "outputs": [],
   "source": [
    "myregions = getRegionList(url)\n",
    "len(myregions)"
   ]
  },
  {
   "cell_type": "code",
   "execution_count": 95,
   "metadata": {},
   "outputs": [],
   "source": [
    "def getAllLocalUrls(url):\n",
    "    \"\"\"Get a list of all urls including paginated pages\"\"\"\n",
    "    results = [url] # default is just the url if no extra pages found\n",
    "    req = requests.get(url)\n",
    "    if req.status_code != 200:\n",
    "        print(f\"Bad response! {req.status_code}\")\n",
    "        return []\n",
    "    soup = BeautifulSoup(req.text, 'lxml')\n",
    "    # we just need a one element\n",
    "    prevanchor = soup.find('a', {\"rel\":\"prev\"})\n",
    "    if prevanchor == None:\n",
    "        return results\n",
    "    href = prevanchor.attrs.get('href')\n",
    "    lastPageNum = int(href.split('page')[-1].split('.')[0])\n",
    "    print(lastPageNum)\n",
    "    nurls = [f\"{url}page{n}.html\" for n in range(2,lastPageNum+1)]\n",
    "    results += nurls\n",
    "    return results"
   ]
  },
  {
   "cell_type": "code",
   "execution_count": null,
   "metadata": {},
   "outputs": [],
   "source": [
    "myresults = getAllLocalUrls(myregions[0])\n",
    "myresults"
   ]
  },
  {
   "cell_type": "code",
   "execution_count": null,
   "metadata": {},
   "outputs": [],
   "source": [
    "mysplit = href.split(\".\")\n",
    "mysplit"
   ]
  },
  {
   "cell_type": "code",
   "execution_count": null,
   "metadata": {},
   "outputs": [],
   "source": [
    "splitbypage = mysplit[0].split(\"page\")\n",
    "splitbypage"
   ]
  },
  {
   "cell_type": "code",
   "execution_count": null,
   "metadata": {},
   "outputs": [],
   "source": [
    "int(splitbypage[1]),splitbypage[1],type(splitbypage[1])"
   ]
  },
  {
   "cell_type": "code",
   "execution_count": 96,
   "metadata": {},
   "outputs": [],
   "source": [
    "def getAllUrls(url=\"https://www.ss.com/lv/real-estate/flats/riga/\"):\n",
    "    urlist = []\n",
    "    reglist = getRegionList(url)\n",
    "    for region in reglist:\n",
    "        print(f\"Working on {region}\")\n",
    "        regurls = getAllLocalUrls(region)\n",
    "        urlist += regurls\n",
    "        time.sleep(0.3)\n",
    "    return urlist"
   ]
  },
  {
   "cell_type": "code",
   "execution_count": null,
   "metadata": {},
   "outputs": [],
   "source": [
    "urlist = getAllUrls()\n",
    "len(urlist)"
   ]
  },
  {
   "cell_type": "code",
   "execution_count": 97,
   "metadata": {},
   "outputs": [],
   "source": [
    "def getAllRows(url):\n",
    "    req = requests.get(url)\n",
    "    if req.status_code != 200:\n",
    "        print(f\"Bad response! {req.status_code}\")\n",
    "        return []\n",
    "    soup = BeautifulSoup(req.text, 'lxml')\n",
    "    allrows = soup.find_all('tr')\n",
    "    adrows = [el for el in allrows\\\n",
    "              if 'id' in el.attrs and 'tr_' in el.attrs['id']]\n",
    "    return adrows[:-1] # since the last one is not an ad"
   ]
  },
  {
   "cell_type": "code",
   "execution_count": null,
   "metadata": {},
   "outputs": [],
   "source": [
    "other = getAllRows(\"https://ss.com/lv/real-estate/flats/riga/other/sell/\")\n",
    "len(other)"
   ]
  },
  {
   "cell_type": "code",
   "execution_count": 98,
   "metadata": {},
   "outputs": [],
   "source": [
    "def getRow(row):\n",
    "    # get all table data cells\n",
    "    tds = row.find_all('td')\n",
    "    adlist = []\n",
    "    adlist.append(tds[1].find('a').attrs['href'])\n",
    "    for td in tds[2:]:\n",
    "        adlist.append(td.text)\n",
    "    return tuple(adlist)"
   ]
  },
  {
   "cell_type": "code",
   "execution_count": null,
   "metadata": {},
   "outputs": [],
   "source": [
    "getRow(other[0])"
   ]
  },
  {
   "cell_type": "code",
   "execution_count": 99,
   "metadata": {},
   "outputs": [],
   "source": [
    "def processAllUrls(urlist):\n",
    "    results = []\n",
    "    for url in urlist:\n",
    "        print(f\"Processing {url}\")\n",
    "        rows = getAllRows(url)\n",
    "        for row in rows:\n",
    "            results.append(getRow(row))\n",
    "        time.sleep(0.3)\n",
    "    return results"
   ]
  },
  {
   "cell_type": "code",
   "execution_count": null,
   "metadata": {},
   "outputs": [],
   "source": [
    "myrooms = processAllUrls(urlist)\n",
    "len(myrooms)"
   ]
  },
  {
   "cell_type": "code",
   "execution_count": null,
   "metadata": {},
   "outputs": [],
   "source": [
    "myrooms[:5]"
   ]
  },
  {
   "cell_type": "code",
   "execution_count": null,
   "metadata": {},
   "outputs": [],
   "source": [
    "len(myrooms)/9"
   ]
  },
  {
   "cell_type": "code",
   "execution_count": null,
   "metadata": {},
   "outputs": [],
   "source": []
  },
  {
   "cell_type": "code",
   "execution_count": null,
   "metadata": {},
   "outputs": [],
   "source": [
    "# originally we messed up and used += instead of mylist.append(newitem)\n",
    "fixmyrooms = [tuple(myrooms[n*9:n*9+9]) for n in range(len(myrooms)//9)]\n",
    "len(fixmyrooms)"
   ]
  },
  {
   "cell_type": "code",
   "execution_count": null,
   "metadata": {},
   "outputs": [],
   "source": [
    "fixmyrooms[:5]"
   ]
  },
  {
   "cell_type": "code",
   "execution_count": null,
   "metadata": {},
   "outputs": [],
   "source": [
    "base  = \"https://www.ss.com\"\n",
    "fixmyrooms = [tuple([base+el[0]] + list(el[1:])) for el in myrooms]\n",
    "fixmyrooms[:3]"
   ]
  },
  {
   "cell_type": "code",
   "execution_count": null,
   "metadata": {},
   "outputs": [],
   "source": [
    "df = pd.DataFrame(fixmyrooms)\n",
    "df.head()"
   ]
  },
  {
   "cell_type": "code",
   "execution_count": 100,
   "metadata": {},
   "outputs": [],
   "source": [
    "import datetime"
   ]
  },
  {
   "cell_type": "code",
   "execution_count": null,
   "metadata": {},
   "outputs": [],
   "source": [
    "now = datetime.datetime.now()\n",
    "now"
   ]
  },
  {
   "cell_type": "code",
   "execution_count": null,
   "metadata": {},
   "outputs": [],
   "source": [
    "now.month"
   ]
  },
  {
   "cell_type": "code",
   "execution_count": null,
   "metadata": {},
   "outputs": [],
   "source": [
    "now.hour"
   ]
  },
  {
   "cell_type": "code",
   "execution_count": null,
   "metadata": {},
   "outputs": [],
   "source": [
    "now.minute"
   ]
  },
  {
   "cell_type": "code",
   "execution_count": null,
   "metadata": {},
   "outputs": [],
   "source": [
    "now.second"
   ]
  },
  {
   "cell_type": "code",
   "execution_count": null,
   "metadata": {},
   "outputs": [],
   "source": [
    "now = datetime.datetime.now()\n",
    "df.to_csv(f'apartments\\\n",
    "_{now.month}_{now.hour}_{now.minute}_{now.second}.csv')"
   ]
  },
  {
   "cell_type": "code",
   "execution_count": null,
   "metadata": {},
   "outputs": [],
   "source": [
    "df.to_excel('apartments.xlsx')"
   ]
  },
  {
   "cell_type": "code",
   "execution_count": 101,
   "metadata": {},
   "outputs": [],
   "source": [
    "def getColumnNames(url, colNames = ['URL', 'Description']):\n",
    "    result = []\n",
    "    result += colNames\n",
    "    req = requests.get(url)\n",
    "    if req.status_code != 200:\n",
    "        print(f\"Bad response! {req.status_code}\")\n",
    "        return []\n",
    "    soup = BeautifulSoup(req.text, 'lxml')\n",
    "    columnrow = soup.find('tr', {'id':'head_line'})\n",
    "    tds = columnrow.find_all('td')\n",
    "    for td in tds[1:]:\n",
    "        result.append(td.text)\n",
    "    return result\n",
    "    "
   ]
  },
  {
   "cell_type": "code",
   "execution_count": null,
   "metadata": {},
   "outputs": [],
   "source": []
  },
  {
   "cell_type": "code",
   "execution_count": null,
   "metadata": {},
   "outputs": [],
   "source": [
    "columnNames = getColumnNames(\"https://www.ss.com/lv/real-estate/flats/riga/other/sell/\")"
   ]
  },
  {
   "cell_type": "code",
   "execution_count": null,
   "metadata": {},
   "outputs": [],
   "source": [
    "columnNames"
   ]
  },
  {
   "cell_type": "code",
   "execution_count": null,
   "metadata": {},
   "outputs": [],
   "source": [
    "columnNames"
   ]
  },
  {
   "cell_type": "code",
   "execution_count": null,
   "metadata": {},
   "outputs": [],
   "source": [
    "df.columns = columnNames\n",
    "df.head()"
   ]
  },
  {
   "cell_type": "code",
   "execution_count": 102,
   "metadata": {},
   "outputs": [
    {
     "name": "stdout",
     "output_type": "stream",
     "text": [
      "Writing util.py\n"
     ]
    }
   ],
   "source": [
    "%%writefile util.py\n",
    "def getFileName(prefix=\"apartments\", postfix=\"xlsx\", hasYear=False):\n",
    "    now = datetime.datetime.now()\n",
    "    if hasYear:\n",
    "        return f\"{prefix}_{now.year}_{now.month}_{now.hour}\\\n",
    "_{now.minute}_{now.second}.{postfix}\"\n",
    "    else:\n",
    "        return f\"{prefix}_{now.month}_{now.hour}\\\n",
    "_{now.minute}_{now.second}.{postfix}\""
   ]
  },
  {
   "cell_type": "code",
   "execution_count": 103,
   "metadata": {},
   "outputs": [],
   "source": [
    "import util"
   ]
  },
  {
   "cell_type": "code",
   "execution_count": null,
   "metadata": {},
   "outputs": [],
   "source": [
    "util.getFileName()"
   ]
  },
  {
   "cell_type": "code",
   "execution_count": null,
   "metadata": {},
   "outputs": [],
   "source": [
    "getFileName(\"rooms\", postfix=\"txt\",hasYear=True)"
   ]
  },
  {
   "cell_type": "code",
   "execution_count": null,
   "metadata": {},
   "outputs": [],
   "source": [
    "getFileName(\"cars\", postfix=\"xlsx\")"
   ]
  },
  {
   "cell_type": "code",
   "execution_count": null,
   "metadata": {},
   "outputs": [],
   "source": []
  },
  {
   "cell_type": "code",
   "execution_count": null,
   "metadata": {},
   "outputs": [],
   "source": []
  },
  {
   "cell_type": "code",
   "execution_count": null,
   "metadata": {},
   "outputs": [],
   "source": [
    "now = datetime.datetime.now()\n",
    "df.to_csv(getFileName())"
   ]
  },
  {
   "cell_type": "code",
   "execution_count": null,
   "metadata": {},
   "outputs": [],
   "source": [
    "df.to_excel('apartments.xlsx')"
   ]
  },
  {
   "cell_type": "code",
   "execution_count": null,
   "metadata": {},
   "outputs": [],
   "source": [
    "df.to_excel(getFileName())"
   ]
  },
  {
   "cell_type": "code",
   "execution_count": 104,
   "metadata": {},
   "outputs": [],
   "source": [
    "from IPython.display import HTML\n",
    "\n",
    "def create_download_link( df, title = \"Download CSV file\", filename = \"data.csv\"):  \n",
    "    csv = df.to_csv()\n",
    "    b64 = base64.b64encode(csv.encode())\n",
    "    payload = b64.decode()\n",
    "    html = '<a download=\"{filename}\" href=\"data:text/csv;base64,{payload}\" target=\"_blank\">{title}</a>'\n",
    "    html = html.format(payload=payload,title=title,filename=filename)\n",
    "    return HTML(html)"
   ]
  },
  {
   "cell_type": "code",
   "execution_count": 105,
   "metadata": {},
   "outputs": [],
   "source": [
    "import base64"
   ]
  },
  {
   "cell_type": "code",
   "execution_count": 106,
   "metadata": {},
   "outputs": [
    {
     "data": {
      "text/html": [
       "<a download=\"data.csv\" href=\"data:text/csv;base64,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\" target=\"_blank\">Download CSV file</a>"
      ],
      "text/plain": [
       "<IPython.core.display.HTML object>"
      ]
     },
     "execution_count": 106,
     "metadata": {},
     "output_type": "execute_result"
    }
   ],
   "source": [
    "create_download_link(df)"
   ]
  }
 ],
 "metadata": {
  "kernelspec": {
   "display_name": "Python 3",
   "language": "python",
   "name": "python3"
  },
  "language_info": {
   "codemirror_mode": {
    "name": "ipython",
    "version": 3
   },
   "file_extension": ".py",
   "mimetype": "text/x-python",
   "name": "python",
   "nbconvert_exporter": "python",
   "pygments_lexer": "ipython3",
   "version": "3.8.3"
  }
 },
 "nbformat": 4,
 "nbformat_minor": 2
}
