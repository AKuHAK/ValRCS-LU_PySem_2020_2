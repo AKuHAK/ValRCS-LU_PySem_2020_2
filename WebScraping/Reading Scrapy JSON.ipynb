{
 "cells": [
  {
   "cell_type": "code",
   "execution_count": 1,
   "metadata": {},
   "outputs": [],
   "source": [
    "import pandas as pd"
   ]
  },
  {
   "cell_type": "code",
   "execution_count": 2,
   "metadata": {},
   "outputs": [
    {
     "data": {
      "text/html": [
       "<div>\n",
       "<style scoped>\n",
       "    .dataframe tbody tr th:only-of-type {\n",
       "        vertical-align: middle;\n",
       "    }\n",
       "\n",
       "    .dataframe tbody tr th {\n",
       "        vertical-align: top;\n",
       "    }\n",
       "\n",
       "    .dataframe thead th {\n",
       "        text-align: right;\n",
       "    }\n",
       "</style>\n",
       "<table border=\"1\" class=\"dataframe\">\n",
       "  <thead>\n",
       "    <tr style=\"text-align: right;\">\n",
       "      <th></th>\n",
       "      <th>url</th>\n",
       "      <th>text</th>\n",
       "      <th>model</th>\n",
       "      <th>year</th>\n",
       "      <th>engine</th>\n",
       "      <th>noskr</th>\n",
       "      <th>price</th>\n",
       "    </tr>\n",
       "  </thead>\n",
       "  <tbody>\n",
       "    <tr>\n",
       "      <th>0</th>\n",
       "      <td>/msg/lv/transport/cars/audi/a6/bdbkme.html</td>\n",
       "      <td>Pārdošanā Audi A6 Avant, 2015. gada / 3.0D / 1...</td>\n",
       "      <td>A6</td>\n",
       "      <td>2015</td>\n",
       "      <td>3.0D</td>\n",
       "      <td>-</td>\n",
       "      <td>17,500  €</td>\n",
       "    </tr>\n",
       "    <tr>\n",
       "      <th>1</th>\n",
       "      <td>/msg/lv/transport/cars/audi/s4/ajllb.html</td>\n",
       "      <td>Pārdod Audi S4, ar 4.2 Benzīna motoru un autom...</td>\n",
       "      <td>S4</td>\n",
       "      <td>2005</td>\n",
       "      <td>4.2</td>\n",
       "      <td>209 tūkst.</td>\n",
       "      <td>7,300  €</td>\n",
       "    </tr>\n",
       "    <tr>\n",
       "      <th>2</th>\n",
       "      <td>/msg/lv/transport/cars/audi/a4/gjegb.html</td>\n",
       "      <td>Audi A4 2.0Tdi universāls. \\r\\nTehniski un viz...</td>\n",
       "      <td>A4</td>\n",
       "      <td>2005</td>\n",
       "      <td>2.0D</td>\n",
       "      <td>-</td>\n",
       "      <td>3,200  €</td>\n",
       "    </tr>\n",
       "    <tr>\n",
       "      <th>3</th>\n",
       "      <td>/msg/lv/transport/cars/audi/a6/flegp.html</td>\n",
       "      <td>Numurs davana. Lizing bez pirmo iemaksa. Gaz+b...</td>\n",
       "      <td>A6</td>\n",
       "      <td>1997</td>\n",
       "      <td>2.4</td>\n",
       "      <td>-</td>\n",
       "      <td>700  €</td>\n",
       "    </tr>\n",
       "    <tr>\n",
       "      <th>4</th>\n",
       "      <td>/msg/lv/transport/cars/audi/a2/fhnmn.html</td>\n",
       "      <td>No Vacijas, izcila tehniska un vizuala stavokl...</td>\n",
       "      <td>A2</td>\n",
       "      <td>2003</td>\n",
       "      <td>1.4D</td>\n",
       "      <td>-</td>\n",
       "      <td>2,950  €</td>\n",
       "    </tr>\n",
       "  </tbody>\n",
       "</table>\n",
       "</div>"
      ],
      "text/plain": [
       "                                          url  \\\n",
       "0  /msg/lv/transport/cars/audi/a6/bdbkme.html   \n",
       "1   /msg/lv/transport/cars/audi/s4/ajllb.html   \n",
       "2   /msg/lv/transport/cars/audi/a4/gjegb.html   \n",
       "3   /msg/lv/transport/cars/audi/a6/flegp.html   \n",
       "4   /msg/lv/transport/cars/audi/a2/fhnmn.html   \n",
       "\n",
       "                                                text model  year engine  \\\n",
       "0  Pārdošanā Audi A6 Avant, 2015. gada / 3.0D / 1...    A6  2015   3.0D   \n",
       "1  Pārdod Audi S4, ar 4.2 Benzīna motoru un autom...    S4  2005    4.2   \n",
       "2  Audi A4 2.0Tdi universāls. \\r\\nTehniski un viz...    A4  2005   2.0D   \n",
       "3  Numurs davana. Lizing bez pirmo iemaksa. Gaz+b...    A6  1997    2.4   \n",
       "4  No Vacijas, izcila tehniska un vizuala stavokl...    A2  2003   1.4D   \n",
       "\n",
       "        noskr      price  \n",
       "0           -  17,500  €  \n",
       "1  209 tūkst.   7,300  €  \n",
       "2           -   3,200  €  \n",
       "3           -     700  €  \n",
       "4           -   2,950  €  "
      ]
     },
     "execution_count": 2,
     "metadata": {},
     "output_type": "execute_result"
    }
   ],
   "source": [
    "df = pd.read_json(\"../data/output.json\")\n",
    "df.head()"
   ]
  },
  {
   "cell_type": "code",
   "execution_count": 3,
   "metadata": {},
   "outputs": [
    {
     "data": {
      "text/plain": [
       "(28, 7)"
      ]
     },
     "execution_count": 3,
     "metadata": {},
     "output_type": "execute_result"
    }
   ],
   "source": [
    "df.shape"
   ]
  },
  {
   "cell_type": "code",
   "execution_count": 4,
   "metadata": {},
   "outputs": [
    {
     "data": {
      "text/html": [
       "<div>\n",
       "<style scoped>\n",
       "    .dataframe tbody tr th:only-of-type {\n",
       "        vertical-align: middle;\n",
       "    }\n",
       "\n",
       "    .dataframe tbody tr th {\n",
       "        vertical-align: top;\n",
       "    }\n",
       "\n",
       "    .dataframe thead th {\n",
       "        text-align: right;\n",
       "    }\n",
       "</style>\n",
       "<table border=\"1\" class=\"dataframe\">\n",
       "  <thead>\n",
       "    <tr style=\"text-align: right;\">\n",
       "      <th></th>\n",
       "      <th>year</th>\n",
       "    </tr>\n",
       "  </thead>\n",
       "  <tbody>\n",
       "    <tr>\n",
       "      <th>count</th>\n",
       "      <td>28.000000</td>\n",
       "    </tr>\n",
       "    <tr>\n",
       "      <th>mean</th>\n",
       "      <td>2004.392857</td>\n",
       "    </tr>\n",
       "    <tr>\n",
       "      <th>std</th>\n",
       "      <td>6.032869</td>\n",
       "    </tr>\n",
       "    <tr>\n",
       "      <th>min</th>\n",
       "      <td>1994.000000</td>\n",
       "    </tr>\n",
       "    <tr>\n",
       "      <th>25%</th>\n",
       "      <td>1999.750000</td>\n",
       "    </tr>\n",
       "    <tr>\n",
       "      <th>50%</th>\n",
       "      <td>2005.000000</td>\n",
       "    </tr>\n",
       "    <tr>\n",
       "      <th>75%</th>\n",
       "      <td>2007.000000</td>\n",
       "    </tr>\n",
       "    <tr>\n",
       "      <th>max</th>\n",
       "      <td>2016.000000</td>\n",
       "    </tr>\n",
       "  </tbody>\n",
       "</table>\n",
       "</div>"
      ],
      "text/plain": [
       "              year\n",
       "count    28.000000\n",
       "mean   2004.392857\n",
       "std       6.032869\n",
       "min    1994.000000\n",
       "25%    1999.750000\n",
       "50%    2005.000000\n",
       "75%    2007.000000\n",
       "max    2016.000000"
      ]
     },
     "execution_count": 4,
     "metadata": {},
     "output_type": "execute_result"
    }
   ],
   "source": [
    "df.describe()"
   ]
  }
 ],
 "metadata": {
  "kernelspec": {
   "display_name": "Python 3",
   "language": "python",
   "name": "python3"
  },
  "language_info": {
   "codemirror_mode": {
    "name": "ipython",
    "version": 3
   },
   "file_extension": ".py",
   "mimetype": "text/x-python",
   "name": "python",
   "nbconvert_exporter": "python",
   "pygments_lexer": "ipython3",
   "version": "3.8.3"
  }
 },
 "nbformat": 4,
 "nbformat_minor": 4
}
