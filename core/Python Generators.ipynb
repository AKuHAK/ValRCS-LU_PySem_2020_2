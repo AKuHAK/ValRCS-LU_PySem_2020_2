{
 "cells": [
  {
   "cell_type": "markdown",
   "metadata": {},
   "source": [
    "# Iterators\n",
    "\n",
    "**An iterator is an object representing a stream of data**\n",
    "\n",
    "This object returns the data one element at a time.\n",
    "\n",
    "---\n",
    "\n",
    "https://docs.python.org/dev/library/stdtypes.html#iterator-types\n",
    "\n",
    "https://docs.python.org/dev/howto/functional.html#iterators\n",
    "\n",
    "---\n",
    "\n",
    "A Python iterator must support a method called `__next__()` that takes no arguments and always returns the next element of the stream.\n",
    "\n",
    "If there are no more elements in the stream, `__next__()` must raise the StopIteration exception.\n",
    "\n",
    "*(Anything that supports this \"protocol\" is an Iterator)*"
   ]
  },
  {
   "cell_type": "markdown",
   "metadata": {},
   "source": [
    "### Iterables\n",
    "\n",
    "The built-in `iter()` function takes an arbitrary object and tries to return an iterator that will return the object’s contents or elements, raising TypeError if the object doesn’t support iteration.\n",
    "\n",
    "An object is called `iterable` if you can get an iterator for it.\n",
    "\n",
    "---\n"
   ]
  },
  {
   "cell_type": "code",
   "execution_count": 1,
   "metadata": {},
   "outputs": [
    {
     "name": "stdout",
     "output_type": "stream",
     "text": [
      "q\n",
      "w\n",
      "e\n",
      "r\n",
      "t\n",
      "y\n"
     ]
    }
   ],
   "source": [
    "# most container objects can be iterated over using a `for` loop:\n",
    "\n",
    "my_str = \"qwerty\"\n",
    "\n",
    "for i in my_str:\n",
    "    print(i)"
   ]
  },
  {
   "cell_type": "markdown",
   "metadata": {},
   "source": [
    "---\n",
    "\n",
    "Behind the scenes, the `for` statement calls `iter()` on the container object. \n",
    "\n",
    "The function returns an iterator object that defines the method `__next__()` which accesses elements in the container one at a time. When there are no more elements, `__next__()` raises a `StopIteration` exception which tells the `for` loop to terminate.\n",
    "\n",
    "https://docs.python.org/3/tutorial/classes.html#iterators\n",
    "\n",
    "You can call the `__next__()` method using the `next()` built-in function:"
   ]
  },
  {
   "cell_type": "code",
   "execution_count": 2,
   "metadata": {},
   "outputs": [
    {
     "data": {
      "text/plain": [
       "'q'"
      ]
     },
     "execution_count": 2,
     "metadata": {},
     "output_type": "execute_result"
    }
   ],
   "source": [
    "it1 = iter(my_str)\n",
    "\n",
    "next(it1)"
   ]
  },
  {
   "cell_type": "code",
   "execution_count": 3,
   "metadata": {},
   "outputs": [
    {
     "data": {
      "text/plain": [
       "str_iterator"
      ]
     },
     "execution_count": 3,
     "metadata": {},
     "output_type": "execute_result"
    }
   ],
   "source": [
    "type(it1)"
   ]
  },
  {
   "cell_type": "code",
   "execution_count": 4,
   "metadata": {},
   "outputs": [
    {
     "data": {
      "text/plain": [
       "'w'"
      ]
     },
     "execution_count": 4,
     "metadata": {},
     "output_type": "execute_result"
    }
   ],
   "source": [
    "next(it1)"
   ]
  },
  {
   "cell_type": "markdown",
   "metadata": {},
   "source": [
    "### Implementing iterators\n",
    "\n",
    "To add iterator behavior to your classes define an `__iter__()` method which returns an object with a `__next__()` method.\n",
    "\n",
    "If the class defines `__next__()`, then `__iter__()` can just return self."
   ]
  },
  {
   "cell_type": "code",
   "execution_count": 31,
   "metadata": {},
   "outputs": [],
   "source": [
    "class CountFrom:\n",
    "    \n",
    "    def __init__(self, start, step = 1, end = None):\n",
    "        self.start = start\n",
    "        self.step = step\n",
    "        self.end = end\n",
    "        \n",
    "    def __next__(self):\n",
    "        self.start += self.step\n",
    "        if self.end is not None and self.start > self.end:\n",
    "            raise StopIteration\n",
    "        return self.start - self.step\n",
    "    \n",
    "    def __iter__(self):\n",
    "        return self\n"
   ]
  },
  {
   "cell_type": "code",
   "execution_count": 12,
   "metadata": {},
   "outputs": [
    {
     "data": {
      "text/plain": [
       "<__main__.CountFrom at 0x1fcd4626760>"
      ]
     },
     "execution_count": 12,
     "metadata": {},
     "output_type": "execute_result"
    }
   ],
   "source": [
    "cnt = CountFrom(-10)\n",
    "\n",
    "cnt"
   ]
  },
  {
   "cell_type": "code",
   "execution_count": 7,
   "metadata": {},
   "outputs": [
    {
     "data": {
      "text/plain": [
       "['__class__',\n",
       " '__delattr__',\n",
       " '__dict__',\n",
       " '__dir__',\n",
       " '__doc__',\n",
       " '__eq__',\n",
       " '__format__',\n",
       " '__ge__',\n",
       " '__getattribute__',\n",
       " '__gt__',\n",
       " '__hash__',\n",
       " '__init__',\n",
       " '__init_subclass__',\n",
       " '__iter__',\n",
       " '__le__',\n",
       " '__lt__',\n",
       " '__module__',\n",
       " '__ne__',\n",
       " '__new__',\n",
       " '__next__',\n",
       " '__reduce__',\n",
       " '__reduce_ex__',\n",
       " '__repr__',\n",
       " '__setattr__',\n",
       " '__sizeof__',\n",
       " '__str__',\n",
       " '__subclasshook__',\n",
       " '__weakref__',\n",
       " 'start',\n",
       " 'step']"
      ]
     },
     "execution_count": 7,
     "metadata": {},
     "output_type": "execute_result"
    }
   ],
   "source": [
    "dir(cnt)"
   ]
  },
  {
   "cell_type": "code",
   "execution_count": 13,
   "metadata": {},
   "outputs": [
    {
     "data": {
      "text/plain": [
       "-10"
      ]
     },
     "execution_count": 13,
     "metadata": {},
     "output_type": "execute_result"
    }
   ],
   "source": [
    "next(cnt)"
   ]
  },
  {
   "cell_type": "code",
   "execution_count": 8,
   "metadata": {},
   "outputs": [
    {
     "data": {
      "text/plain": [
       "__main__.CountFrom"
      ]
     },
     "execution_count": 8,
     "metadata": {},
     "output_type": "execute_result"
    }
   ],
   "source": [
    "cnt_it = iter(cnt)\n",
    "type(cnt_it)"
   ]
  },
  {
   "cell_type": "code",
   "execution_count": 14,
   "metadata": {},
   "outputs": [
    {
     "data": {
      "text/plain": [
       "-8"
      ]
     },
     "execution_count": 14,
     "metadata": {},
     "output_type": "execute_result"
    }
   ],
   "source": [
    "next(cnt_it)"
   ]
  },
  {
   "cell_type": "code",
   "execution_count": 17,
   "metadata": {},
   "outputs": [
    {
     "data": {
      "text/plain": [
       "-5"
      ]
     },
     "execution_count": 17,
     "metadata": {},
     "output_type": "execute_result"
    }
   ],
   "source": [
    "next(cnt_it)"
   ]
  },
  {
   "cell_type": "code",
   "execution_count": 32,
   "metadata": {},
   "outputs": [
    {
     "data": {
      "text/plain": [
       "__main__.CountFrom"
      ]
     },
     "execution_count": 32,
     "metadata": {},
     "output_type": "execute_result"
    }
   ],
   "source": [
    "jmp_cnt = CountFrom(50, 5, 80)\n",
    "type(jmp_cnt)"
   ]
  },
  {
   "cell_type": "code",
   "execution_count": 33,
   "metadata": {},
   "outputs": [
    {
     "data": {
      "text/plain": [
       "50"
      ]
     },
     "execution_count": 33,
     "metadata": {},
     "output_type": "execute_result"
    }
   ],
   "source": [
    "next(jmp_cnt)"
   ]
  },
  {
   "cell_type": "code",
   "execution_count": 34,
   "metadata": {},
   "outputs": [
    {
     "name": "stdout",
     "output_type": "stream",
     "text": [
      "55\n",
      "60\n",
      "65\n",
      "70\n",
      "75\n"
     ]
    }
   ],
   "source": [
    "for item in jmp_cnt:\n",
    "    if item > 100:\n",
    "        break;\n",
    "    print(item)"
   ]
  },
  {
   "cell_type": "markdown",
   "metadata": {},
   "source": [
    "---\n",
    "\n",
    "# Generators\n",
    "\n",
    "(Functions that behave like iterators)\n",
    "\n",
    "---\n",
    "**Generator = A function which returns an Iterator**\n",
    "\n",
    "It looks like a normal function except that it contains `yield` expressions for producing a series of values usable in a for-loop or that can be retrieved one at a time with the `next()` function.\n",
    "\n",
    "* *Any function that contains `yield` becomes a generator!*\n",
    "\n",
    "https://docs.python.org/3.6/glossary.html#term-generator\n",
    "\n",
    "https://docs.python.org/3.6/howto/functional.html#generators\n",
    "\n",
    "---\n",
    "\n",
    "**Lazy execution**\n",
    "\n",
    "Values are generated on-demand, as necessary => lazy execution\n",
    "\n",
    "Generator / iterator can be infinite.\n",
    "\n",
    "---"
   ]
  },
  {
   "cell_type": "code",
   "execution_count": 39,
   "metadata": {},
   "outputs": [],
   "source": [
    "def count_from(start=1):\n",
    "    \n",
    "    i = start\n",
    "    \n",
    "    # infinite cycle\n",
    "    while True:\n",
    "        \n",
    "        # return next value\n",
    "        yield i\n",
    "        \n",
    "        i += 1"
   ]
  },
  {
   "cell_type": "code",
   "execution_count": 36,
   "metadata": {},
   "outputs": [
    {
     "data": {
      "text/plain": [
       "<function __main__.count_from(start)>"
      ]
     },
     "execution_count": 36,
     "metadata": {},
     "output_type": "execute_result"
    }
   ],
   "source": [
    "count_from"
   ]
  },
  {
   "cell_type": "code",
   "execution_count": 37,
   "metadata": {},
   "outputs": [
    {
     "data": {
      "text/plain": [
       "function"
      ]
     },
     "execution_count": 37,
     "metadata": {},
     "output_type": "execute_result"
    }
   ],
   "source": [
    "type(count_from)"
   ]
  },
  {
   "cell_type": "code",
   "execution_count": 40,
   "metadata": {},
   "outputs": [
    {
     "data": {
      "text/plain": [
       "<generator object count_from at 0x000001FCD577A350>"
      ]
     },
     "execution_count": 40,
     "metadata": {},
     "output_type": "execute_result"
    }
   ],
   "source": [
    "res = count_from()\n",
    "res"
   ]
  },
  {
   "cell_type": "code",
   "execution_count": 41,
   "metadata": {},
   "outputs": [
    {
     "name": "stdout",
     "output_type": "stream",
     "text": [
      "Help on generator object:\n",
      "\n",
      "count_from = class generator(object)\n",
      " |  Methods defined here:\n",
      " |  \n",
      " |  __del__(...)\n",
      " |  \n",
      " |  __getattribute__(self, name, /)\n",
      " |      Return getattr(self, name).\n",
      " |  \n",
      " |  __iter__(self, /)\n",
      " |      Implement iter(self).\n",
      " |  \n",
      " |  __next__(self, /)\n",
      " |      Implement next(self).\n",
      " |  \n",
      " |  __repr__(self, /)\n",
      " |      Return repr(self).\n",
      " |  \n",
      " |  close(...)\n",
      " |      close() -> raise GeneratorExit inside generator.\n",
      " |  \n",
      " |  send(...)\n",
      " |      send(arg) -> send 'arg' into generator,\n",
      " |      return next yielded value or raise StopIteration.\n",
      " |  \n",
      " |  throw(...)\n",
      " |      throw(typ[,val[,tb]]) -> raise exception in generator,\n",
      " |      return next yielded value or raise StopIteration.\n",
      " |  \n",
      " |  ----------------------------------------------------------------------\n",
      " |  Data descriptors defined here:\n",
      " |  \n",
      " |  gi_code\n",
      " |  \n",
      " |  gi_frame\n",
      " |  \n",
      " |  gi_running\n",
      " |  \n",
      " |  gi_yieldfrom\n",
      " |      object being iterated by yield from, or None\n",
      "\n"
     ]
    }
   ],
   "source": [
    "help(res)"
   ]
  },
  {
   "cell_type": "code",
   "execution_count": 42,
   "metadata": {},
   "outputs": [
    {
     "data": {
      "text/plain": [
       "1"
      ]
     },
     "execution_count": 42,
     "metadata": {},
     "output_type": "execute_result"
    }
   ],
   "source": [
    "next(res)"
   ]
  },
  {
   "cell_type": "code",
   "execution_count": 43,
   "metadata": {},
   "outputs": [
    {
     "name": "stdout",
     "output_type": "stream",
     "text": [
      "2\n",
      "3\n",
      "4\n",
      "5\n",
      "6\n"
     ]
    }
   ],
   "source": [
    "for i in range(5):\n",
    "    print(next(res))\n",
    "    "
   ]
  },
  {
   "cell_type": "code",
   "execution_count": 44,
   "metadata": {},
   "outputs": [
    {
     "name": "stdout",
     "output_type": "stream",
     "text": [
      "7\n",
      "8\n",
      "9\n",
      "10\n",
      "11\n",
      "12\n",
      "13\n",
      "14\n",
      "15\n",
      "16\n",
      "17\n",
      "18\n",
      "19\n",
      "20\n"
     ]
    }
   ],
   "source": [
    "for i in res:\n",
    "    if i > 20:\n",
    "        break\n",
    "    print(i)"
   ]
  },
  {
   "cell_type": "markdown",
   "metadata": {},
   "source": [
    "## How do generators work?\n",
    "\n",
    "Let's take a look:"
   ]
  },
  {
   "cell_type": "code",
   "execution_count": 45,
   "metadata": {},
   "outputs": [],
   "source": [
    "def count_from(start):\n",
    "\n",
    "    print(\"Let's start\") \n",
    "    \n",
    "    i = start\n",
    "    \n",
    "    while True:\n",
    "        \n",
    "        print(\" ... before yield\")\n",
    "        yield i\n",
    "        \n",
    "        print(\" ... after yield\")\n",
    "        i += 1\n",
    "        \n",
    "    print(\"Exiting\")"
   ]
  },
  {
   "cell_type": "code",
   "execution_count": 52,
   "metadata": {},
   "outputs": [
    {
     "data": {
      "text/plain": [
       "generator"
      ]
     },
     "execution_count": 52,
     "metadata": {},
     "output_type": "execute_result"
    }
   ],
   "source": [
    "res = count_from(42)\n",
    "type(res)"
   ]
  },
  {
   "cell_type": "code",
   "execution_count": 47,
   "metadata": {},
   "outputs": [
    {
     "name": "stdout",
     "output_type": "stream",
     "text": [
      "Let's start\n",
      " ... before yield\n"
     ]
    },
    {
     "data": {
      "text/plain": [
       "42"
      ]
     },
     "execution_count": 47,
     "metadata": {},
     "output_type": "execute_result"
    }
   ],
   "source": [
    "# see how it works\n",
    "next(res)"
   ]
  },
  {
   "cell_type": "code",
   "execution_count": 49,
   "metadata": {},
   "outputs": [
    {
     "name": "stdout",
     "output_type": "stream",
     "text": [
      " ... after yield\n",
      " ... before yield\n"
     ]
    },
    {
     "data": {
      "text/plain": [
       "44"
      ]
     },
     "execution_count": 49,
     "metadata": {},
     "output_type": "execute_result"
    }
   ],
   "source": [
    "next(res)"
   ]
  },
  {
   "cell_type": "markdown",
   "metadata": {},
   "source": []
  },
  {
   "cell_type": "code",
   "execution_count": 50,
   "metadata": {},
   "outputs": [],
   "source": [
    "def cnt_from(start, step, end=None):\n",
    "    i = start\n",
    "    while True:\n",
    "        print(\"Before yield..\",i)\n",
    "        yield i\n",
    "        print(\"After yield..\",i)\n",
    "        i += step\n",
    "        if i > end:\n",
    "            break"
   ]
  },
  {
   "cell_type": "code",
   "execution_count": 51,
   "metadata": {},
   "outputs": [
    {
     "data": {
      "text/plain": [
       "generator"
      ]
     },
     "execution_count": 51,
     "metadata": {},
     "output_type": "execute_result"
    }
   ],
   "source": [
    "my_cnt = cnt_from(10,2,20)\n",
    "type(my_cnt)"
   ]
  },
  {
   "cell_type": "code",
   "execution_count": 53,
   "metadata": {},
   "outputs": [
    {
     "name": "stdout",
     "output_type": "stream",
     "text": [
      "Before yield.. 10\n",
      "10\n",
      "After yield.. 10\n",
      "Before yield.. 12\n",
      "12\n",
      "After yield.. 12\n",
      "Before yield.. 14\n",
      "14\n",
      "After yield.. 14\n",
      "Before yield.. 16\n",
      "16\n",
      "After yield.. 16\n",
      "Before yield.. 18\n",
      "18\n",
      "After yield.. 18\n",
      "Before yield.. 20\n",
      "20\n",
      "After yield.. 20\n"
     ]
    }
   ],
   "source": [
    "for el in my_cnt:\n",
    "    print(el)"
   ]
  },
  {
   "cell_type": "code",
   "execution_count": 54,
   "metadata": {},
   "outputs": [],
   "source": [
    "### Data processing example\n",
    "\n",
    "data = \"Some134 content __here, @1441   needs cleanup  \""
   ]
  },
  {
   "cell_type": "code",
   "execution_count": 55,
   "metadata": {},
   "outputs": [],
   "source": [
    "def get_tokens(data_in):\n",
    "    for item in data_in.split():\n",
    "        yield item"
   ]
  },
  {
   "cell_type": "code",
   "execution_count": 58,
   "metadata": {},
   "outputs": [
    {
     "data": {
      "text/plain": [
       "list"
      ]
     },
     "execution_count": 58,
     "metadata": {},
     "output_type": "execute_result"
    }
   ],
   "source": [
    "type(data.split())"
   ]
  },
  {
   "cell_type": "code",
   "execution_count": 56,
   "metadata": {},
   "outputs": [
    {
     "name": "stdout",
     "output_type": "stream",
     "text": [
      "<class 'generator'>\n",
      "Some134\n",
      "content\n",
      "__here,\n",
      "@1441\n",
      "needs\n",
      "cleanup\n"
     ]
    }
   ],
   "source": [
    "tokens = get_tokens(data)\n",
    "print(type(tokens))\n",
    "for i in tokens:\n",
    "    print(i)"
   ]
  },
  {
   "cell_type": "markdown",
   "metadata": {},
   "source": [
    "## Generators -> Data Pipelines\n",
    "\n",
    "---\n",
    "\n",
    "### Generator Tricks for Systems Programmers\n",
    "\n",
    "**by David Beazley**\n",
    "\n",
    "http://www.dabeaz.com/generators-uk/\n",
    "  * see the link for *source data* and *code examples*\n",
    "\n",
    "---\n",
    "\n",
    "**presentation slides:**\n",
    "http://www.dabeaz.com/generators-uk/GeneratorsUK.pdf\n",
    "\n",
    "* ... background (generator functions, generator expressions) - from slide 24\n",
    "* Part 2 (Processing data files) - **from slide 35**\n"
   ]
  },
  {
   "cell_type": "markdown",
   "metadata": {},
   "source": [
    "### Processing [huge] data files\n",
    "\n",
    "**... using Generator expressions**\n",
    "\n",
    "*see: Processing data files - from slide 35*\n",
    "\n",
    "without generators:\n",
    "\n",
    "```\n",
    "wwwlog = open(\"access-log\")\n",
    "total = 0\n",
    "for line in wwwlog:\n",
    "    bytestr = line.rsplit(None,1)[1]\n",
    "    if bytestr != '-':\n",
    "        total += int(bytestr)\n",
    "print \"Total\", total\n",
    "```\n",
    "\n",
    "with generators:\n",
    "\n",
    "```\n",
    "wwwlog     = open(\"access-log\")\n",
    "bytecolumn = (line.rsplit(None,1)[1] for line in wwwlog)\n",
    "bytes      = (int(x) for x in bytecolumn if x != '-')\n",
    "\n",
    "print \"Total\", sum(bytes)\n",
    "```"
   ]
  },
  {
   "cell_type": "code",
   "execution_count": null,
   "metadata": {},
   "outputs": [],
   "source": []
  },
  {
   "cell_type": "markdown",
   "metadata": {},
   "source": [
    "### Fun with files and directories (part 3)\n",
    "\n",
    "*see: Part 3 = from slide 35*\n",
    "\n",
    "generator to list files matching a pattern:\n",
    "\n",
    "```\n",
    "import os\n",
    "import fnmatch\n",
    "def gen_find(filepat,top):\n",
    "    for path, dirlist, filelist in os.walk(top):\n",
    "        for name in fnmatch.filter(filelist,filepat):\n",
    "            yield os.path.join(path,name)  \n",
    "```\n",
    "\n",
    "using this generator:\n",
    "\n",
    "`logs = gen_find(\"access-log*\",\"/usr/www/\")`\n",
    "\n",
    "**see slide 59 -> how a chain of generators is used to process these files**"
   ]
  },
  {
   "cell_type": "code",
   "execution_count": null,
   "metadata": {},
   "outputs": [],
   "source": []
  },
  {
   "cell_type": "markdown",
   "metadata": {},
   "source": [
    "## Advanced Generator topics\n",
    "\n",
    "---\n",
    "\n",
    "### Generators: The Final Frontier\n",
    "\n",
    "**by David Beazley**\n",
    "\n",
    "http://www.dabeaz.com/finalgenerator/\n",
    "  * see the link for *source data* and *code examples*\n",
    "\n",
    "This tutorial discusses advanced uses of using generators to alter program control flow, *explode brains*, and exponentially increase your job security. \n",
    "\n",
    "Topics include context managers, inlined futures, concurrency, asyncio, actors, compilers, and more. \n",
    "\n",
    "---\n",
    "\n",
    "* slide: http://www.dabeaz.com/finalgenerator/FinalGenerator.pdf\n",
    "* video: http://pyvideo.org/video/2575/generators-the-final-frontier\n",
    "* screencast: http://www.youtube.com/watch?v=5-qadlG7tWo\n",
    "\n",
    "---\n",
    "\n",
    "Example: \"Let's write a compiler!\"\n",
    "* see video at https://youtu.be/5-qadlG7tWo?t=6884\n",
    "* using generators to solve recursion problems\n",
    "\n",
    "---\n",
    "\n",
    "https://jeffknupp.com/blog/2013/04/07/improve-your-python-yield-and-generators-explained/\n",
    "\n",
    "---"
   ]
  },
  {
   "cell_type": "markdown",
   "metadata": {},
   "source": [
    "## Extra content\n"
   ]
  },
  {
   "cell_type": "markdown",
   "metadata": {},
   "source": [
    "### Generator expressions\n",
    "\n",
    "Similar to list expressions:\n",
    "\n",
    "`[\"*\"*i for i in range(20)]`\n",
    "\n",
    "... but they are \"lazy\", do not build the full list and return a *generator object* instead:\n",
    "\n",
    "`(\"*\"*i for i in range(20))`\n",
    "\n",
    "*Note: you can only consume (iterate over) generator objects once*"
   ]
  },
  {
   "cell_type": "code",
   "execution_count": null,
   "metadata": {},
   "outputs": [],
   "source": [
    "list = [\"*\"*i for i in range(20)]\n",
    "gen = (\"*\"*i for i in range(20))\n",
    "\n",
    "print(repr(list))\n",
    "print(repr(gen))"
   ]
  },
  {
   "cell_type": "code",
   "execution_count": null,
   "metadata": {},
   "outputs": [],
   "source": [
    "next(gen)"
   ]
  },
  {
   "cell_type": "code",
   "execution_count": null,
   "metadata": {
    "scrolled": true
   },
   "outputs": [],
   "source": [
    "next(gen)"
   ]
  },
  {
   "cell_type": "markdown",
   "metadata": {},
   "source": [
    "### Iterators *versus* Generators\n",
    "\n",
    "The same functionality can be implemented both using Iterators and Generators:\n",
    "\n",
    "see https://wiki.python.org/moin/Generators\n",
    "\n",
    "---\n",
    "\n",
    "* standalone version (builds list in memory, takes up space)\n",
    "* iterator version\n",
    "* generator version\n",
    "\n",
    "---"
   ]
  },
  {
   "cell_type": "markdown",
   "metadata": {},
   "source": [
    "## Exercises"
   ]
  },
  {
   "cell_type": "code",
   "execution_count": null,
   "metadata": {},
   "outputs": [],
   "source": []
  },
  {
   "cell_type": "code",
   "execution_count": null,
   "metadata": {},
   "outputs": [],
   "source": [
    "# write a generator function my_seq(a) that returns \n",
    "#   a sequence of numbers: a, a+2, a+4, ...\n",
    "\n",
    "def my_seq(a):\n",
    "    \n",
    "    # for now, this fn does nothing\n",
    "    # edit it (adding yield, etc.) to return the sequence described above\n",
    "    pass"
   ]
  },
  {
   "cell_type": "code",
   "execution_count": null,
   "metadata": {
    "scrolled": true
   },
   "outputs": [],
   "source": [
    "res_seq = my_seq(100)\n",
    "\n",
    "for i in range(5):\n",
    "    print(next(res_seq))"
   ]
  },
  {
   "cell_type": "code",
   "execution_count": null,
   "metadata": {},
   "outputs": [],
   "source": [
    "# write a modified function my_seq2(a) that returns\n",
    "#   a sequence of numbers: a, (a+2), (a+2)-3, (a+2-3)+2, ...\n",
    "\n",
    "def my_seq2(a):\n",
    "    \n",
    "    # for now, this fn does nothing\n",
    "    # edit it (adding yield, etc.) to return the sequence described above\n",
    "    pass"
   ]
  },
  {
   "cell_type": "code",
   "execution_count": null,
   "metadata": {},
   "outputs": [],
   "source": [
    "res_seq2 = my_seq2(100)\n",
    "\n",
    "for i in range(5):\n",
    "    print(next(res_seq2))"
   ]
  },
  {
   "cell_type": "code",
   "execution_count": 62,
   "metadata": {},
   "outputs": [],
   "source": [
    "from itertools import islice"
   ]
  },
  {
   "cell_type": "code",
   "execution_count": 69,
   "metadata": {},
   "outputs": [],
   "source": [
    "# write a generator function that returns a fibonacci - infinite\n",
    "# 1,1,2,3,5,8,13\n",
    "def fib():\n",
    "    a = 1\n",
    "    b = 1\n",
    "    c = a + b\n",
    "    while True:\n",
    "        yield a\n",
    "        a = b\n",
    "        b = c\n",
    "        c = a+b"
   ]
  },
  {
   "cell_type": "code",
   "execution_count": 70,
   "metadata": {},
   "outputs": [],
   "source": [
    "my_fib = fib()"
   ]
  },
  {
   "cell_type": "code",
   "execution_count": 71,
   "metadata": {},
   "outputs": [
    {
     "name": "stdout",
     "output_type": "stream",
     "text": [
      "1\n",
      "1\n",
      "2\n",
      "3\n",
      "5\n",
      "8\n",
      "13\n",
      "21\n",
      "34\n",
      "55\n",
      "89\n",
      "144\n",
      "233\n",
      "377\n",
      "610\n",
      "987\n",
      "1597\n",
      "2584\n",
      "4181\n",
      "6765\n"
     ]
    }
   ],
   "source": [
    "for i in islice(my_fib, 20):\n",
    "    print(i)"
   ]
  },
  {
   "cell_type": "code",
   "execution_count": 78,
   "metadata": {},
   "outputs": [],
   "source": [
    "def crazy_gen():\n",
    "    yield 1\n",
    "    yield 5\n",
    "    raise ValueError(\"Value fail\")\n",
    "    yield 42\n",
    "    yield 9000\n",
    "    "
   ]
  },
  {
   "cell_type": "code",
   "execution_count": 79,
   "metadata": {},
   "outputs": [],
   "source": [
    "my_g = crazy_gen()"
   ]
  },
  {
   "cell_type": "code",
   "execution_count": 83,
   "metadata": {},
   "outputs": [
    {
     "ename": "StopIteration",
     "evalue": "",
     "output_type": "error",
     "traceback": [
      "\u001b[1;31m---------------------------------------------------------------------------\u001b[0m",
      "\u001b[1;31mStopIteration\u001b[0m                             Traceback (most recent call last)",
      "\u001b[1;32m<ipython-input-83-51abf946d44e>\u001b[0m in \u001b[0;36m<module>\u001b[1;34m\u001b[0m\n\u001b[1;32m----> 1\u001b[1;33m \u001b[0mnext\u001b[0m\u001b[1;33m(\u001b[0m\u001b[0mmy_g\u001b[0m\u001b[1;33m)\u001b[0m\u001b[1;33m\u001b[0m\u001b[1;33m\u001b[0m\u001b[0m\n\u001b[0m",
      "\u001b[1;31mStopIteration\u001b[0m: "
     ]
    }
   ],
   "source": [
    "next(my_g)"
   ]
  },
  {
   "cell_type": "code",
   "execution_count": 77,
   "metadata": {},
   "outputs": [
    {
     "name": "stdout",
     "output_type": "stream",
     "text": [
      "1\n",
      "5\n",
      "Value fail\n",
      "42\n",
      "9000\n"
     ]
    }
   ],
   "source": [
    "\n",
    "for i in my_g:\n",
    "    print(i)"
   ]
  },
  {
   "cell_type": "code",
   "execution_count": null,
   "metadata": {},
   "outputs": [],
   "source": [
    "# remember that generators (unlike lists) they get used up\n"
   ]
  }
 ],
 "metadata": {
  "kernelspec": {
   "display_name": "Python 3",
   "language": "python",
   "name": "python3"
  },
  "language_info": {
   "codemirror_mode": {
    "name": "ipython",
    "version": 3
   },
   "file_extension": ".py",
   "mimetype": "text/x-python",
   "name": "python",
   "nbconvert_exporter": "python",
   "pygments_lexer": "ipython3",
   "version": "3.8.3"
  }
 },
 "nbformat": 4,
 "nbformat_minor": 2
}
