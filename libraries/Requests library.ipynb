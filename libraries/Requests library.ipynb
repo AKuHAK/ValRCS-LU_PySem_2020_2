{
 "cells": [
  {
   "cell_type": "markdown",
   "metadata": {},
   "source": [
    "## Requests: HTTP for Humans™\n",
    "\n",
    "https://requests.readthedocs.io/\n",
    "\n",
    "https://realpython.com/python-requests/\n",
    "    "
   ]
  },
  {
   "cell_type": "markdown",
   "metadata": {},
   "source": [
    "You may need to install Requests before it can be imported\n",
    " - e.g. using: `pip install requests`"
   ]
  },
  {
   "cell_type": "code",
   "execution_count": 1,
   "metadata": {},
   "outputs": [],
   "source": [
    "import requests"
   ]
  },
  {
   "cell_type": "code",
   "execution_count": 2,
   "metadata": {
    "scrolled": true
   },
   "outputs": [
    {
     "name": "stdout",
     "output_type": "stream",
     "text": [
      "Help on package requests:\n",
      "\n",
      "NAME\n",
      "    requests\n",
      "\n",
      "DESCRIPTION\n",
      "    Requests HTTP Library\n",
      "    ~~~~~~~~~~~~~~~~~~~~~\n",
      "    \n",
      "    Requests is an HTTP library, written in Python, for human beings. Basic GET\n",
      "    usage:\n",
      "    \n",
      "       >>> import requests\n",
      "       >>> r = requests.get('https://www.python.org')\n",
      "       >>> r.status_code\n",
      "       200\n",
      "       >>> 'Python is a programming language' in r.content\n",
      "       True\n",
      "    \n",
      "    ... or POST:\n",
      "    \n",
      "       >>> payload = dict(key1='value1', key2='value2')\n",
      "       >>> r = requests.post('https://httpbin.org/post', data=payload)\n",
      "       >>> print(r.text)\n",
      "       {\n",
      "         ...\n",
      "         \"form\": {\n",
      "           \"key2\": \"value2\",\n",
      "           \"key1\": \"value1\"\n",
      "         },\n",
      "         ...\n",
      "       }\n",
      "    \n",
      "    The other HTTP methods are supported - see `requests.api`. Full documentation\n",
      "    is at <http://python-requests.org>.\n",
      "    \n",
      "    :copyright: (c) 2017 by Kenneth Reitz.\n",
      "    :license: Apache 2.0, see LICENSE for more details.\n",
      "\n",
      "PACKAGE CONTENTS\n",
      "    __version__\n",
      "    _internal_utils\n",
      "    adapters\n",
      "    api\n",
      "    auth\n",
      "    certs\n",
      "    compat\n",
      "    cookies\n",
      "    exceptions\n",
      "    help\n",
      "    hooks\n",
      "    models\n",
      "    packages\n",
      "    sessions\n",
      "    status_codes\n",
      "    structures\n",
      "    utils\n",
      "\n",
      "FUNCTIONS\n",
      "    check_compatibility(urllib3_version, chardet_version)\n",
      "\n",
      "DATA\n",
      "    __author_email__ = 'me@kennethreitz.org'\n",
      "    __build__ = 139776\n",
      "    __cake__ = '✨ 🍰 ✨'\n",
      "    __copyright__ = 'Copyright 2019 Kenneth Reitz'\n",
      "    __description__ = 'Python HTTP for Humans.'\n",
      "    __license__ = 'Apache 2.0'\n",
      "    __title__ = 'requests'\n",
      "    __url__ = 'http://python-requests.org'\n",
      "    codes = <lookup 'status_codes'>\n",
      "    cryptography_version = '2.8'\n",
      "\n",
      "VERSION\n",
      "    2.22.0\n",
      "\n",
      "AUTHOR\n",
      "    Kenneth Reitz\n",
      "\n",
      "FILE\n",
      "    /Users/captsolo/Documents/Code/virtual-env/py37-seminar/lib/python3.7/site-packages/requests/__init__.py\n",
      "\n",
      "\n"
     ]
    }
   ],
   "source": [
    "help(requests)"
   ]
  },
  {
   "cell_type": "markdown",
   "metadata": {},
   "source": [
    "### Reading from the web"
   ]
  },
  {
   "cell_type": "code",
   "execution_count": 3,
   "metadata": {},
   "outputs": [],
   "source": [
    "url = 'https://api.github.com'"
   ]
  },
  {
   "cell_type": "code",
   "execution_count": 4,
   "metadata": {},
   "outputs": [],
   "source": [
    "response = requests.get(url)"
   ]
  },
  {
   "cell_type": "code",
   "execution_count": 5,
   "metadata": {},
   "outputs": [
    {
     "data": {
      "text/plain": [
       "requests.models.Response"
      ]
     },
     "execution_count": 5,
     "metadata": {},
     "output_type": "execute_result"
    }
   ],
   "source": [
    "type(response)"
   ]
  },
  {
   "cell_type": "code",
   "execution_count": 6,
   "metadata": {},
   "outputs": [
    {
     "data": {
      "text/plain": [
       "200"
      ]
     },
     "execution_count": 6,
     "metadata": {},
     "output_type": "execute_result"
    }
   ],
   "source": [
    "response.status_code"
   ]
  },
  {
   "cell_type": "code",
   "execution_count": 7,
   "metadata": {
    "scrolled": true
   },
   "outputs": [
    {
     "data": {
      "text/plain": [
       "b'{\"current_user_url\":\"https://api.github.com/user\",\"current_user_authorizations_html_url\":\"https://github.com/settings/connections/applications{/client_id}\",\"authorizations_url\":\"https://api.github.com/authorizations\",\"code_search_url\":\"https://api.github.com/search/code?q={query}{&page,per_page,sort,order}\",\"commit_search_url\":\"https://api.github.com/search/commits?q={query}{&page,per_page,sort,order}\",\"emails_url\":\"https://api.github.com/user/emails\",\"emojis_url\":\"https://api.github.com/emojis\",\"events_url\":\"https://api.github.com/events\",\"feeds_url\":\"https://api.github.com/feeds\",\"followers_url\":\"https://api.github.com/user/followers\",\"following_url\":\"https://api.github.com/user/following{/target}\",\"gists_url\":\"https://api.github.com/gists{/gist_id}\",\"hub_url\":\"https://api.github.com/hub\",\"issue_search_url\":\"https://api.github.com/search/issues?q={query}{&page,per_page,sort,order}\",\"issues_url\":\"https://api.github.com/issues\",\"keys_url\":\"https://api.github.com/user/keys\",\"label_search_url\":\"https://api.github.com/search/labels?q={query}&repository_id={repository_id}{&page,per_page}\",\"notifications_url\":\"https://api.github.com/notifications\",\"organization_url\":\"https://api.github.com/orgs/{org}\",\"organization_repositories_url\":\"https://api.github.com/orgs/{org}/repos{?type,page,per_page,sort}\",\"organization_teams_url\":\"https://api.github.com/orgs/{org}/teams\",\"public_gists_url\":\"https://api.github.com/gists/public\",\"rate_limit_url\":\"https://api.github.com/rate_limit\",\"repository_url\":\"https://api.github.com/repos/{owner}/{repo}\",\"repository_search_url\":\"https://api.github.com/search/repositories?q={query}{&page,per_page,sort,order}\",\"current_user_repositories_url\":\"https://api.github.com/user/repos{?type,page,per_page,sort}\",\"starred_url\":\"https://api.github.com/user/starred{/owner}{/repo}\",\"starred_gists_url\":\"https://api.github.com/gists/starred\",\"user_url\":\"https://api.github.com/users/{user}\",\"user_organizations_url\":\"https://api.github.com/user/orgs\",\"user_repositories_url\":\"https://api.github.com/users/{user}/repos{?type,page,per_page,sort}\",\"user_search_url\":\"https://api.github.com/search/users?q={query}{&page,per_page,sort,order}\"}'"
      ]
     },
     "execution_count": 7,
     "metadata": {},
     "output_type": "execute_result"
    }
   ],
   "source": [
    "# retrieve raw data\n",
    "response.content"
   ]
  },
  {
   "cell_type": "code",
   "execution_count": 8,
   "metadata": {
    "scrolled": true
   },
   "outputs": [
    {
     "data": {
      "text/plain": [
       "'{\"current_user_url\":\"https://api.github.com/user\",\"current_user_authorizations_html_url\":\"https://github.com/settings/connections/applications{/client_id}\",\"authorizations_url\":\"https://api.github.com/authorizations\",\"code_search_url\":\"https://api.github.com/search/code?q={query}{&page,per_page,sort,order}\",\"commit_search_url\":\"https://api.github.com/search/commits?q={query}{&page,per_page,sort,order}\",\"emails_url\":\"https://api.github.com/user/emails\",\"emojis_url\":\"https://api.github.com/emojis\",\"events_url\":\"https://api.github.com/events\",\"feeds_url\":\"https://api.github.com/feeds\",\"followers_url\":\"https://api.github.com/user/followers\",\"following_url\":\"https://api.github.com/user/following{/target}\",\"gists_url\":\"https://api.github.com/gists{/gist_id}\",\"hub_url\":\"https://api.github.com/hub\",\"issue_search_url\":\"https://api.github.com/search/issues?q={query}{&page,per_page,sort,order}\",\"issues_url\":\"https://api.github.com/issues\",\"keys_url\":\"https://api.github.com/user/keys\",\"label_search_url\":\"https://api.github.com/search/labels?q={query}&repository_id={repository_id}{&page,per_page}\",\"notifications_url\":\"https://api.github.com/notifications\",\"organization_url\":\"https://api.github.com/orgs/{org}\",\"organization_repositories_url\":\"https://api.github.com/orgs/{org}/repos{?type,page,per_page,sort}\",\"organization_teams_url\":\"https://api.github.com/orgs/{org}/teams\",\"public_gists_url\":\"https://api.github.com/gists/public\",\"rate_limit_url\":\"https://api.github.com/rate_limit\",\"repository_url\":\"https://api.github.com/repos/{owner}/{repo}\",\"repository_search_url\":\"https://api.github.com/search/repositories?q={query}{&page,per_page,sort,order}\",\"current_user_repositories_url\":\"https://api.github.com/user/repos{?type,page,per_page,sort}\",\"starred_url\":\"https://api.github.com/user/starred{/owner}{/repo}\",\"starred_gists_url\":\"https://api.github.com/gists/starred\",\"user_url\":\"https://api.github.com/users/{user}\",\"user_organizations_url\":\"https://api.github.com/user/orgs\",\"user_repositories_url\":\"https://api.github.com/users/{user}/repos{?type,page,per_page,sort}\",\"user_search_url\":\"https://api.github.com/search/users?q={query}{&page,per_page,sort,order}\"}'"
      ]
     },
     "execution_count": 8,
     "metadata": {},
     "output_type": "execute_result"
    }
   ],
   "source": [
    "# retrieve text response (taking into account text encoding)\n",
    "response.text"
   ]
  },
  {
   "cell_type": "code",
   "execution_count": 9,
   "metadata": {},
   "outputs": [
    {
     "data": {
      "text/plain": [
       "'utf-8'"
      ]
     },
     "execution_count": 9,
     "metadata": {},
     "output_type": "execute_result"
    }
   ],
   "source": [
    "response.encoding"
   ]
  },
  {
   "cell_type": "code",
   "execution_count": 10,
   "metadata": {},
   "outputs": [
    {
     "name": "stdout",
     "output_type": "stream",
     "text": [
      "{'date': 'Fri, 25 Sep 2020 12:05:40 GMT', 'server': 'GitHub.com', 'status': '304 Not Modified', 'cache-control': 'public, max-age=60, s-maxage=60', 'vary': 'Accept, Accept-Encoding, Accept, X-Requested-With, Accept-Encoding', 'etag': '\"27278c3efffccc4a7be1bf315653b901b14f2989b2c2600d7cc2e90a97ffbf60\"', 'access-control-expose-headers': 'ETag, Link, Location, Retry-After, X-GitHub-OTP, X-RateLimit-Limit, X-RateLimit-Remaining, X-RateLimit-Used, X-RateLimit-Reset, X-OAuth-Scopes, X-Accepted-OAuth-Scopes, X-Poll-Interval, X-GitHub-Media-Type, Deprecation, Sunset', 'access-control-allow-origin': '*', 'strict-transport-security': 'max-age=31536000; includeSubdomains; preload', 'x-frame-options': 'deny', 'x-content-type-options': 'nosniff', 'x-xss-protection': '1; mode=block', 'referrer-policy': 'origin-when-cross-origin, strict-origin-when-cross-origin', 'content-security-policy': \"default-src 'none'\", 'content-type': 'application/json; charset=utf-8', 'x-github-media-type': 'github.v3; format=json', 'content-encoding': 'gzip', 'X-Ratelimit-Limit': '60', 'X-Ratelimit-Remaining': '58', 'X-Ratelimit-Reset': '1601039055', 'X-Ratelimit-Used': '2', 'Accept-Ranges': 'bytes', 'Content-Length': '496', 'X-GitHub-Request-Id': 'FD87:FACF:104983D5:137F605C:5F6DDD16'}\n"
     ]
    }
   ],
   "source": [
    "print(response.headers)"
   ]
  },
  {
   "cell_type": "code",
   "execution_count": 11,
   "metadata": {},
   "outputs": [
    {
     "data": {
      "text/plain": [
       "'application/json; charset=utf-8'"
      ]
     },
     "execution_count": 11,
     "metadata": {},
     "output_type": "execute_result"
    }
   ],
   "source": [
    "response.headers[\"content-type\"]"
   ]
  },
  {
   "cell_type": "code",
   "execution_count": 12,
   "metadata": {},
   "outputs": [],
   "source": [
    "d1 = {\"key1\": \"value1\", \"key2\": \"something else\"}"
   ]
  },
  {
   "cell_type": "code",
   "execution_count": 13,
   "metadata": {},
   "outputs": [
    {
     "data": {
      "text/plain": [
       "'something else'"
      ]
     },
     "execution_count": 13,
     "metadata": {},
     "output_type": "execute_result"
    }
   ],
   "source": [
    "d1[\"key2\"]"
   ]
  },
  {
   "cell_type": "code",
   "execution_count": 14,
   "metadata": {},
   "outputs": [
    {
     "name": "stdout",
     "output_type": "stream",
     "text": [
      "date\n",
      "\tFri, 25 Sep 2020 12:05:40 GMT\n",
      "server\n",
      "\tGitHub.com\n",
      "status\n",
      "\t304 Not Modified\n",
      "cache-control\n",
      "\tpublic, max-age=60, s-maxage=60\n",
      "vary\n",
      "\tAccept, Accept-Encoding, Accept, X-Requested-With, Accept-Encoding\n",
      "etag\n",
      "\t\"27278c3efffccc4a7be1bf315653b901b14f2989b2c2600d7cc2e90a97ffbf60\"\n",
      "access-control-expose-headers\n",
      "\tETag, Link, Location, Retry-After, X-GitHub-OTP, X-RateLimit-Limit, X-RateLimit-Remaining, X-RateLimit-Used, X-RateLimit-Reset, X-OAuth-Scopes, X-Accepted-OAuth-Scopes, X-Poll-Interval, X-GitHub-Media-Type, Deprecation, Sunset\n",
      "access-control-allow-origin\n",
      "\t*\n",
      "strict-transport-security\n",
      "\tmax-age=31536000; includeSubdomains; preload\n",
      "x-frame-options\n",
      "\tdeny\n",
      "x-content-type-options\n",
      "\tnosniff\n",
      "x-xss-protection\n",
      "\t1; mode=block\n",
      "referrer-policy\n",
      "\torigin-when-cross-origin, strict-origin-when-cross-origin\n",
      "content-security-policy\n",
      "\tdefault-src 'none'\n",
      "content-type\n",
      "\tapplication/json; charset=utf-8\n",
      "x-github-media-type\n",
      "\tgithub.v3; format=json\n",
      "content-encoding\n",
      "\tgzip\n",
      "X-Ratelimit-Limit\n",
      "\t60\n",
      "X-Ratelimit-Remaining\n",
      "\t58\n",
      "X-Ratelimit-Reset\n",
      "\t1601039055\n",
      "X-Ratelimit-Used\n",
      "\t2\n",
      "Accept-Ranges\n",
      "\tbytes\n",
      "Content-Length\n",
      "\t496\n",
      "X-GitHub-Request-Id\n",
      "\tFD87:FACF:104983D5:137F605C:5F6DDD16\n"
     ]
    }
   ],
   "source": [
    "for key in response.headers:\n",
    "    value = response.headers[key]\n",
    "    \n",
    "    print(f'{key}\\n\\t{value}')"
   ]
  },
  {
   "cell_type": "markdown",
   "metadata": {},
   "source": [
    "### Working with JSON\n"
   ]
  },
  {
   "cell_type": "code",
   "execution_count": 15,
   "metadata": {
    "scrolled": true
   },
   "outputs": [
    {
     "data": {
      "text/plain": [
       "{'current_user_url': 'https://api.github.com/user',\n",
       " 'current_user_authorizations_html_url': 'https://github.com/settings/connections/applications{/client_id}',\n",
       " 'authorizations_url': 'https://api.github.com/authorizations',\n",
       " 'code_search_url': 'https://api.github.com/search/code?q={query}{&page,per_page,sort,order}',\n",
       " 'commit_search_url': 'https://api.github.com/search/commits?q={query}{&page,per_page,sort,order}',\n",
       " 'emails_url': 'https://api.github.com/user/emails',\n",
       " 'emojis_url': 'https://api.github.com/emojis',\n",
       " 'events_url': 'https://api.github.com/events',\n",
       " 'feeds_url': 'https://api.github.com/feeds',\n",
       " 'followers_url': 'https://api.github.com/user/followers',\n",
       " 'following_url': 'https://api.github.com/user/following{/target}',\n",
       " 'gists_url': 'https://api.github.com/gists{/gist_id}',\n",
       " 'hub_url': 'https://api.github.com/hub',\n",
       " 'issue_search_url': 'https://api.github.com/search/issues?q={query}{&page,per_page,sort,order}',\n",
       " 'issues_url': 'https://api.github.com/issues',\n",
       " 'keys_url': 'https://api.github.com/user/keys',\n",
       " 'label_search_url': 'https://api.github.com/search/labels?q={query}&repository_id={repository_id}{&page,per_page}',\n",
       " 'notifications_url': 'https://api.github.com/notifications',\n",
       " 'organization_url': 'https://api.github.com/orgs/{org}',\n",
       " 'organization_repositories_url': 'https://api.github.com/orgs/{org}/repos{?type,page,per_page,sort}',\n",
       " 'organization_teams_url': 'https://api.github.com/orgs/{org}/teams',\n",
       " 'public_gists_url': 'https://api.github.com/gists/public',\n",
       " 'rate_limit_url': 'https://api.github.com/rate_limit',\n",
       " 'repository_url': 'https://api.github.com/repos/{owner}/{repo}',\n",
       " 'repository_search_url': 'https://api.github.com/search/repositories?q={query}{&page,per_page,sort,order}',\n",
       " 'current_user_repositories_url': 'https://api.github.com/user/repos{?type,page,per_page,sort}',\n",
       " 'starred_url': 'https://api.github.com/user/starred{/owner}{/repo}',\n",
       " 'starred_gists_url': 'https://api.github.com/gists/starred',\n",
       " 'user_url': 'https://api.github.com/users/{user}',\n",
       " 'user_organizations_url': 'https://api.github.com/user/orgs',\n",
       " 'user_repositories_url': 'https://api.github.com/users/{user}/repos{?type,page,per_page,sort}',\n",
       " 'user_search_url': 'https://api.github.com/search/users?q={query}{&page,per_page,sort,order}'}"
      ]
     },
     "execution_count": 15,
     "metadata": {},
     "output_type": "execute_result"
    }
   ],
   "source": [
    "# retrieve JSON response\n",
    "data = response.json()\n",
    "\n",
    "data"
   ]
  },
  {
   "cell_type": "code",
   "execution_count": 16,
   "metadata": {},
   "outputs": [
    {
     "name": "stdout",
     "output_type": "stream",
     "text": [
      "current_user_url\n",
      "\thttps://api.github.com/user\n",
      "current_user_authorizations_html_url\n",
      "\thttps://github.com/settings/connections/applications{/client_id}\n",
      "authorizations_url\n",
      "\thttps://api.github.com/authorizations\n",
      "code_search_url\n",
      "\thttps://api.github.com/search/code?q={query}{&page,per_page,sort,order}\n",
      "commit_search_url\n",
      "\thttps://api.github.com/search/commits?q={query}{&page,per_page,sort,order}\n",
      "emails_url\n",
      "\thttps://api.github.com/user/emails\n",
      "emojis_url\n",
      "\thttps://api.github.com/emojis\n",
      "events_url\n",
      "\thttps://api.github.com/events\n",
      "feeds_url\n",
      "\thttps://api.github.com/feeds\n",
      "followers_url\n",
      "\thttps://api.github.com/user/followers\n",
      "following_url\n",
      "\thttps://api.github.com/user/following{/target}\n",
      "gists_url\n",
      "\thttps://api.github.com/gists{/gist_id}\n",
      "hub_url\n",
      "\thttps://api.github.com/hub\n",
      "issue_search_url\n",
      "\thttps://api.github.com/search/issues?q={query}{&page,per_page,sort,order}\n",
      "issues_url\n",
      "\thttps://api.github.com/issues\n",
      "keys_url\n",
      "\thttps://api.github.com/user/keys\n",
      "label_search_url\n",
      "\thttps://api.github.com/search/labels?q={query}&repository_id={repository_id}{&page,per_page}\n",
      "notifications_url\n",
      "\thttps://api.github.com/notifications\n",
      "organization_url\n",
      "\thttps://api.github.com/orgs/{org}\n",
      "organization_repositories_url\n",
      "\thttps://api.github.com/orgs/{org}/repos{?type,page,per_page,sort}\n",
      "organization_teams_url\n",
      "\thttps://api.github.com/orgs/{org}/teams\n",
      "public_gists_url\n",
      "\thttps://api.github.com/gists/public\n",
      "rate_limit_url\n",
      "\thttps://api.github.com/rate_limit\n",
      "repository_url\n",
      "\thttps://api.github.com/repos/{owner}/{repo}\n",
      "repository_search_url\n",
      "\thttps://api.github.com/search/repositories?q={query}{&page,per_page,sort,order}\n",
      "current_user_repositories_url\n",
      "\thttps://api.github.com/user/repos{?type,page,per_page,sort}\n",
      "starred_url\n",
      "\thttps://api.github.com/user/starred{/owner}{/repo}\n",
      "starred_gists_url\n",
      "\thttps://api.github.com/gists/starred\n",
      "user_url\n",
      "\thttps://api.github.com/users/{user}\n",
      "user_organizations_url\n",
      "\thttps://api.github.com/user/orgs\n",
      "user_repositories_url\n",
      "\thttps://api.github.com/users/{user}/repos{?type,page,per_page,sort}\n",
      "user_search_url\n",
      "\thttps://api.github.com/search/users?q={query}{&page,per_page,sort,order}\n"
     ]
    }
   ],
   "source": [
    "for key in data:\n",
    "    value = data[key]\n",
    "    \n",
    "    print(f'{key}\\n\\t{value}')"
   ]
  },
  {
   "cell_type": "code",
   "execution_count": 17,
   "metadata": {},
   "outputs": [
    {
     "data": {
      "text/plain": [
       "200"
      ]
     },
     "execution_count": 17,
     "metadata": {},
     "output_type": "execute_result"
    }
   ],
   "source": [
    "next_url = 'https://api.github.com/repos/ValRCS/ValRCS-LU_PySem_2020_2'\n",
    "\n",
    "resp_repo = requests.get(next_url)\n",
    "\n",
    "resp_repo.status_code"
   ]
  },
  {
   "cell_type": "code",
   "execution_count": 18,
   "metadata": {},
   "outputs": [],
   "source": [
    "data_repo = resp_repo.json()"
   ]
  },
  {
   "cell_type": "code",
   "execution_count": 19,
   "metadata": {
    "scrolled": true
   },
   "outputs": [
    {
     "data": {
      "text/plain": [
       "{'id': 293819255,\n",
       " 'node_id': 'MDEwOlJlcG9zaXRvcnkyOTM4MTkyNTU=',\n",
       " 'name': 'ValRCS-LU_PySem_2020_2',\n",
       " 'full_name': 'ValRCS/ValRCS-LU_PySem_2020_2',\n",
       " 'private': False,\n",
       " 'owner': {'login': 'ValRCS',\n",
       "  'id': 38938337,\n",
       "  'node_id': 'MDQ6VXNlcjM4OTM4MzM3',\n",
       "  'avatar_url': 'https://avatars0.githubusercontent.com/u/38938337?v=4',\n",
       "  'gravatar_id': '',\n",
       "  'url': 'https://api.github.com/users/ValRCS',\n",
       "  'html_url': 'https://github.com/ValRCS',\n",
       "  'followers_url': 'https://api.github.com/users/ValRCS/followers',\n",
       "  'following_url': 'https://api.github.com/users/ValRCS/following{/other_user}',\n",
       "  'gists_url': 'https://api.github.com/users/ValRCS/gists{/gist_id}',\n",
       "  'starred_url': 'https://api.github.com/users/ValRCS/starred{/owner}{/repo}',\n",
       "  'subscriptions_url': 'https://api.github.com/users/ValRCS/subscriptions',\n",
       "  'organizations_url': 'https://api.github.com/users/ValRCS/orgs',\n",
       "  'repos_url': 'https://api.github.com/users/ValRCS/repos',\n",
       "  'events_url': 'https://api.github.com/users/ValRCS/events{/privacy}',\n",
       "  'received_events_url': 'https://api.github.com/users/ValRCS/received_events',\n",
       "  'type': 'User',\n",
       "  'site_admin': False},\n",
       " 'html_url': 'https://github.com/ValRCS/ValRCS-LU_PySem_2020_2',\n",
       " 'description': 'Python seminar at Faculty of Computing, University of Latvia  – Fall 2020',\n",
       " 'fork': False,\n",
       " 'url': 'https://api.github.com/repos/ValRCS/ValRCS-LU_PySem_2020_2',\n",
       " 'forks_url': 'https://api.github.com/repos/ValRCS/ValRCS-LU_PySem_2020_2/forks',\n",
       " 'keys_url': 'https://api.github.com/repos/ValRCS/ValRCS-LU_PySem_2020_2/keys{/key_id}',\n",
       " 'collaborators_url': 'https://api.github.com/repos/ValRCS/ValRCS-LU_PySem_2020_2/collaborators{/collaborator}',\n",
       " 'teams_url': 'https://api.github.com/repos/ValRCS/ValRCS-LU_PySem_2020_2/teams',\n",
       " 'hooks_url': 'https://api.github.com/repos/ValRCS/ValRCS-LU_PySem_2020_2/hooks',\n",
       " 'issue_events_url': 'https://api.github.com/repos/ValRCS/ValRCS-LU_PySem_2020_2/issues/events{/number}',\n",
       " 'events_url': 'https://api.github.com/repos/ValRCS/ValRCS-LU_PySem_2020_2/events',\n",
       " 'assignees_url': 'https://api.github.com/repos/ValRCS/ValRCS-LU_PySem_2020_2/assignees{/user}',\n",
       " 'branches_url': 'https://api.github.com/repos/ValRCS/ValRCS-LU_PySem_2020_2/branches{/branch}',\n",
       " 'tags_url': 'https://api.github.com/repos/ValRCS/ValRCS-LU_PySem_2020_2/tags',\n",
       " 'blobs_url': 'https://api.github.com/repos/ValRCS/ValRCS-LU_PySem_2020_2/git/blobs{/sha}',\n",
       " 'git_tags_url': 'https://api.github.com/repos/ValRCS/ValRCS-LU_PySem_2020_2/git/tags{/sha}',\n",
       " 'git_refs_url': 'https://api.github.com/repos/ValRCS/ValRCS-LU_PySem_2020_2/git/refs{/sha}',\n",
       " 'trees_url': 'https://api.github.com/repos/ValRCS/ValRCS-LU_PySem_2020_2/git/trees{/sha}',\n",
       " 'statuses_url': 'https://api.github.com/repos/ValRCS/ValRCS-LU_PySem_2020_2/statuses/{sha}',\n",
       " 'languages_url': 'https://api.github.com/repos/ValRCS/ValRCS-LU_PySem_2020_2/languages',\n",
       " 'stargazers_url': 'https://api.github.com/repos/ValRCS/ValRCS-LU_PySem_2020_2/stargazers',\n",
       " 'contributors_url': 'https://api.github.com/repos/ValRCS/ValRCS-LU_PySem_2020_2/contributors',\n",
       " 'subscribers_url': 'https://api.github.com/repos/ValRCS/ValRCS-LU_PySem_2020_2/subscribers',\n",
       " 'subscription_url': 'https://api.github.com/repos/ValRCS/ValRCS-LU_PySem_2020_2/subscription',\n",
       " 'commits_url': 'https://api.github.com/repos/ValRCS/ValRCS-LU_PySem_2020_2/commits{/sha}',\n",
       " 'git_commits_url': 'https://api.github.com/repos/ValRCS/ValRCS-LU_PySem_2020_2/git/commits{/sha}',\n",
       " 'comments_url': 'https://api.github.com/repos/ValRCS/ValRCS-LU_PySem_2020_2/comments{/number}',\n",
       " 'issue_comment_url': 'https://api.github.com/repos/ValRCS/ValRCS-LU_PySem_2020_2/issues/comments{/number}',\n",
       " 'contents_url': 'https://api.github.com/repos/ValRCS/ValRCS-LU_PySem_2020_2/contents/{+path}',\n",
       " 'compare_url': 'https://api.github.com/repos/ValRCS/ValRCS-LU_PySem_2020_2/compare/{base}...{head}',\n",
       " 'merges_url': 'https://api.github.com/repos/ValRCS/ValRCS-LU_PySem_2020_2/merges',\n",
       " 'archive_url': 'https://api.github.com/repos/ValRCS/ValRCS-LU_PySem_2020_2/{archive_format}{/ref}',\n",
       " 'downloads_url': 'https://api.github.com/repos/ValRCS/ValRCS-LU_PySem_2020_2/downloads',\n",
       " 'issues_url': 'https://api.github.com/repos/ValRCS/ValRCS-LU_PySem_2020_2/issues{/number}',\n",
       " 'pulls_url': 'https://api.github.com/repos/ValRCS/ValRCS-LU_PySem_2020_2/pulls{/number}',\n",
       " 'milestones_url': 'https://api.github.com/repos/ValRCS/ValRCS-LU_PySem_2020_2/milestones{/number}',\n",
       " 'notifications_url': 'https://api.github.com/repos/ValRCS/ValRCS-LU_PySem_2020_2/notifications{?since,all,participating}',\n",
       " 'labels_url': 'https://api.github.com/repos/ValRCS/ValRCS-LU_PySem_2020_2/labels{/name}',\n",
       " 'releases_url': 'https://api.github.com/repos/ValRCS/ValRCS-LU_PySem_2020_2/releases{/id}',\n",
       " 'deployments_url': 'https://api.github.com/repos/ValRCS/ValRCS-LU_PySem_2020_2/deployments',\n",
       " 'created_at': '2020-09-08T13:30:10Z',\n",
       " 'updated_at': '2020-09-18T07:33:53Z',\n",
       " 'pushed_at': '2020-09-18T07:33:51Z',\n",
       " 'git_url': 'git://github.com/ValRCS/ValRCS-LU_PySem_2020_2.git',\n",
       " 'ssh_url': 'git@github.com:ValRCS/ValRCS-LU_PySem_2020_2.git',\n",
       " 'clone_url': 'https://github.com/ValRCS/ValRCS-LU_PySem_2020_2.git',\n",
       " 'svn_url': 'https://github.com/ValRCS/ValRCS-LU_PySem_2020_2',\n",
       " 'homepage': None,\n",
       " 'size': 1777,\n",
       " 'stargazers_count': 0,\n",
       " 'watchers_count': 0,\n",
       " 'language': 'Jupyter Notebook',\n",
       " 'has_issues': True,\n",
       " 'has_projects': True,\n",
       " 'has_downloads': True,\n",
       " 'has_wiki': True,\n",
       " 'has_pages': False,\n",
       " 'forks_count': 0,\n",
       " 'mirror_url': None,\n",
       " 'archived': False,\n",
       " 'disabled': False,\n",
       " 'open_issues_count': 0,\n",
       " 'license': {'key': 'mit',\n",
       "  'name': 'MIT License',\n",
       "  'spdx_id': 'MIT',\n",
       "  'url': 'https://api.github.com/licenses/mit',\n",
       "  'node_id': 'MDc6TGljZW5zZTEz'},\n",
       " 'forks': 0,\n",
       " 'open_issues': 0,\n",
       " 'watchers': 0,\n",
       " 'default_branch': 'master',\n",
       " 'temp_clone_token': None,\n",
       " 'network_count': 0,\n",
       " 'subscribers_count': 1}"
      ]
     },
     "execution_count": 19,
     "metadata": {},
     "output_type": "execute_result"
    }
   ],
   "source": [
    "data_repo"
   ]
  },
  {
   "cell_type": "code",
   "execution_count": 20,
   "metadata": {},
   "outputs": [
    {
     "name": "stdout",
     "output_type": "stream",
     "text": [
      "Python seminar at Faculty of Computing, University of Latvia  – Fall 2020\n"
     ]
    }
   ],
   "source": [
    "print(data_repo['description'])"
   ]
  },
  {
   "cell_type": "code",
   "execution_count": 21,
   "metadata": {},
   "outputs": [
    {
     "name": "stdout",
     "output_type": "stream",
     "text": [
      "id\n",
      "\t293819255\n",
      "node_id\n",
      "\tMDEwOlJlcG9zaXRvcnkyOTM4MTkyNTU=\n",
      "name\n",
      "\tValRCS-LU_PySem_2020_2\n",
      "full_name\n",
      "\tValRCS/ValRCS-LU_PySem_2020_2\n",
      "private\n",
      "\tFalse\n",
      "owner\n",
      "\t{'login': 'ValRCS', 'id': 38938337, 'node_id': 'MDQ6VXNlcjM4OTM4MzM3', 'avatar_url': 'https://avatars0.githubusercontent.com/u/38938337?v=4', 'gravatar_id': '', 'url': 'https://api.github.com/users/ValRCS', 'html_url': 'https://github.com/ValRCS', 'followers_url': 'https://api.github.com/users/ValRCS/followers', 'following_url': 'https://api.github.com/users/ValRCS/following{/other_user}', 'gists_url': 'https://api.github.com/users/ValRCS/gists{/gist_id}', 'starred_url': 'https://api.github.com/users/ValRCS/starred{/owner}{/repo}', 'subscriptions_url': 'https://api.github.com/users/ValRCS/subscriptions', 'organizations_url': 'https://api.github.com/users/ValRCS/orgs', 'repos_url': 'https://api.github.com/users/ValRCS/repos', 'events_url': 'https://api.github.com/users/ValRCS/events{/privacy}', 'received_events_url': 'https://api.github.com/users/ValRCS/received_events', 'type': 'User', 'site_admin': False}\n",
      "html_url\n",
      "\thttps://github.com/ValRCS/ValRCS-LU_PySem_2020_2\n",
      "description\n",
      "\tPython seminar at Faculty of Computing, University of Latvia  – Fall 2020\n",
      "fork\n",
      "\tFalse\n",
      "url\n",
      "\thttps://api.github.com/repos/ValRCS/ValRCS-LU_PySem_2020_2\n",
      "forks_url\n",
      "\thttps://api.github.com/repos/ValRCS/ValRCS-LU_PySem_2020_2/forks\n",
      "keys_url\n",
      "\thttps://api.github.com/repos/ValRCS/ValRCS-LU_PySem_2020_2/keys{/key_id}\n",
      "collaborators_url\n",
      "\thttps://api.github.com/repos/ValRCS/ValRCS-LU_PySem_2020_2/collaborators{/collaborator}\n",
      "teams_url\n",
      "\thttps://api.github.com/repos/ValRCS/ValRCS-LU_PySem_2020_2/teams\n",
      "hooks_url\n",
      "\thttps://api.github.com/repos/ValRCS/ValRCS-LU_PySem_2020_2/hooks\n",
      "issue_events_url\n",
      "\thttps://api.github.com/repos/ValRCS/ValRCS-LU_PySem_2020_2/issues/events{/number}\n",
      "events_url\n",
      "\thttps://api.github.com/repos/ValRCS/ValRCS-LU_PySem_2020_2/events\n",
      "assignees_url\n",
      "\thttps://api.github.com/repos/ValRCS/ValRCS-LU_PySem_2020_2/assignees{/user}\n",
      "branches_url\n",
      "\thttps://api.github.com/repos/ValRCS/ValRCS-LU_PySem_2020_2/branches{/branch}\n",
      "tags_url\n",
      "\thttps://api.github.com/repos/ValRCS/ValRCS-LU_PySem_2020_2/tags\n",
      "blobs_url\n",
      "\thttps://api.github.com/repos/ValRCS/ValRCS-LU_PySem_2020_2/git/blobs{/sha}\n",
      "git_tags_url\n",
      "\thttps://api.github.com/repos/ValRCS/ValRCS-LU_PySem_2020_2/git/tags{/sha}\n",
      "git_refs_url\n",
      "\thttps://api.github.com/repos/ValRCS/ValRCS-LU_PySem_2020_2/git/refs{/sha}\n",
      "trees_url\n",
      "\thttps://api.github.com/repos/ValRCS/ValRCS-LU_PySem_2020_2/git/trees{/sha}\n",
      "statuses_url\n",
      "\thttps://api.github.com/repos/ValRCS/ValRCS-LU_PySem_2020_2/statuses/{sha}\n",
      "languages_url\n",
      "\thttps://api.github.com/repos/ValRCS/ValRCS-LU_PySem_2020_2/languages\n",
      "stargazers_url\n",
      "\thttps://api.github.com/repos/ValRCS/ValRCS-LU_PySem_2020_2/stargazers\n",
      "contributors_url\n",
      "\thttps://api.github.com/repos/ValRCS/ValRCS-LU_PySem_2020_2/contributors\n",
      "subscribers_url\n",
      "\thttps://api.github.com/repos/ValRCS/ValRCS-LU_PySem_2020_2/subscribers\n",
      "subscription_url\n",
      "\thttps://api.github.com/repos/ValRCS/ValRCS-LU_PySem_2020_2/subscription\n",
      "commits_url\n",
      "\thttps://api.github.com/repos/ValRCS/ValRCS-LU_PySem_2020_2/commits{/sha}\n",
      "git_commits_url\n",
      "\thttps://api.github.com/repos/ValRCS/ValRCS-LU_PySem_2020_2/git/commits{/sha}\n",
      "comments_url\n",
      "\thttps://api.github.com/repos/ValRCS/ValRCS-LU_PySem_2020_2/comments{/number}\n",
      "issue_comment_url\n",
      "\thttps://api.github.com/repos/ValRCS/ValRCS-LU_PySem_2020_2/issues/comments{/number}\n",
      "contents_url\n",
      "\thttps://api.github.com/repos/ValRCS/ValRCS-LU_PySem_2020_2/contents/{+path}\n",
      "compare_url\n",
      "\thttps://api.github.com/repos/ValRCS/ValRCS-LU_PySem_2020_2/compare/{base}...{head}\n",
      "merges_url\n",
      "\thttps://api.github.com/repos/ValRCS/ValRCS-LU_PySem_2020_2/merges\n",
      "archive_url\n",
      "\thttps://api.github.com/repos/ValRCS/ValRCS-LU_PySem_2020_2/{archive_format}{/ref}\n",
      "downloads_url\n",
      "\thttps://api.github.com/repos/ValRCS/ValRCS-LU_PySem_2020_2/downloads\n",
      "issues_url\n",
      "\thttps://api.github.com/repos/ValRCS/ValRCS-LU_PySem_2020_2/issues{/number}\n",
      "pulls_url\n",
      "\thttps://api.github.com/repos/ValRCS/ValRCS-LU_PySem_2020_2/pulls{/number}\n",
      "milestones_url\n",
      "\thttps://api.github.com/repos/ValRCS/ValRCS-LU_PySem_2020_2/milestones{/number}\n",
      "notifications_url\n",
      "\thttps://api.github.com/repos/ValRCS/ValRCS-LU_PySem_2020_2/notifications{?since,all,participating}\n",
      "labels_url\n",
      "\thttps://api.github.com/repos/ValRCS/ValRCS-LU_PySem_2020_2/labels{/name}\n",
      "releases_url\n",
      "\thttps://api.github.com/repos/ValRCS/ValRCS-LU_PySem_2020_2/releases{/id}\n",
      "deployments_url\n",
      "\thttps://api.github.com/repos/ValRCS/ValRCS-LU_PySem_2020_2/deployments\n",
      "created_at\n",
      "\t2020-09-08T13:30:10Z\n",
      "updated_at\n",
      "\t2020-09-18T07:33:53Z\n",
      "pushed_at\n",
      "\t2020-09-18T07:33:51Z\n",
      "git_url\n",
      "\tgit://github.com/ValRCS/ValRCS-LU_PySem_2020_2.git\n",
      "ssh_url\n",
      "\tgit@github.com:ValRCS/ValRCS-LU_PySem_2020_2.git\n",
      "clone_url\n",
      "\thttps://github.com/ValRCS/ValRCS-LU_PySem_2020_2.git\n",
      "svn_url\n",
      "\thttps://github.com/ValRCS/ValRCS-LU_PySem_2020_2\n",
      "homepage\n",
      "\tNone\n",
      "size\n",
      "\t1777\n",
      "stargazers_count\n",
      "\t0\n",
      "watchers_count\n",
      "\t0\n",
      "language\n",
      "\tJupyter Notebook\n",
      "has_issues\n",
      "\tTrue\n",
      "has_projects\n",
      "\tTrue\n",
      "has_downloads\n",
      "\tTrue\n",
      "has_wiki\n",
      "\tTrue\n",
      "has_pages\n",
      "\tFalse\n",
      "forks_count\n",
      "\t0\n",
      "mirror_url\n",
      "\tNone\n",
      "archived\n",
      "\tFalse\n",
      "disabled\n",
      "\tFalse\n",
      "open_issues_count\n",
      "\t0\n",
      "license\n",
      "\t{'key': 'mit', 'name': 'MIT License', 'spdx_id': 'MIT', 'url': 'https://api.github.com/licenses/mit', 'node_id': 'MDc6TGljZW5zZTEz'}\n",
      "forks\n",
      "\t0\n",
      "open_issues\n",
      "\t0\n",
      "watchers\n",
      "\t0\n",
      "default_branch\n",
      "\tmaster\n",
      "temp_clone_token\n",
      "\tNone\n",
      "network_count\n",
      "\t0\n",
      "subscribers_count\n",
      "\t1\n"
     ]
    }
   ],
   "source": [
    "for key in data_repo:\n",
    "    value = data_repo[key]\n",
    "    \n",
    "    print(f'{key}\\n\\t{value}')"
   ]
  },
  {
   "cell_type": "markdown",
   "metadata": {},
   "source": [
    "### Writing data (POST request)"
   ]
  },
  {
   "cell_type": "markdown",
   "metadata": {},
   "source": [
    "#### A simple HTTP Request & Response Service = https://httpbin.org"
   ]
  },
  {
   "cell_type": "code",
   "execution_count": 22,
   "metadata": {},
   "outputs": [],
   "source": [
    "url = 'https://httpbin.org/post'"
   ]
  },
  {
   "cell_type": "code",
   "execution_count": 23,
   "metadata": {},
   "outputs": [],
   "source": [
    "data_post = {'my_text': 'my_value', 'cake': u'\\U0001F382'}"
   ]
  },
  {
   "cell_type": "code",
   "execution_count": 24,
   "metadata": {},
   "outputs": [
    {
     "data": {
      "text/plain": [
       "{'my_text': 'my_value', 'cake': '🎂'}"
      ]
     },
     "execution_count": 24,
     "metadata": {},
     "output_type": "execute_result"
    }
   ],
   "source": [
    "data_post"
   ]
  },
  {
   "cell_type": "code",
   "execution_count": 25,
   "metadata": {},
   "outputs": [
    {
     "data": {
      "text/plain": [
       "200"
      ]
     },
     "execution_count": 25,
     "metadata": {},
     "output_type": "execute_result"
    }
   ],
   "source": [
    "resp_post = requests.post(url, json=data_post)\n",
    "\n",
    "resp_post.status_code"
   ]
  },
  {
   "cell_type": "code",
   "execution_count": 26,
   "metadata": {
    "scrolled": true
   },
   "outputs": [
    {
     "data": {
      "text/plain": [
       "'{\\n  \"args\": {}, \\n  \"data\": \"{\\\\\"my_text\\\\\": \\\\\"my_value\\\\\", \\\\\"cake\\\\\": \\\\\"\\\\\\\\ud83c\\\\\\\\udf82\\\\\"}\", \\n  \"files\": {}, \\n  \"form\": {}, \\n  \"headers\": {\\n    \"Accept\": \"*/*\", \\n    \"Accept-Encoding\": \"gzip, deflate\", \\n    \"Content-Length\": \"47\", \\n    \"Content-Type\": \"application/json\", \\n    \"Host\": \"httpbin.org\", \\n    \"User-Agent\": \"python-requests/2.22.0\", \\n    \"X-Amzn-Trace-Id\": \"Root=1-5f6de059-3faf4efa8bea7d87fed6896e\"\\n  }, \\n  \"json\": {\\n    \"cake\": \"\\\\ud83c\\\\udf82\", \\n    \"my_text\": \"my_value\"\\n  }, \\n  \"origin\": \"5.179.12.136\", \\n  \"url\": \"https://httpbin.org/post\"\\n}\\n'"
      ]
     },
     "execution_count": 26,
     "metadata": {},
     "output_type": "execute_result"
    }
   ],
   "source": [
    "resp_post.text"
   ]
  },
  {
   "cell_type": "code",
   "execution_count": 27,
   "metadata": {
    "scrolled": true
   },
   "outputs": [
    {
     "data": {
      "text/plain": [
       "{'args': {},\n",
       " 'data': '{\"my_text\": \"my_value\", \"cake\": \"\\\\ud83c\\\\udf82\"}',\n",
       " 'files': {},\n",
       " 'form': {},\n",
       " 'headers': {'Accept': '*/*',\n",
       "  'Accept-Encoding': 'gzip, deflate',\n",
       "  'Content-Length': '47',\n",
       "  'Content-Type': 'application/json',\n",
       "  'Host': 'httpbin.org',\n",
       "  'User-Agent': 'python-requests/2.22.0',\n",
       "  'X-Amzn-Trace-Id': 'Root=1-5f6de059-3faf4efa8bea7d87fed6896e'},\n",
       " 'json': {'cake': '🎂', 'my_text': 'my_value'},\n",
       " 'origin': '5.179.12.136',\n",
       " 'url': 'https://httpbin.org/post'}"
      ]
     },
     "execution_count": 27,
     "metadata": {},
     "output_type": "execute_result"
    }
   ],
   "source": [
    "resp_post.json()"
   ]
  },
  {
   "cell_type": "code",
   "execution_count": 29,
   "metadata": {},
   "outputs": [
    {
     "name": "stdout",
     "output_type": "stream",
     "text": [
      "{'cake': '🎂', 'my_text': 'my_value'}\n"
     ]
    }
   ],
   "source": [
    "returned_data = resp_post.json()['json']\n",
    "\n",
    "print(returned_data)"
   ]
  }
 ],
 "metadata": {
  "kernelspec": {
   "display_name": "Python 3",
   "language": "python",
   "name": "python3"
  },
  "language_info": {
   "codemirror_mode": {
    "name": "ipython",
    "version": 3
   },
   "file_extension": ".py",
   "mimetype": "text/x-python",
   "name": "python",
   "nbconvert_exporter": "python",
   "pygments_lexer": "ipython3",
   "version": "3.7.8"
  }
 },
 "nbformat": 4,
 "nbformat_minor": 2
}
