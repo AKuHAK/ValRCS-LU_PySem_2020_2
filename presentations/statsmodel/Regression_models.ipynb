{
 "cells": [
  {
   "cell_type": "markdown",
   "metadata": {},
   "source": [
    "# Simple linear regression model (by OLS)"
   ]
  },
  {
   "cell_type": "code",
   "execution_count": null,
   "metadata": {},
   "outputs": [],
   "source": [
    "import numpy as np\n",
    "import pandas as pd\n",
    "import matplotlib.pyplot as plt\n",
    "\n",
    "import statsmodels.api as sm\n",
    "from statsmodels.sandbox.regression.predstd import wls_prediction_std\n",
    "\n",
    "\n",
    "np.random.seed(9876789)"
   ]
  },
  {
   "cell_type": "code",
   "execution_count": null,
   "metadata": {},
   "outputs": [],
   "source": [
    "#Load data by using pandas read_csv(\"file_name_in_local_directory.csv\")\n",
    "df = pd.read_csv(\"dataset_gdp_inv.csv\")"
   ]
  },
  {
   "cell_type": "code",
   "execution_count": null,
   "metadata": {
    "scrolled": true
   },
   "outputs": [],
   "source": [
    "df"
   ]
  },
  {
   "cell_type": "code",
   "execution_count": null,
   "metadata": {},
   "outputs": [],
   "source": [
    "#Assigning data to variables X and Y by lables\n",
    "Y = df['GDPgr']\n",
    "X = df['Invest']"
   ]
  },
  {
   "cell_type": "code",
   "execution_count": null,
   "metadata": {},
   "outputs": [],
   "source": [
    "X"
   ]
  },
  {
   "cell_type": "code",
   "execution_count": null,
   "metadata": {},
   "outputs": [],
   "source": [
    "#This line is necessary to add intercept\n",
    "x = sm.add_constant(X)"
   ]
  },
  {
   "cell_type": "code",
   "execution_count": null,
   "metadata": {},
   "outputs": [],
   "source": [
    "x"
   ]
  },
  {
   "cell_type": "code",
   "execution_count": null,
   "metadata": {},
   "outputs": [],
   "source": [
    "#To have a simple linear regression just call sm.OLS(dependent, independent)\n",
    "model = sm.OLS(Y, x)\n",
    "results = model.fit()\n",
    "print(results.summary())"
   ]
  },
  {
   "cell_type": "code",
   "execution_count": null,
   "metadata": {},
   "outputs": [],
   "source": [
    "#Regression significance check by comparing with critical a value of 0.05\n",
    "def regression_check(regression):\n",
    "    if regression.f_pvalue < 0.05:\n",
    "        print('The regression model is statistically significant.')\n",
    "    elif regression.f_pvalue >= 0.05:\n",
    "        if regression.f_pvalue <=0.1:\n",
    "            print('Regression is not statistically significant, but it has a tendency to be significant.')\n",
    "        else:\n",
    "            print(\"Regression is not statistically significant.\")"
   ]
  },
  {
   "cell_type": "code",
   "execution_count": null,
   "metadata": {},
   "outputs": [],
   "source": [
    "regression_check(results)"
   ]
  },
  {
   "cell_type": "code",
   "execution_count": null,
   "metadata": {
    "scrolled": false
   },
   "outputs": [],
   "source": [
    "print(str(round(results.rsquared*100,0))+'%', 'of changes in GDPgr changes is be described by changes in Invest')\n",
    "print(\"The rest\", str(round(100-results.rsquared*100,0))+'%', \"of the changes are described by unknown factors\")\n",
    "print(\"Regression model for this data set is\", \"Y = \" + str(round(results.params['const'],4))+' + '+str(round(results.params['Invest'],4))+'x')\n"
   ]
  },
  {
   "cell_type": "code",
   "execution_count": null,
   "metadata": {},
   "outputs": [],
   "source": [
    "#Predictor(s) significance check by comparing with critical a value of 0.05\n",
    "def coeff_check(regression):\n",
    "    for j, val in enumerate(regression.pvalues):\n",
    "        if val < 0.05:\n",
    "             print('The coefficient', round(regression.params[j],4), 'is statistically significant.')\n",
    "        elif val >= 0.05:\n",
    "            if val <=0.1:\n",
    "                print('The coefficient', round(regression.params[j],4), 'is not statistically significant, but it has a tendency to be significant.')\n",
    "            else:\n",
    "                print('The coefficient', round(regression.params[j],4), 'is not statistically significant.')\n"
   ]
  },
  {
   "cell_type": "code",
   "execution_count": null,
   "metadata": {},
   "outputs": [],
   "source": [
    "coeff_check(results)"
   ]
  },
  {
   "cell_type": "code",
   "execution_count": null,
   "metadata": {},
   "outputs": [],
   "source": [
    "#Manual prediction function\n",
    "def regression_prediction(predictor, results):\n",
    "    return round(results.params['const'],4) + (round(results.params['Invest'],4))*predictor\n",
    "    "
   ]
  },
  {
   "cell_type": "code",
   "execution_count": null,
   "metadata": {},
   "outputs": [],
   "source": [
    "print(regression_prediction(28,results))"
   ]
  },
  {
   "cell_type": "code",
   "execution_count": null,
   "metadata": {},
   "outputs": [],
   "source": [
    "#Mass  prediction\n",
    "dummy_data = [0, 1, 2, 3, 7, 12, 22, 23, 28, 30, 35]\n",
    "for i in dummy_data:\n",
    "    print(regression_prediction(i,results))"
   ]
  },
  {
   "cell_type": "code",
   "execution_count": null,
   "metadata": {},
   "outputs": [],
   "source": [
    "#another way of predicting using in-built -- predict(data_to_predict) -- method\n",
    "e = dummy_data  \n",
    "e_dataframe = pd.DataFrame(e)    \n",
    "pr_data = sm.add_constant(e_dataframe)\n",
    "#print(pr_data)\n",
    "\n",
    "print(results.predict(pr_data))"
   ]
  },
  {
   "cell_type": "code",
   "execution_count": null,
   "metadata": {
    "scrolled": false
   },
   "outputs": [],
   "source": [
    "#Graphical analysis\n",
    "\n",
    "fig = sm.graphics.plot_ccpr(results, \"Invest\")\n",
    "fig.tight_layout(pad=1.0)"
   ]
  },
  {
   "cell_type": "markdown",
   "metadata": {},
   "source": [
    "# Higher order regression (polynomials)"
   ]
  },
  {
   "cell_type": "code",
   "execution_count": null,
   "metadata": {
    "scrolled": true
   },
   "outputs": [],
   "source": [
    "#Transform predictor data to a n-dim single arrays\n",
    "numbersList = np.zeros(shape=(len(X),1))\n",
    "for index, number in enumerate(X):\n",
    "    numbersList[[index]] = number\n",
    "numbersList\n",
    "\n",
    "#Transform predictor to polynomial\n",
    "from sklearn.preprocessing import PolynomialFeatures\n",
    "polynomial_features= PolynomialFeatures(degree=2)\n",
    "xp = polynomial_features.fit_transform(numbersList)\n",
    "xp.shape"
   ]
  },
  {
   "cell_type": "code",
   "execution_count": null,
   "metadata": {},
   "outputs": [],
   "source": [
    "numbersList"
   ]
  },
  {
   "cell_type": "code",
   "execution_count": null,
   "metadata": {
    "scrolled": true
   },
   "outputs": [],
   "source": [
    "xp"
   ]
  },
  {
   "cell_type": "code",
   "execution_count": null,
   "metadata": {},
   "outputs": [],
   "source": [
    "model = sm.OLS(Y, xp).fit()\n",
    "results_poly = model.predict(xp) \n",
    "\n",
    "results_poly.shape"
   ]
  },
  {
   "cell_type": "code",
   "execution_count": null,
   "metadata": {},
   "outputs": [],
   "source": [
    "#Non-statsmodels visualisation\n",
    "\n",
    "plt.scatter(numbersList,Y)\n",
    "plt.plot(X,results_poly)"
   ]
  },
  {
   "cell_type": "code",
   "execution_count": null,
   "metadata": {},
   "outputs": [],
   "source": [
    "print(model.summary())"
   ]
  },
  {
   "cell_type": "code",
   "execution_count": null,
   "metadata": {
    "scrolled": true
   },
   "outputs": [],
   "source": [
    "regression_check(model)\n",
    "coeff_check(model)"
   ]
  },
  {
   "cell_type": "code",
   "execution_count": null,
   "metadata": {},
   "outputs": [],
   "source": [
    "dummy_data_p = np.zeros(shape=(len(dummy_data),1))\n",
    "for index, number in enumerate(dummy_data):\n",
    "    dummy_data_p[[index]] = number\n",
    "print(dummy_data_p)\n",
    "\n",
    "polynomial_features = PolynomialFeatures(degree=2)\n",
    "dummy_data_poly = polynomial_features.fit_transform(dummy_data_p)\n",
    "dummy_data_poly"
   ]
  },
  {
   "cell_type": "code",
   "execution_count": null,
   "metadata": {},
   "outputs": [],
   "source": [
    "print(model.predict(dummy_data_poly))\n",
    "print(results.predict(pr_data))"
   ]
  },
  {
   "cell_type": "markdown",
   "metadata": {},
   "source": [
    "# Multiple linear regression"
   ]
  },
  {
   "cell_type": "code",
   "execution_count": null,
   "metadata": {},
   "outputs": [],
   "source": [
    "ds = pd.read_csv(\"multiple_dataset.csv\")"
   ]
  },
  {
   "cell_type": "code",
   "execution_count": null,
   "metadata": {},
   "outputs": [],
   "source": [
    "ds"
   ]
  },
  {
   "cell_type": "code",
   "execution_count": null,
   "metadata": {},
   "outputs": [],
   "source": [
    "Y = ds['Y']\n",
    "X1 = ds['Х1']\n",
    "X2 = ds['Х2']\n",
    "X3 = ds['Х3']\n",
    "\n"
   ]
  },
  {
   "cell_type": "code",
   "execution_count": null,
   "metadata": {},
   "outputs": [],
   "source": [
    "#Joining all predictors as one column\n",
    "\n",
    "joint_x = np.column_stack((X1, X2, X3, np.ones(len(X1))))"
   ]
  },
  {
   "cell_type": "code",
   "execution_count": null,
   "metadata": {},
   "outputs": [],
   "source": [
    "joint_x"
   ]
  },
  {
   "cell_type": "code",
   "execution_count": null,
   "metadata": {},
   "outputs": [],
   "source": [
    "res = sm.OLS(Y, joint_x).fit()\n",
    "print(res.summary())"
   ]
  },
  {
   "cell_type": "code",
   "execution_count": null,
   "metadata": {
    "scrolled": true
   },
   "outputs": [],
   "source": [
    "regression_check(res)\n",
    "coeff_check(res)"
   ]
  },
  {
   "cell_type": "markdown",
   "metadata": {},
   "source": [
    "We want to create new magazine, we think that\n",
    "1) is planned no. readers will be around 8500;\n",
    "2) Only 20% out them will be males;\n",
    "3) 30000 is median income;"
   ]
  },
  {
   "cell_type": "code",
   "execution_count": null,
   "metadata": {},
   "outputs": [],
   "source": [
    "print(res.predict([8500, 20, 30000, 1]))"
   ]
  },
  {
   "cell_type": "markdown",
   "metadata": {},
   "source": [
    "## Multicollinearity\n",
    "\n",
    "Check by VIF - if greater than 5, then the explanatory variable is highly collinear with the other explanatory variables, and the parameter estimates will have large standard errors because of this, so the correctness of results is under a big question."
   ]
  },
  {
   "cell_type": "code",
   "execution_count": null,
   "metadata": {
    "scrolled": true
   },
   "outputs": [],
   "source": [
    "#Checking for multicollinearity (const excluded)\n",
    "print(res.condition_number)\n",
    "\n",
    "from statsmodels.stats.outliers_influence import variance_inflation_factor\n",
    "vif = [variance_inflation_factor(joint_x, i) for i in range(joint_x.shape[1])]\n",
    "print(vif[:-1])\n"
   ]
  },
  {
   "cell_type": "markdown",
   "metadata": {},
   "source": [
    "## Influence plot\n",
    "\n",
    "The plot identified the influential observation as 32 and 47. If exclude the 32nd and 47th case from the analysis, the slope coefficient changes as well as R2 will go up!\n"
   ]
  },
  {
   "cell_type": "code",
   "execution_count": null,
   "metadata": {
    "scrolled": false
   },
   "outputs": [],
   "source": [
    "fig = sm.graphics.influence_plot(res, criterion=\"cooks\")\n",
    "fig.tight_layout(pad=1.0)"
   ]
  },
  {
   "cell_type": "code",
   "execution_count": null,
   "metadata": {},
   "outputs": [],
   "source": [
    "from statsmodels.graphics.regressionplots import plot_leverage_resid2\n",
    "ax = figsize=(15, 5)\n",
    "fig = plot_leverage_resid2(res, ax = ax)\n"
   ]
  },
  {
   "cell_type": "code",
   "execution_count": null,
   "metadata": {},
   "outputs": [],
   "source": [
    "fig = sm.graphics.plot_partregress_grid(res)\n",
    "fig.tight_layout(pad=1.0)"
   ]
  },
  {
   "cell_type": "markdown",
   "metadata": {},
   "source": [
    "# Data standartization and standardized regression"
   ]
  },
  {
   "cell_type": "code",
   "execution_count": null,
   "metadata": {},
   "outputs": [],
   "source": [
    "from scipy import stats\n",
    "# standardizing dataframe\n",
    "df_z = ds.select_dtypes(include=[np.number]).dropna().apply(stats.zscore)\n",
    "\n",
    "df_z\n",
    "\n",
    "ZY = df_z['Y']\n",
    "ZX1 = df_z['Х1']\n",
    "ZX2 = df_z['Х2']\n",
    "ZX3 = df_z['Х3']\n",
    "\n",
    "joint_zx = np.column_stack((ZX1, ZX2, ZX3, np.ones(len(ZX1))))"
   ]
  },
  {
   "cell_type": "code",
   "execution_count": null,
   "metadata": {
    "scrolled": false
   },
   "outputs": [],
   "source": [
    "joint_zx"
   ]
  },
  {
   "cell_type": "code",
   "execution_count": null,
   "metadata": {},
   "outputs": [],
   "source": [
    "res = sm.OLS(ZY, joint_zx).fit()\n",
    "print(res.summary())"
   ]
  },
  {
   "cell_type": "code",
   "execution_count": null,
   "metadata": {},
   "outputs": [],
   "source": [
    "#Absotule significane (const excluded)\n",
    "predictors = abs(res.params[:-1])\n",
    "\n",
    "print(sorted(predictors))"
   ]
  },
  {
   "cell_type": "markdown",
   "metadata": {},
   "source": [
    "#### Reduced Models"
   ]
  },
  {
   "cell_type": "code",
   "execution_count": null,
   "metadata": {},
   "outputs": [],
   "source": [
    "red_joint_x = np.delete(joint_x, 1, 1)"
   ]
  },
  {
   "cell_type": "code",
   "execution_count": null,
   "metadata": {},
   "outputs": [],
   "source": [
    "red_res = sm.OLS(Y, red_joint_x).fit()\n",
    "print(red_res.summary())"
   ]
  },
  {
   "cell_type": "code",
   "execution_count": null,
   "metadata": {},
   "outputs": [],
   "source": [
    "regression_check(red_res)\n",
    "coeff_check(red_res)"
   ]
  },
  {
   "cell_type": "code",
   "execution_count": null,
   "metadata": {},
   "outputs": [],
   "source": [
    "vif = [variance_inflation_factor(red_joint_x, i) for i in range(red_joint_x.shape[1])]\n",
    "print(vif[:-1])"
   ]
  },
  {
   "cell_type": "markdown",
   "metadata": {},
   "source": [
    "# Another analysis"
   ]
  },
  {
   "cell_type": "code",
   "execution_count": null,
   "metadata": {},
   "outputs": [],
   "source": [
    "tax_data = pd.read_csv(\"simple_regr_tax.csv\")"
   ]
  },
  {
   "cell_type": "code",
   "execution_count": null,
   "metadata": {},
   "outputs": [],
   "source": [
    "tax_data"
   ]
  },
  {
   "cell_type": "code",
   "execution_count": null,
   "metadata": {},
   "outputs": [],
   "source": [
    "tY = tax_data['Taxes']\n",
    "tX = tax_data['Population']\n",
    "tx = sm.add_constant(tX)"
   ]
  },
  {
   "cell_type": "code",
   "execution_count": null,
   "metadata": {},
   "outputs": [],
   "source": [
    "tx"
   ]
  },
  {
   "cell_type": "code",
   "execution_count": null,
   "metadata": {},
   "outputs": [],
   "source": [
    "model_tax = sm.OLS(tY, tx).fit()\n",
    "print(model_tax.summary())"
   ]
  },
  {
   "cell_type": "code",
   "execution_count": null,
   "metadata": {},
   "outputs": [],
   "source": [
    "regression_check(model_tax)\n",
    "coeff_check(model_tax)"
   ]
  },
  {
   "cell_type": "code",
   "execution_count": null,
   "metadata": {},
   "outputs": [],
   "source": [
    "model_tax.predict([1, 2300]) "
   ]
  }
 ],
 "metadata": {
  "kernelspec": {
   "display_name": "Python 3",
   "language": "python",
   "name": "python3"
  },
  "language_info": {
   "codemirror_mode": {
    "name": "ipython",
    "version": 3
   },
   "file_extension": ".py",
   "mimetype": "text/x-python",
   "name": "python",
   "nbconvert_exporter": "python",
   "pygments_lexer": "ipython3",
   "version": "3.7.3"
  }
 },
 "nbformat": 4,
 "nbformat_minor": 2
}
